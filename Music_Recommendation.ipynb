{
 "cells": [
  {
   "cell_type": "markdown",
   "id": "6413b1d5",
   "metadata": {
    "id": "6413b1d5"
   },
   "source": [
    "# Music Recommendation\n",
    "**By: ``Suraj Honkamble.``**\n",
    "### Beginner Level Tast-3"
   ]
  },
  {
   "cell_type": "code",
   "execution_count": null,
   "id": "2630011f",
   "metadata": {
    "id": "2630011f"
   },
   "outputs": [],
   "source": []
  },
  {
   "cell_type": "markdown",
   "id": "e828f0ae",
   "metadata": {
    "id": "e828f0ae"
   },
   "source": [
    "### Problem Statement : \n",
    "- In this task, you will be asked to predict the chances of a user listening to a song repetitively after the first observable listening event within a time window was triggered. If there are recurring listening event(s) triggered within a month after the user’s very first observable listening event, its target is marked 1, and 0 otherwise in the training set."
   ]
  },
  {
   "cell_type": "code",
   "execution_count": 2,
   "id": "4582b867",
   "metadata": {
    "id": "4582b867"
   },
   "outputs": [],
   "source": [
    "import pandas as pd\n",
    "import numpy as np\n",
    "#import py7zr #read 7z library"
   ]
  },
  {
   "cell_type": "markdown",
   "id": "6d262c0c",
   "metadata": {
    "id": "6d262c0c"
   },
   "source": [
    "### Extracting all 7zr Zip files"
   ]
  },
  {
   "cell_type": "code",
   "execution_count": null,
   "id": "e4eb0c78",
   "metadata": {
    "id": "e4eb0c78"
   },
   "outputs": [],
   "source": [
    "train_7zr=py7zr.SevenZipFile('D:\\\\DATA SCIENCE Internship with LGMVIP\\\\data\\\\music-recommendation-challenge\\\\train.csv.7z', mode='r')\n",
    "train_7zr.extractall(path=\"D:\\\\DATA SCIENCE Internship with LGMVIP\\\\data\\\\music-recommendation-challenge\\\\\")\n",
    "songs_7zr=py7zr.SevenZipFile('D:\\\\DATA SCIENCE Internship with LGMVIP\\\\data\\\\music-recommendation-challenge\\\\songs.csv.7z', mode='r')\n",
    "songs_7zr.extractall(path=\"D:\\\\DATA SCIENCE Internship with LGMVIP\\\\data\\\\music-recommendation-challenge\\\\\")\n",
    "songs_info_7zr=py7zr.SevenZipFile('D:\\\\DATA SCIENCE Internship with LGMVIP\\\\data\\\\music-recommendation-challenge\\\\song_extra_info.csv.7z', mode='r')\n",
    "songs_info_7zr.extractall(path=\"D:\\\\DATA SCIENCE Internship with LGMVIP\\\\data\\\\music-recommendation-challenge\\\\\")\n",
    "members_7zr=py7zr.SevenZipFile('D:\\\\DATA SCIENCE Internship with LGMVIP\\\\data\\\\music-recommendation-challenge\\\\members.csv.7z', mode='r')\n",
    "members_7zr.extractall(path=\"D:\\\\DATA SCIENCE Internship with LGMVIP\\\\data\\\\music-recommendation-challenge\\\\\")"
   ]
  },
  {
   "cell_type": "markdown",
   "id": "79b9ec41",
   "metadata": {
    "id": "79b9ec41"
   },
   "source": [
    "### Read all the required datasets"
   ]
  },
  {
   "cell_type": "code",
   "execution_count": null,
   "id": "12d28957",
   "metadata": {
    "id": "12d28957",
    "outputId": "e4f4a1f2-5bef-4c9c-ed12-6c91243c51a9"
   },
   "outputs": [
    {
     "data": {
      "text/html": [
       "<div>\n",
       "<style scoped>\n",
       "    .dataframe tbody tr th:only-of-type {\n",
       "        vertical-align: middle;\n",
       "    }\n",
       "\n",
       "    .dataframe tbody tr th {\n",
       "        vertical-align: top;\n",
       "    }\n",
       "\n",
       "    .dataframe thead th {\n",
       "        text-align: right;\n",
       "    }\n",
       "</style>\n",
       "<table border=\"1\" class=\"dataframe\">\n",
       "  <thead>\n",
       "    <tr style=\"text-align: right;\">\n",
       "      <th></th>\n",
       "      <th>msno</th>\n",
       "      <th>song_id</th>\n",
       "      <th>source_system_tab</th>\n",
       "      <th>source_screen_name</th>\n",
       "      <th>source_type</th>\n",
       "      <th>target</th>\n",
       "    </tr>\n",
       "  </thead>\n",
       "  <tbody>\n",
       "    <tr>\n",
       "      <th>0</th>\n",
       "      <td>FGtllVqz18RPiwJj/edr2gV78zirAiY/9SmYvia+kCg=</td>\n",
       "      <td>BBzumQNXUHKdEBOB7mAJuzok+IJA1c2Ryg/yzTF6tik=</td>\n",
       "      <td>explore</td>\n",
       "      <td>Explore</td>\n",
       "      <td>online-playlist</td>\n",
       "      <td>1</td>\n",
       "    </tr>\n",
       "    <tr>\n",
       "      <th>1</th>\n",
       "      <td>Xumu+NIjS6QYVxDS4/t3SawvJ7viT9hPKXmf0RtLNx8=</td>\n",
       "      <td>bhp/MpSNoqoxOIB+/l8WPqu6jldth4DIpCm3ayXnJqM=</td>\n",
       "      <td>my library</td>\n",
       "      <td>Local playlist more</td>\n",
       "      <td>local-playlist</td>\n",
       "      <td>1</td>\n",
       "    </tr>\n",
       "    <tr>\n",
       "      <th>2</th>\n",
       "      <td>Xumu+NIjS6QYVxDS4/t3SawvJ7viT9hPKXmf0RtLNx8=</td>\n",
       "      <td>JNWfrrC7zNN7BdMpsISKa4Mw+xVJYNnxXh3/Epw7QgY=</td>\n",
       "      <td>my library</td>\n",
       "      <td>Local playlist more</td>\n",
       "      <td>local-playlist</td>\n",
       "      <td>1</td>\n",
       "    </tr>\n",
       "    <tr>\n",
       "      <th>3</th>\n",
       "      <td>Xumu+NIjS6QYVxDS4/t3SawvJ7viT9hPKXmf0RtLNx8=</td>\n",
       "      <td>2A87tzfnJTSWqD7gIZHisolhe4DMdzkbd6LzO1KHjNs=</td>\n",
       "      <td>my library</td>\n",
       "      <td>Local playlist more</td>\n",
       "      <td>local-playlist</td>\n",
       "      <td>1</td>\n",
       "    </tr>\n",
       "    <tr>\n",
       "      <th>4</th>\n",
       "      <td>FGtllVqz18RPiwJj/edr2gV78zirAiY/9SmYvia+kCg=</td>\n",
       "      <td>3qm6XTZ6MOCU11x8FIVbAGH5l5uMkT3/ZalWG1oo2Gc=</td>\n",
       "      <td>explore</td>\n",
       "      <td>Explore</td>\n",
       "      <td>online-playlist</td>\n",
       "      <td>1</td>\n",
       "    </tr>\n",
       "  </tbody>\n",
       "</table>\n",
       "</div>"
      ],
      "text/plain": [
       "                                           msno  \\\n",
       "0  FGtllVqz18RPiwJj/edr2gV78zirAiY/9SmYvia+kCg=   \n",
       "1  Xumu+NIjS6QYVxDS4/t3SawvJ7viT9hPKXmf0RtLNx8=   \n",
       "2  Xumu+NIjS6QYVxDS4/t3SawvJ7viT9hPKXmf0RtLNx8=   \n",
       "3  Xumu+NIjS6QYVxDS4/t3SawvJ7viT9hPKXmf0RtLNx8=   \n",
       "4  FGtllVqz18RPiwJj/edr2gV78zirAiY/9SmYvia+kCg=   \n",
       "\n",
       "                                        song_id source_system_tab  \\\n",
       "0  BBzumQNXUHKdEBOB7mAJuzok+IJA1c2Ryg/yzTF6tik=           explore   \n",
       "1  bhp/MpSNoqoxOIB+/l8WPqu6jldth4DIpCm3ayXnJqM=        my library   \n",
       "2  JNWfrrC7zNN7BdMpsISKa4Mw+xVJYNnxXh3/Epw7QgY=        my library   \n",
       "3  2A87tzfnJTSWqD7gIZHisolhe4DMdzkbd6LzO1KHjNs=        my library   \n",
       "4  3qm6XTZ6MOCU11x8FIVbAGH5l5uMkT3/ZalWG1oo2Gc=           explore   \n",
       "\n",
       "    source_screen_name      source_type  target  \n",
       "0              Explore  online-playlist       1  \n",
       "1  Local playlist more   local-playlist       1  \n",
       "2  Local playlist more   local-playlist       1  \n",
       "3  Local playlist more   local-playlist       1  \n",
       "4              Explore  online-playlist       1  "
      ]
     },
     "execution_count": 12,
     "metadata": {},
     "output_type": "execute_result"
    }
   ],
   "source": [
    "train=pd.read_csv('D:\\\\DATA SCIENCE Internship with LGMVIP\\\\data\\\\music-recommendation-challenge\\\\train.csv',)\n",
    "train.head()"
   ]
  },
  {
   "cell_type": "code",
   "execution_count": null,
   "id": "0b64ccc4",
   "metadata": {
    "id": "0b64ccc4",
    "outputId": "77096308-77b0-45a3-a8f7-972cd29316b3"
   },
   "outputs": [
    {
     "data": {
      "text/plain": [
       "(7377418, 6)"
      ]
     },
     "execution_count": 26,
     "metadata": {},
     "output_type": "execute_result"
    }
   ],
   "source": [
    "train.shape"
   ]
  },
  {
   "cell_type": "markdown",
   "id": "e18ceace",
   "metadata": {
    "id": "e18ceace"
   },
   "source": [
    "#### Rename msno to user_id"
   ]
  },
  {
   "cell_type": "code",
   "execution_count": null,
   "id": "306cb98d",
   "metadata": {
    "id": "306cb98d"
   },
   "outputs": [],
   "source": [
    "train.rename({'msno':'user_id'}, axis=1, inplace=True)"
   ]
  },
  {
   "cell_type": "markdown",
   "id": "fdb254d5",
   "metadata": {
    "id": "fdb254d5"
   },
   "source": [
    "### Read Songs dataset"
   ]
  },
  {
   "cell_type": "code",
   "execution_count": null,
   "id": "020e5edc",
   "metadata": {
    "id": "020e5edc",
    "outputId": "9ffd2e20-6e7d-412c-932c-2e3156d8b6bf"
   },
   "outputs": [
    {
     "data": {
      "text/html": [
       "<div>\n",
       "<style scoped>\n",
       "    .dataframe tbody tr th:only-of-type {\n",
       "        vertical-align: middle;\n",
       "    }\n",
       "\n",
       "    .dataframe tbody tr th {\n",
       "        vertical-align: top;\n",
       "    }\n",
       "\n",
       "    .dataframe thead th {\n",
       "        text-align: right;\n",
       "    }\n",
       "</style>\n",
       "<table border=\"1\" class=\"dataframe\">\n",
       "  <thead>\n",
       "    <tr style=\"text-align: right;\">\n",
       "      <th></th>\n",
       "      <th>song_id</th>\n",
       "      <th>song_length</th>\n",
       "      <th>genre_ids</th>\n",
       "      <th>artist_name</th>\n",
       "      <th>composer</th>\n",
       "      <th>lyricist</th>\n",
       "      <th>language</th>\n",
       "    </tr>\n",
       "  </thead>\n",
       "  <tbody>\n",
       "    <tr>\n",
       "      <th>0</th>\n",
       "      <td>CXoTN1eb7AI+DntdU1vbcwGRV4SCIDxZu+YD8JP8r4E=</td>\n",
       "      <td>247640</td>\n",
       "      <td>465</td>\n",
       "      <td>張信哲 (Jeff Chang)</td>\n",
       "      <td>董貞</td>\n",
       "      <td>何啟弘</td>\n",
       "      <td>3.0</td>\n",
       "    </tr>\n",
       "    <tr>\n",
       "      <th>1</th>\n",
       "      <td>o0kFgae9QtnYgRkVPqLJwa05zIhRlUjfF7O1tDw0ZDU=</td>\n",
       "      <td>197328</td>\n",
       "      <td>444</td>\n",
       "      <td>BLACKPINK</td>\n",
       "      <td>TEDDY|  FUTURE BOUNCE|  Bekuh BOOM</td>\n",
       "      <td>TEDDY</td>\n",
       "      <td>31.0</td>\n",
       "    </tr>\n",
       "    <tr>\n",
       "      <th>2</th>\n",
       "      <td>DwVvVurfpuz+XPuFvucclVQEyPqcpUkHR0ne1RQzPs0=</td>\n",
       "      <td>231781</td>\n",
       "      <td>465</td>\n",
       "      <td>SUPER JUNIOR</td>\n",
       "      <td>NaN</td>\n",
       "      <td>NaN</td>\n",
       "      <td>31.0</td>\n",
       "    </tr>\n",
       "    <tr>\n",
       "      <th>3</th>\n",
       "      <td>dKMBWoZyScdxSkihKG+Vf47nc18N9q4m58+b4e7dSSE=</td>\n",
       "      <td>273554</td>\n",
       "      <td>465</td>\n",
       "      <td>S.H.E</td>\n",
       "      <td>湯小康</td>\n",
       "      <td>徐世珍</td>\n",
       "      <td>3.0</td>\n",
       "    </tr>\n",
       "    <tr>\n",
       "      <th>4</th>\n",
       "      <td>W3bqWd3T+VeHFzHAUfARgW9AvVRaF4N5Yzm4Mr6Eo/o=</td>\n",
       "      <td>140329</td>\n",
       "      <td>726</td>\n",
       "      <td>貴族精選</td>\n",
       "      <td>Traditional</td>\n",
       "      <td>Traditional</td>\n",
       "      <td>52.0</td>\n",
       "    </tr>\n",
       "  </tbody>\n",
       "</table>\n",
       "</div>"
      ],
      "text/plain": [
       "                                        song_id  song_length genre_ids  \\\n",
       "0  CXoTN1eb7AI+DntdU1vbcwGRV4SCIDxZu+YD8JP8r4E=       247640       465   \n",
       "1  o0kFgae9QtnYgRkVPqLJwa05zIhRlUjfF7O1tDw0ZDU=       197328       444   \n",
       "2  DwVvVurfpuz+XPuFvucclVQEyPqcpUkHR0ne1RQzPs0=       231781       465   \n",
       "3  dKMBWoZyScdxSkihKG+Vf47nc18N9q4m58+b4e7dSSE=       273554       465   \n",
       "4  W3bqWd3T+VeHFzHAUfARgW9AvVRaF4N5Yzm4Mr6Eo/o=       140329       726   \n",
       "\n",
       "        artist_name                            composer     lyricist  language  \n",
       "0  張信哲 (Jeff Chang)                                  董貞          何啟弘       3.0  \n",
       "1         BLACKPINK  TEDDY|  FUTURE BOUNCE|  Bekuh BOOM        TEDDY      31.0  \n",
       "2      SUPER JUNIOR                                 NaN          NaN      31.0  \n",
       "3             S.H.E                                 湯小康          徐世珍       3.0  \n",
       "4              貴族精選                         Traditional  Traditional      52.0  "
      ]
     },
     "execution_count": 18,
     "metadata": {},
     "output_type": "execute_result"
    }
   ],
   "source": [
    "songs=pd.read_csv('D:\\\\DATA SCIENCE Internship with LGMVIP\\\\data\\\\music-recommendation-challenge\\\\songs.csv',)\n",
    "songs.head()"
   ]
  },
  {
   "cell_type": "code",
   "execution_count": null,
   "id": "fe120114",
   "metadata": {
    "id": "fe120114",
    "outputId": "60627613-b9a8-48f2-a0af-0c9483b0aa3a"
   },
   "outputs": [
    {
     "data": {
      "text/plain": [
       "(2296320, 7)"
      ]
     },
     "execution_count": 19,
     "metadata": {},
     "output_type": "execute_result"
    }
   ],
   "source": [
    "songs.shape"
   ]
  },
  {
   "cell_type": "markdown",
   "id": "7ede8ae2",
   "metadata": {
    "id": "7ede8ae2"
   },
   "source": [
    "### Read Extra song info dataset"
   ]
  },
  {
   "cell_type": "code",
   "execution_count": null,
   "id": "1e80274b",
   "metadata": {
    "id": "1e80274b",
    "outputId": "9dfa9553-3ee6-4946-9307-a61a62f6f74d"
   },
   "outputs": [
    {
     "data": {
      "text/html": [
       "<div>\n",
       "<style scoped>\n",
       "    .dataframe tbody tr th:only-of-type {\n",
       "        vertical-align: middle;\n",
       "    }\n",
       "\n",
       "    .dataframe tbody tr th {\n",
       "        vertical-align: top;\n",
       "    }\n",
       "\n",
       "    .dataframe thead th {\n",
       "        text-align: right;\n",
       "    }\n",
       "</style>\n",
       "<table border=\"1\" class=\"dataframe\">\n",
       "  <thead>\n",
       "    <tr style=\"text-align: right;\">\n",
       "      <th></th>\n",
       "      <th>song_id</th>\n",
       "      <th>name</th>\n",
       "      <th>isrc</th>\n",
       "    </tr>\n",
       "  </thead>\n",
       "  <tbody>\n",
       "    <tr>\n",
       "      <th>0</th>\n",
       "      <td>LP7pLJoJFBvyuUwvu+oLzjT+bI+UeBPURCecJsX1jjs=</td>\n",
       "      <td>我們</td>\n",
       "      <td>TWUM71200043</td>\n",
       "    </tr>\n",
       "    <tr>\n",
       "      <th>1</th>\n",
       "      <td>ClazTFnk6r0Bnuie44bocdNMM3rdlrq0bCGAsGUWcHE=</td>\n",
       "      <td>Let Me Love You</td>\n",
       "      <td>QMZSY1600015</td>\n",
       "    </tr>\n",
       "    <tr>\n",
       "      <th>2</th>\n",
       "      <td>u2ja/bZE3zhCGxvbbOB3zOoUjx27u40cf5g09UXMoKQ=</td>\n",
       "      <td>原諒我</td>\n",
       "      <td>TWA530887303</td>\n",
       "    </tr>\n",
       "    <tr>\n",
       "      <th>3</th>\n",
       "      <td>92Fqsy0+p6+RHe2EoLKjHahORHR1Kq1TBJoClW9v+Ts=</td>\n",
       "      <td>Classic</td>\n",
       "      <td>USSM11301446</td>\n",
       "    </tr>\n",
       "    <tr>\n",
       "      <th>4</th>\n",
       "      <td>0QFmz/+rJy1Q56C1DuYqT9hKKqi5TUqx0sN0IwvoHrw=</td>\n",
       "      <td>愛投羅網</td>\n",
       "      <td>TWA471306001</td>\n",
       "    </tr>\n",
       "  </tbody>\n",
       "</table>\n",
       "</div>"
      ],
      "text/plain": [
       "                                        song_id             name          isrc\n",
       "0  LP7pLJoJFBvyuUwvu+oLzjT+bI+UeBPURCecJsX1jjs=               我們  TWUM71200043\n",
       "1  ClazTFnk6r0Bnuie44bocdNMM3rdlrq0bCGAsGUWcHE=  Let Me Love You  QMZSY1600015\n",
       "2  u2ja/bZE3zhCGxvbbOB3zOoUjx27u40cf5g09UXMoKQ=              原諒我  TWA530887303\n",
       "3  92Fqsy0+p6+RHe2EoLKjHahORHR1Kq1TBJoClW9v+Ts=          Classic  USSM11301446\n",
       "4  0QFmz/+rJy1Q56C1DuYqT9hKKqi5TUqx0sN0IwvoHrw=             愛投羅網  TWA471306001"
      ]
     },
     "execution_count": 20,
     "metadata": {},
     "output_type": "execute_result"
    }
   ],
   "source": [
    "songs_info=pd.read_csv('D:\\\\DATA SCIENCE Internship with LGMVIP\\\\data\\\\music-recommendation-challenge\\\\song_extra_info.csv',)\n",
    "songs_info.head()"
   ]
  },
  {
   "cell_type": "code",
   "execution_count": null,
   "id": "f6a8738e",
   "metadata": {
    "id": "f6a8738e",
    "outputId": "3d2851b1-1ba2-4461-c974-c9daf40bd36a"
   },
   "outputs": [
    {
     "data": {
      "text/plain": [
       "(2295971, 3)"
      ]
     },
     "execution_count": 21,
     "metadata": {},
     "output_type": "execute_result"
    }
   ],
   "source": [
    "songs_info.shape"
   ]
  },
  {
   "cell_type": "markdown",
   "id": "c3474ebe",
   "metadata": {
    "id": "c3474ebe"
   },
   "source": [
    "### Read Members dataset"
   ]
  },
  {
   "cell_type": "code",
   "execution_count": null,
   "id": "ba99308b",
   "metadata": {
    "id": "ba99308b",
    "outputId": "e9847edb-8573-4e1f-c7aa-5479aee3f599"
   },
   "outputs": [
    {
     "data": {
      "text/html": [
       "<div>\n",
       "<style scoped>\n",
       "    .dataframe tbody tr th:only-of-type {\n",
       "        vertical-align: middle;\n",
       "    }\n",
       "\n",
       "    .dataframe tbody tr th {\n",
       "        vertical-align: top;\n",
       "    }\n",
       "\n",
       "    .dataframe thead th {\n",
       "        text-align: right;\n",
       "    }\n",
       "</style>\n",
       "<table border=\"1\" class=\"dataframe\">\n",
       "  <thead>\n",
       "    <tr style=\"text-align: right;\">\n",
       "      <th></th>\n",
       "      <th>msno</th>\n",
       "      <th>city</th>\n",
       "      <th>bd</th>\n",
       "      <th>gender</th>\n",
       "      <th>registered_via</th>\n",
       "      <th>registration_init_time</th>\n",
       "      <th>expiration_date</th>\n",
       "    </tr>\n",
       "  </thead>\n",
       "  <tbody>\n",
       "    <tr>\n",
       "      <th>0</th>\n",
       "      <td>XQxgAYj3klVKjR3oxPPXYYFp4soD4TuBghkhMTD4oTw=</td>\n",
       "      <td>1</td>\n",
       "      <td>0</td>\n",
       "      <td>NaN</td>\n",
       "      <td>7</td>\n",
       "      <td>20110820</td>\n",
       "      <td>20170920</td>\n",
       "    </tr>\n",
       "    <tr>\n",
       "      <th>1</th>\n",
       "      <td>UizsfmJb9mV54qE9hCYyU07Va97c0lCRLEQX3ae+ztM=</td>\n",
       "      <td>1</td>\n",
       "      <td>0</td>\n",
       "      <td>NaN</td>\n",
       "      <td>7</td>\n",
       "      <td>20150628</td>\n",
       "      <td>20170622</td>\n",
       "    </tr>\n",
       "    <tr>\n",
       "      <th>2</th>\n",
       "      <td>D8nEhsIOBSoE6VthTaqDX8U6lqjJ7dLdr72mOyLya2A=</td>\n",
       "      <td>1</td>\n",
       "      <td>0</td>\n",
       "      <td>NaN</td>\n",
       "      <td>4</td>\n",
       "      <td>20160411</td>\n",
       "      <td>20170712</td>\n",
       "    </tr>\n",
       "    <tr>\n",
       "      <th>3</th>\n",
       "      <td>mCuD+tZ1hERA/o5GPqk38e041J8ZsBaLcu7nGoIIvhI=</td>\n",
       "      <td>1</td>\n",
       "      <td>0</td>\n",
       "      <td>NaN</td>\n",
       "      <td>9</td>\n",
       "      <td>20150906</td>\n",
       "      <td>20150907</td>\n",
       "    </tr>\n",
       "    <tr>\n",
       "      <th>4</th>\n",
       "      <td>q4HRBfVSssAFS9iRfxWrohxuk9kCYMKjHOEagUMV6rQ=</td>\n",
       "      <td>1</td>\n",
       "      <td>0</td>\n",
       "      <td>NaN</td>\n",
       "      <td>4</td>\n",
       "      <td>20170126</td>\n",
       "      <td>20170613</td>\n",
       "    </tr>\n",
       "  </tbody>\n",
       "</table>\n",
       "</div>"
      ],
      "text/plain": [
       "                                           msno  city  bd gender  \\\n",
       "0  XQxgAYj3klVKjR3oxPPXYYFp4soD4TuBghkhMTD4oTw=     1   0    NaN   \n",
       "1  UizsfmJb9mV54qE9hCYyU07Va97c0lCRLEQX3ae+ztM=     1   0    NaN   \n",
       "2  D8nEhsIOBSoE6VthTaqDX8U6lqjJ7dLdr72mOyLya2A=     1   0    NaN   \n",
       "3  mCuD+tZ1hERA/o5GPqk38e041J8ZsBaLcu7nGoIIvhI=     1   0    NaN   \n",
       "4  q4HRBfVSssAFS9iRfxWrohxuk9kCYMKjHOEagUMV6rQ=     1   0    NaN   \n",
       "\n",
       "   registered_via  registration_init_time  expiration_date  \n",
       "0               7                20110820         20170920  \n",
       "1               7                20150628         20170622  \n",
       "2               4                20160411         20170712  \n",
       "3               9                20150906         20150907  \n",
       "4               4                20170126         20170613  "
      ]
     },
     "execution_count": 22,
     "metadata": {},
     "output_type": "execute_result"
    }
   ],
   "source": [
    "user=pd.read_csv('D:\\\\DATA SCIENCE Internship with LGMVIP\\\\data\\\\music-recommendation-challenge\\\\members.csv',)\n",
    "user.head()"
   ]
  },
  {
   "cell_type": "code",
   "execution_count": null,
   "id": "69d39edf",
   "metadata": {
    "id": "69d39edf",
    "outputId": "d2d62138-a77f-4c11-cb50-f539af9c8411"
   },
   "outputs": [
    {
     "data": {
      "text/plain": [
       "(34403, 7)"
      ]
     },
     "execution_count": 24,
     "metadata": {},
     "output_type": "execute_result"
    }
   ],
   "source": [
    "user.shape"
   ]
  },
  {
   "cell_type": "markdown",
   "id": "a7f689f3",
   "metadata": {
    "id": "a7f689f3"
   },
   "source": [
    "### From the problem statement we already know that if the user listening to the songs within a month then it is marked as 1 so here we actually do not need any date related columns."
   ]
  },
  {
   "cell_type": "code",
   "execution_count": null,
   "id": "ee56f748",
   "metadata": {
    "id": "ee56f748"
   },
   "outputs": [],
   "source": [
    "user.drop(['registration_init_time','expiration_date'], axis=1, inplace=True)\n",
    "user.rename({'msno':'user_id'}, axis=1, inplace=True)"
   ]
  },
  {
   "cell_type": "code",
   "execution_count": null,
   "id": "53431387",
   "metadata": {
    "id": "53431387"
   },
   "outputs": [],
   "source": []
  },
  {
   "cell_type": "markdown",
   "id": "5b5ba14d",
   "metadata": {
    "id": "5b5ba14d"
   },
   "source": [
    "### Merge the above all datasets"
   ]
  },
  {
   "cell_type": "code",
   "execution_count": null,
   "id": "528f68d6",
   "metadata": {
    "id": "528f68d6",
    "outputId": "12487a74-82b4-442f-dad4-99ea09c14d59"
   },
   "outputs": [
    {
     "data": {
      "text/html": [
       "<div>\n",
       "<style scoped>\n",
       "    .dataframe tbody tr th:only-of-type {\n",
       "        vertical-align: middle;\n",
       "    }\n",
       "\n",
       "    .dataframe tbody tr th {\n",
       "        vertical-align: top;\n",
       "    }\n",
       "\n",
       "    .dataframe thead th {\n",
       "        text-align: right;\n",
       "    }\n",
       "</style>\n",
       "<table border=\"1\" class=\"dataframe\">\n",
       "  <thead>\n",
       "    <tr style=\"text-align: right;\">\n",
       "      <th></th>\n",
       "      <th>song_id</th>\n",
       "      <th>song_length</th>\n",
       "      <th>genre_ids</th>\n",
       "      <th>artist_name</th>\n",
       "      <th>composer</th>\n",
       "      <th>lyricist</th>\n",
       "      <th>language</th>\n",
       "      <th>name</th>\n",
       "      <th>isrc</th>\n",
       "    </tr>\n",
       "  </thead>\n",
       "  <tbody>\n",
       "    <tr>\n",
       "      <th>0</th>\n",
       "      <td>CXoTN1eb7AI+DntdU1vbcwGRV4SCIDxZu+YD8JP8r4E=</td>\n",
       "      <td>247640</td>\n",
       "      <td>465</td>\n",
       "      <td>張信哲 (Jeff Chang)</td>\n",
       "      <td>董貞</td>\n",
       "      <td>何啟弘</td>\n",
       "      <td>3.0</td>\n",
       "      <td>焚情</td>\n",
       "      <td>TWB531410010</td>\n",
       "    </tr>\n",
       "    <tr>\n",
       "      <th>1</th>\n",
       "      <td>o0kFgae9QtnYgRkVPqLJwa05zIhRlUjfF7O1tDw0ZDU=</td>\n",
       "      <td>197328</td>\n",
       "      <td>444</td>\n",
       "      <td>BLACKPINK</td>\n",
       "      <td>TEDDY|  FUTURE BOUNCE|  Bekuh BOOM</td>\n",
       "      <td>TEDDY</td>\n",
       "      <td>31.0</td>\n",
       "      <td>PLAYING WITH FIRE</td>\n",
       "      <td>NaN</td>\n",
       "    </tr>\n",
       "    <tr>\n",
       "      <th>2</th>\n",
       "      <td>DwVvVurfpuz+XPuFvucclVQEyPqcpUkHR0ne1RQzPs0=</td>\n",
       "      <td>231781</td>\n",
       "      <td>465</td>\n",
       "      <td>SUPER JUNIOR</td>\n",
       "      <td>NaN</td>\n",
       "      <td>NaN</td>\n",
       "      <td>31.0</td>\n",
       "      <td>SORRY| SORRY</td>\n",
       "      <td>NaN</td>\n",
       "    </tr>\n",
       "    <tr>\n",
       "      <th>3</th>\n",
       "      <td>dKMBWoZyScdxSkihKG+Vf47nc18N9q4m58+b4e7dSSE=</td>\n",
       "      <td>273554</td>\n",
       "      <td>465</td>\n",
       "      <td>S.H.E</td>\n",
       "      <td>湯小康</td>\n",
       "      <td>徐世珍</td>\n",
       "      <td>3.0</td>\n",
       "      <td>愛我的資格</td>\n",
       "      <td>TWC950206108</td>\n",
       "    </tr>\n",
       "    <tr>\n",
       "      <th>4</th>\n",
       "      <td>W3bqWd3T+VeHFzHAUfARgW9AvVRaF4N5Yzm4Mr6Eo/o=</td>\n",
       "      <td>140329</td>\n",
       "      <td>726</td>\n",
       "      <td>貴族精選</td>\n",
       "      <td>Traditional</td>\n",
       "      <td>Traditional</td>\n",
       "      <td>52.0</td>\n",
       "      <td>Mary Had a Little Lamb</td>\n",
       "      <td>NaN</td>\n",
       "    </tr>\n",
       "  </tbody>\n",
       "</table>\n",
       "</div>"
      ],
      "text/plain": [
       "                                        song_id  song_length genre_ids  \\\n",
       "0  CXoTN1eb7AI+DntdU1vbcwGRV4SCIDxZu+YD8JP8r4E=       247640       465   \n",
       "1  o0kFgae9QtnYgRkVPqLJwa05zIhRlUjfF7O1tDw0ZDU=       197328       444   \n",
       "2  DwVvVurfpuz+XPuFvucclVQEyPqcpUkHR0ne1RQzPs0=       231781       465   \n",
       "3  dKMBWoZyScdxSkihKG+Vf47nc18N9q4m58+b4e7dSSE=       273554       465   \n",
       "4  W3bqWd3T+VeHFzHAUfARgW9AvVRaF4N5Yzm4Mr6Eo/o=       140329       726   \n",
       "\n",
       "        artist_name                            composer     lyricist  \\\n",
       "0  張信哲 (Jeff Chang)                                  董貞          何啟弘   \n",
       "1         BLACKPINK  TEDDY|  FUTURE BOUNCE|  Bekuh BOOM        TEDDY   \n",
       "2      SUPER JUNIOR                                 NaN          NaN   \n",
       "3             S.H.E                                 湯小康          徐世珍   \n",
       "4              貴族精選                         Traditional  Traditional   \n",
       "\n",
       "   language                    name          isrc  \n",
       "0       3.0                      焚情  TWB531410010  \n",
       "1      31.0       PLAYING WITH FIRE           NaN  \n",
       "2      31.0            SORRY| SORRY           NaN  \n",
       "3       3.0                   愛我的資格  TWC950206108  \n",
       "4      52.0  Mary Had a Little Lamb           NaN  "
      ]
     },
     "execution_count": 27,
     "metadata": {},
     "output_type": "execute_result"
    }
   ],
   "source": [
    "#merge song ans song_info\n",
    "df=pd.merge(songs, songs_info, how='inner', on='song_id')\n",
    "df.head()"
   ]
  },
  {
   "cell_type": "code",
   "execution_count": null,
   "id": "7da70cc2",
   "metadata": {
    "id": "7da70cc2",
    "outputId": "9cbfb4ac-4ac5-4dc8-eb5d-88f8a40008bc"
   },
   "outputs": [
    {
     "data": {
      "text/plain": [
       "(2295422, 9)"
      ]
     },
     "execution_count": 28,
     "metadata": {},
     "output_type": "execute_result"
    }
   ],
   "source": [
    "df.shape"
   ]
  },
  {
   "cell_type": "code",
   "execution_count": null,
   "id": "0dd2572c",
   "metadata": {
    "id": "0dd2572c",
    "outputId": "06e6598d-8a67-4abe-d05e-b60099941b8e"
   },
   "outputs": [
    {
     "data": {
      "text/html": [
       "<div>\n",
       "<style scoped>\n",
       "    .dataframe tbody tr th:only-of-type {\n",
       "        vertical-align: middle;\n",
       "    }\n",
       "\n",
       "    .dataframe tbody tr th {\n",
       "        vertical-align: top;\n",
       "    }\n",
       "\n",
       "    .dataframe thead th {\n",
       "        text-align: right;\n",
       "    }\n",
       "</style>\n",
       "<table border=\"1\" class=\"dataframe\">\n",
       "  <thead>\n",
       "    <tr style=\"text-align: right;\">\n",
       "      <th></th>\n",
       "      <th>song_id</th>\n",
       "      <th>song_length</th>\n",
       "      <th>genre_ids</th>\n",
       "      <th>artist_name</th>\n",
       "      <th>composer</th>\n",
       "      <th>lyricist</th>\n",
       "      <th>language</th>\n",
       "      <th>name</th>\n",
       "      <th>isrc</th>\n",
       "      <th>user_id</th>\n",
       "      <th>source_system_tab</th>\n",
       "      <th>source_screen_name</th>\n",
       "      <th>source_type</th>\n",
       "      <th>target</th>\n",
       "    </tr>\n",
       "  </thead>\n",
       "  <tbody>\n",
       "    <tr>\n",
       "      <th>0</th>\n",
       "      <td>CXoTN1eb7AI+DntdU1vbcwGRV4SCIDxZu+YD8JP8r4E=</td>\n",
       "      <td>247640</td>\n",
       "      <td>465</td>\n",
       "      <td>張信哲 (Jeff Chang)</td>\n",
       "      <td>董貞</td>\n",
       "      <td>何啟弘</td>\n",
       "      <td>3.0</td>\n",
       "      <td>焚情</td>\n",
       "      <td>TWB531410010</td>\n",
       "      <td>qdYIsQjR8AMhKuJaC0T+Quuqaj9nWTOcbd8ydI0/jiA=</td>\n",
       "      <td>my library</td>\n",
       "      <td>Local playlist more</td>\n",
       "      <td>local-library</td>\n",
       "      <td>0</td>\n",
       "    </tr>\n",
       "    <tr>\n",
       "      <th>1</th>\n",
       "      <td>CXoTN1eb7AI+DntdU1vbcwGRV4SCIDxZu+YD8JP8r4E=</td>\n",
       "      <td>247640</td>\n",
       "      <td>465</td>\n",
       "      <td>張信哲 (Jeff Chang)</td>\n",
       "      <td>董貞</td>\n",
       "      <td>何啟弘</td>\n",
       "      <td>3.0</td>\n",
       "      <td>焚情</td>\n",
       "      <td>TWB531410010</td>\n",
       "      <td>VkQT93ug8I5F2oP6EpLCq5g2eqn5CD/uMnEFlRcGIF4=</td>\n",
       "      <td>my library</td>\n",
       "      <td>Local playlist more</td>\n",
       "      <td>local-library</td>\n",
       "      <td>1</td>\n",
       "    </tr>\n",
       "    <tr>\n",
       "      <th>2</th>\n",
       "      <td>CXoTN1eb7AI+DntdU1vbcwGRV4SCIDxZu+YD8JP8r4E=</td>\n",
       "      <td>247640</td>\n",
       "      <td>465</td>\n",
       "      <td>張信哲 (Jeff Chang)</td>\n",
       "      <td>董貞</td>\n",
       "      <td>何啟弘</td>\n",
       "      <td>3.0</td>\n",
       "      <td>焚情</td>\n",
       "      <td>TWB531410010</td>\n",
       "      <td>YRYwu93fA3tqG2798IRr6nhK8wqTl6lMKrg84+8jBR0=</td>\n",
       "      <td>discover</td>\n",
       "      <td>Online playlist more</td>\n",
       "      <td>online-playlist</td>\n",
       "      <td>0</td>\n",
       "    </tr>\n",
       "    <tr>\n",
       "      <th>3</th>\n",
       "      <td>CXoTN1eb7AI+DntdU1vbcwGRV4SCIDxZu+YD8JP8r4E=</td>\n",
       "      <td>247640</td>\n",
       "      <td>465</td>\n",
       "      <td>張信哲 (Jeff Chang)</td>\n",
       "      <td>董貞</td>\n",
       "      <td>何啟弘</td>\n",
       "      <td>3.0</td>\n",
       "      <td>焚情</td>\n",
       "      <td>TWB531410010</td>\n",
       "      <td>FJppumJ2//DwP+873wPo8psWlwRLrxmfNdRIPLCgH1E=</td>\n",
       "      <td>my library</td>\n",
       "      <td>Online playlist more</td>\n",
       "      <td>online-playlist</td>\n",
       "      <td>1</td>\n",
       "    </tr>\n",
       "    <tr>\n",
       "      <th>4</th>\n",
       "      <td>CXoTN1eb7AI+DntdU1vbcwGRV4SCIDxZu+YD8JP8r4E=</td>\n",
       "      <td>247640</td>\n",
       "      <td>465</td>\n",
       "      <td>張信哲 (Jeff Chang)</td>\n",
       "      <td>董貞</td>\n",
       "      <td>何啟弘</td>\n",
       "      <td>3.0</td>\n",
       "      <td>焚情</td>\n",
       "      <td>TWB531410010</td>\n",
       "      <td>5N6c4iwAy2BLA+NV9UEAGjd7eg4LlJFm1wOu9MfK8qw=</td>\n",
       "      <td>my library</td>\n",
       "      <td>Local playlist more</td>\n",
       "      <td>local-playlist</td>\n",
       "      <td>0</td>\n",
       "    </tr>\n",
       "  </tbody>\n",
       "</table>\n",
       "</div>"
      ],
      "text/plain": [
       "                                        song_id  song_length genre_ids  \\\n",
       "0  CXoTN1eb7AI+DntdU1vbcwGRV4SCIDxZu+YD8JP8r4E=       247640       465   \n",
       "1  CXoTN1eb7AI+DntdU1vbcwGRV4SCIDxZu+YD8JP8r4E=       247640       465   \n",
       "2  CXoTN1eb7AI+DntdU1vbcwGRV4SCIDxZu+YD8JP8r4E=       247640       465   \n",
       "3  CXoTN1eb7AI+DntdU1vbcwGRV4SCIDxZu+YD8JP8r4E=       247640       465   \n",
       "4  CXoTN1eb7AI+DntdU1vbcwGRV4SCIDxZu+YD8JP8r4E=       247640       465   \n",
       "\n",
       "        artist_name composer lyricist  language name          isrc  \\\n",
       "0  張信哲 (Jeff Chang)       董貞      何啟弘       3.0   焚情  TWB531410010   \n",
       "1  張信哲 (Jeff Chang)       董貞      何啟弘       3.0   焚情  TWB531410010   \n",
       "2  張信哲 (Jeff Chang)       董貞      何啟弘       3.0   焚情  TWB531410010   \n",
       "3  張信哲 (Jeff Chang)       董貞      何啟弘       3.0   焚情  TWB531410010   \n",
       "4  張信哲 (Jeff Chang)       董貞      何啟弘       3.0   焚情  TWB531410010   \n",
       "\n",
       "                                        user_id source_system_tab  \\\n",
       "0  qdYIsQjR8AMhKuJaC0T+Quuqaj9nWTOcbd8ydI0/jiA=        my library   \n",
       "1  VkQT93ug8I5F2oP6EpLCq5g2eqn5CD/uMnEFlRcGIF4=        my library   \n",
       "2  YRYwu93fA3tqG2798IRr6nhK8wqTl6lMKrg84+8jBR0=          discover   \n",
       "3  FJppumJ2//DwP+873wPo8psWlwRLrxmfNdRIPLCgH1E=        my library   \n",
       "4  5N6c4iwAy2BLA+NV9UEAGjd7eg4LlJFm1wOu9MfK8qw=        my library   \n",
       "\n",
       "     source_screen_name      source_type  target  \n",
       "0   Local playlist more    local-library       0  \n",
       "1   Local playlist more    local-library       1  \n",
       "2  Online playlist more  online-playlist       0  \n",
       "3  Online playlist more  online-playlist       1  \n",
       "4   Local playlist more   local-playlist       0  "
      ]
     },
     "execution_count": 29,
     "metadata": {},
     "output_type": "execute_result"
    }
   ],
   "source": [
    "##merge df and train\n",
    "df=pd.merge(df, train, how='inner', on='song_id')\n",
    "df.head()"
   ]
  },
  {
   "cell_type": "code",
   "execution_count": null,
   "id": "165e631a",
   "metadata": {
    "id": "165e631a",
    "outputId": "4dc555c5-3ba2-4524-a0b3-055fb195792c"
   },
   "outputs": [
    {
     "data": {
      "text/plain": [
       "(7375849, 14)"
      ]
     },
     "execution_count": 30,
     "metadata": {},
     "output_type": "execute_result"
    }
   ],
   "source": [
    "df.shape"
   ]
  },
  {
   "cell_type": "code",
   "execution_count": null,
   "id": "6dd734c9",
   "metadata": {
    "id": "6dd734c9",
    "outputId": "aec4510c-6ae3-4e2a-903d-21f53d53eaf6"
   },
   "outputs": [
    {
     "data": {
      "text/html": [
       "<div>\n",
       "<style scoped>\n",
       "    .dataframe tbody tr th:only-of-type {\n",
       "        vertical-align: middle;\n",
       "    }\n",
       "\n",
       "    .dataframe tbody tr th {\n",
       "        vertical-align: top;\n",
       "    }\n",
       "\n",
       "    .dataframe thead th {\n",
       "        text-align: right;\n",
       "    }\n",
       "</style>\n",
       "<table border=\"1\" class=\"dataframe\">\n",
       "  <thead>\n",
       "    <tr style=\"text-align: right;\">\n",
       "      <th></th>\n",
       "      <th>song_id</th>\n",
       "      <th>song_length</th>\n",
       "      <th>genre_ids</th>\n",
       "      <th>artist_name</th>\n",
       "      <th>composer</th>\n",
       "      <th>lyricist</th>\n",
       "      <th>language</th>\n",
       "      <th>name</th>\n",
       "      <th>isrc</th>\n",
       "      <th>user_id</th>\n",
       "      <th>source_system_tab</th>\n",
       "      <th>source_screen_name</th>\n",
       "      <th>source_type</th>\n",
       "      <th>target</th>\n",
       "      <th>city</th>\n",
       "      <th>bd</th>\n",
       "      <th>gender</th>\n",
       "      <th>registered_via</th>\n",
       "    </tr>\n",
       "  </thead>\n",
       "  <tbody>\n",
       "    <tr>\n",
       "      <th>0</th>\n",
       "      <td>CXoTN1eb7AI+DntdU1vbcwGRV4SCIDxZu+YD8JP8r4E=</td>\n",
       "      <td>247640</td>\n",
       "      <td>465</td>\n",
       "      <td>張信哲 (Jeff Chang)</td>\n",
       "      <td>董貞</td>\n",
       "      <td>何啟弘</td>\n",
       "      <td>3.0</td>\n",
       "      <td>焚情</td>\n",
       "      <td>TWB531410010</td>\n",
       "      <td>qdYIsQjR8AMhKuJaC0T+Quuqaj9nWTOcbd8ydI0/jiA=</td>\n",
       "      <td>my library</td>\n",
       "      <td>Local playlist more</td>\n",
       "      <td>local-library</td>\n",
       "      <td>0</td>\n",
       "      <td>1</td>\n",
       "      <td>0</td>\n",
       "      <td>NaN</td>\n",
       "      <td>9</td>\n",
       "    </tr>\n",
       "    <tr>\n",
       "      <th>1</th>\n",
       "      <td>o0kFgae9QtnYgRkVPqLJwa05zIhRlUjfF7O1tDw0ZDU=</td>\n",
       "      <td>197328</td>\n",
       "      <td>444</td>\n",
       "      <td>BLACKPINK</td>\n",
       "      <td>TEDDY|  FUTURE BOUNCE|  Bekuh BOOM</td>\n",
       "      <td>TEDDY</td>\n",
       "      <td>31.0</td>\n",
       "      <td>PLAYING WITH FIRE</td>\n",
       "      <td>NaN</td>\n",
       "      <td>qdYIsQjR8AMhKuJaC0T+Quuqaj9nWTOcbd8ydI0/jiA=</td>\n",
       "      <td>my library</td>\n",
       "      <td>Local playlist more</td>\n",
       "      <td>local-library</td>\n",
       "      <td>0</td>\n",
       "      <td>1</td>\n",
       "      <td>0</td>\n",
       "      <td>NaN</td>\n",
       "      <td>9</td>\n",
       "    </tr>\n",
       "    <tr>\n",
       "      <th>2</th>\n",
       "      <td>XVdugYtHPN1vCK/8rsZZj/5MX8wv421d4unsaOpPq7I=</td>\n",
       "      <td>292571</td>\n",
       "      <td>465</td>\n",
       "      <td>傅又宣 (Maggie Fu)</td>\n",
       "      <td>陶山</td>\n",
       "      <td>方文山</td>\n",
       "      <td>3.0</td>\n",
       "      <td>愛.這件事情</td>\n",
       "      <td>HKH621401004</td>\n",
       "      <td>qdYIsQjR8AMhKuJaC0T+Quuqaj9nWTOcbd8ydI0/jiA=</td>\n",
       "      <td>my library</td>\n",
       "      <td>Local playlist more</td>\n",
       "      <td>local-library</td>\n",
       "      <td>0</td>\n",
       "      <td>1</td>\n",
       "      <td>0</td>\n",
       "      <td>NaN</td>\n",
       "      <td>9</td>\n",
       "    </tr>\n",
       "    <tr>\n",
       "      <th>3</th>\n",
       "      <td>gG3/58uZyyOwaPT+eGWL81mwCzcDPW2EmwYcjWmvJSs=</td>\n",
       "      <td>226742</td>\n",
       "      <td>465</td>\n",
       "      <td>五月天 (Mayday)</td>\n",
       "      <td>阿信</td>\n",
       "      <td>阿信</td>\n",
       "      <td>3.0</td>\n",
       "      <td>私奔到月球</td>\n",
       "      <td>TWK230700701</td>\n",
       "      <td>qdYIsQjR8AMhKuJaC0T+Quuqaj9nWTOcbd8ydI0/jiA=</td>\n",
       "      <td>my library</td>\n",
       "      <td>Local playlist more</td>\n",
       "      <td>local-library</td>\n",
       "      <td>1</td>\n",
       "      <td>1</td>\n",
       "      <td>0</td>\n",
       "      <td>NaN</td>\n",
       "      <td>9</td>\n",
       "    </tr>\n",
       "    <tr>\n",
       "      <th>4</th>\n",
       "      <td>QXxwXFuL2yNKyn2NM68uV7RJ2AaJukZeGPvu+y6kCJU=</td>\n",
       "      <td>238132</td>\n",
       "      <td>458</td>\n",
       "      <td>陳大天 (Daniel Chen)</td>\n",
       "      <td>阿達/廖偉傑</td>\n",
       "      <td>陳大天</td>\n",
       "      <td>3.0</td>\n",
       "      <td>哪裡來的勇氣</td>\n",
       "      <td>TWB511692402</td>\n",
       "      <td>qdYIsQjR8AMhKuJaC0T+Quuqaj9nWTOcbd8ydI0/jiA=</td>\n",
       "      <td>my library</td>\n",
       "      <td>Local playlist more</td>\n",
       "      <td>local-library</td>\n",
       "      <td>1</td>\n",
       "      <td>1</td>\n",
       "      <td>0</td>\n",
       "      <td>NaN</td>\n",
       "      <td>9</td>\n",
       "    </tr>\n",
       "  </tbody>\n",
       "</table>\n",
       "</div>"
      ],
      "text/plain": [
       "                                        song_id  song_length genre_ids  \\\n",
       "0  CXoTN1eb7AI+DntdU1vbcwGRV4SCIDxZu+YD8JP8r4E=       247640       465   \n",
       "1  o0kFgae9QtnYgRkVPqLJwa05zIhRlUjfF7O1tDw0ZDU=       197328       444   \n",
       "2  XVdugYtHPN1vCK/8rsZZj/5MX8wv421d4unsaOpPq7I=       292571       465   \n",
       "3  gG3/58uZyyOwaPT+eGWL81mwCzcDPW2EmwYcjWmvJSs=       226742       465   \n",
       "4  QXxwXFuL2yNKyn2NM68uV7RJ2AaJukZeGPvu+y6kCJU=       238132       458   \n",
       "\n",
       "         artist_name                            composer lyricist  language  \\\n",
       "0   張信哲 (Jeff Chang)                                  董貞      何啟弘       3.0   \n",
       "1          BLACKPINK  TEDDY|  FUTURE BOUNCE|  Bekuh BOOM    TEDDY      31.0   \n",
       "2    傅又宣 (Maggie Fu)                                  陶山      方文山       3.0   \n",
       "3       五月天 (Mayday)                                  阿信       阿信       3.0   \n",
       "4  陳大天 (Daniel Chen)                              阿達/廖偉傑      陳大天       3.0   \n",
       "\n",
       "                name          isrc  \\\n",
       "0                 焚情  TWB531410010   \n",
       "1  PLAYING WITH FIRE           NaN   \n",
       "2             愛.這件事情  HKH621401004   \n",
       "3              私奔到月球  TWK230700701   \n",
       "4             哪裡來的勇氣  TWB511692402   \n",
       "\n",
       "                                        user_id source_system_tab  \\\n",
       "0  qdYIsQjR8AMhKuJaC0T+Quuqaj9nWTOcbd8ydI0/jiA=        my library   \n",
       "1  qdYIsQjR8AMhKuJaC0T+Quuqaj9nWTOcbd8ydI0/jiA=        my library   \n",
       "2  qdYIsQjR8AMhKuJaC0T+Quuqaj9nWTOcbd8ydI0/jiA=        my library   \n",
       "3  qdYIsQjR8AMhKuJaC0T+Quuqaj9nWTOcbd8ydI0/jiA=        my library   \n",
       "4  qdYIsQjR8AMhKuJaC0T+Quuqaj9nWTOcbd8ydI0/jiA=        my library   \n",
       "\n",
       "    source_screen_name    source_type  target  city  bd gender  registered_via  \n",
       "0  Local playlist more  local-library       0     1   0    NaN               9  \n",
       "1  Local playlist more  local-library       0     1   0    NaN               9  \n",
       "2  Local playlist more  local-library       0     1   0    NaN               9  \n",
       "3  Local playlist more  local-library       1     1   0    NaN               9  \n",
       "4  Local playlist more  local-library       1     1   0    NaN               9  "
      ]
     },
     "execution_count": 31,
     "metadata": {},
     "output_type": "execute_result"
    }
   ],
   "source": [
    "##merge df and user\n",
    "df=pd.merge(df, user, how='inner', on='user_id')\n",
    "df.head()"
   ]
  },
  {
   "cell_type": "code",
   "execution_count": null,
   "id": "085d2dbf",
   "metadata": {
    "id": "085d2dbf",
    "outputId": "896b86b1-31e7-49b9-ad30-c286c466c42c"
   },
   "outputs": [
    {
     "data": {
      "text/plain": [
       "(7375849, 18)"
      ]
     },
     "execution_count": 32,
     "metadata": {},
     "output_type": "execute_result"
    }
   ],
   "source": [
    "df.shape"
   ]
  },
  {
   "cell_type": "code",
   "execution_count": null,
   "id": "610f2c3e",
   "metadata": {
    "id": "610f2c3e",
    "outputId": "92501128-f519-4be0-d761-57c5db7666c2"
   },
   "outputs": [
    {
     "data": {
      "text/plain": [
       "359755"
      ]
     },
     "execution_count": 33,
     "metadata": {},
     "output_type": "execute_result"
    }
   ],
   "source": [
    "df['song_id'].nunique()"
   ]
  },
  {
   "cell_type": "markdown",
   "id": "c51b104c",
   "metadata": {
    "id": "c51b104c"
   },
   "source": [
    "### Target variable value count"
   ]
  },
  {
   "cell_type": "code",
   "execution_count": null,
   "id": "3c1d1511",
   "metadata": {
    "id": "3c1d1511",
    "outputId": "6dced712-8474-4cd9-fa79-1c46d053eee3"
   },
   "outputs": [
    {
     "name": "stdout",
     "output_type": "stream",
     "text": [
      "1    3714050\n",
      "0    3661799\n",
      "Name: target, dtype: int64\n"
     ]
    },
    {
     "data": {
      "image/png": "[encoded data removed]",
      "text/plain": [
       "<Figure size 432x288 with 1 Axes>"
      ]
     },
     "metadata": {
      "needs_background": "light"
     },
     "output_type": "display_data"
    }
   ],
   "source": [
    "print(df['target'].value_counts())\n",
    "df['target'].value_counts().plot(kind='barh');"
   ]
  },
  {
   "cell_type": "markdown",
   "id": "fd6ff0bd",
   "metadata": {
    "id": "fd6ff0bd"
   },
   "source": [
    "### Duplicate rows"
   ]
  },
  {
   "cell_type": "code",
   "execution_count": null,
   "id": "2a0ee89d",
   "metadata": {
    "id": "2a0ee89d",
    "outputId": "12f5d3d0-5572-4a12-b234-b4b42821a4a1"
   },
   "outputs": [
    {
     "data": {
      "text/plain": [
       "0"
      ]
     },
     "execution_count": 36,
     "metadata": {},
     "output_type": "execute_result"
    }
   ],
   "source": [
    "df.duplicated().sum()"
   ]
  },
  {
   "cell_type": "code",
   "execution_count": null,
   "id": "43432be7",
   "metadata": {
    "id": "43432be7",
    "outputId": "5c5ace82-03e1-417e-f5fc-afa9cd5c3bc1"
   },
   "outputs": [
    {
     "name": "stdout",
     "output_type": "stream",
     "text": [
      "<class 'pandas.core.frame.DataFrame'>\n",
      "Int64Index: 7375849 entries, 0 to 7375848\n",
      "Data columns (total 18 columns):\n",
      " #   Column              Dtype  \n",
      "---  ------              -----  \n",
      " 0   song_id             object \n",
      " 1   song_length         int64  \n",
      " 2   genre_ids           object \n",
      " 3   artist_name         object \n",
      " 4   composer            object \n",
      " 5   lyricist            object \n",
      " 6   language            float64\n",
      " 7   name                object \n",
      " 8   isrc                object \n",
      " 9   user_id             object \n",
      " 10  source_system_tab   object \n",
      " 11  source_screen_name  object \n",
      " 12  source_type         object \n",
      " 13  target              int64  \n",
      " 14  city                int64  \n",
      " 15  bd                  int64  \n",
      " 16  gender              object \n",
      " 17  registered_via      int64  \n",
      "dtypes: float64(1), int64(5), object(12)\n",
      "memory usage: 1.0+ GB\n"
     ]
    }
   ],
   "source": [
    "df.info()"
   ]
  },
  {
   "cell_type": "code",
   "execution_count": null,
   "id": "2d0c20c8",
   "metadata": {
    "id": "2d0c20c8"
   },
   "outputs": [],
   "source": []
  },
  {
   "cell_type": "markdown",
   "id": "41f8b344",
   "metadata": {
    "id": "41f8b344"
   },
   "source": [
    "### As we have song_id, lets remove song name"
   ]
  },
  {
   "cell_type": "code",
   "execution_count": null,
   "id": "1c8b0bb2",
   "metadata": {
    "id": "1c8b0bb2"
   },
   "outputs": [],
   "source": [
    "df.drop('name', axis=1, inplace=True)"
   ]
  },
  {
   "cell_type": "markdown",
   "id": "09672f87",
   "metadata": {
    "id": "09672f87"
   },
   "source": [
    "### Rename bd to Age"
   ]
  },
  {
   "cell_type": "code",
   "execution_count": null,
   "id": "43a5b51a",
   "metadata": {
    "id": "43a5b51a"
   },
   "outputs": [],
   "source": [
    "df.rename({'bd':'age'}, axis=1, inplace=True)"
   ]
  },
  {
   "cell_type": "code",
   "execution_count": null,
   "id": "7e3977f2",
   "metadata": {
    "id": "7e3977f2",
    "outputId": "d2504fa9-b8c6-433d-b24a-cb6a44025fc0"
   },
   "outputs": [
    {
     "data": {
      "text/plain": [
       "<AxesSubplot:>"
      ]
     },
     "execution_count": 44,
     "metadata": {},
     "output_type": "execute_result"
    },
    {
     "data": {
      "image/png": "[encoded data removed]",
      "text/plain": [
       "<Figure size 432x288 with 1 Axes>"
      ]
     },
     "metadata": {
      "needs_background": "light"
     },
     "output_type": "display_data"
    }
   ],
   "source": [
    "df['age'].plot(kind='box')"
   ]
  },
  {
   "cell_type": "markdown",
   "id": "fdf9e2b3",
   "metadata": {
    "id": "fdf9e2b3"
   },
   "source": [
    "#### Clearly we can see the extreme outliers in this column"
   ]
  },
  {
   "cell_type": "code",
   "execution_count": null,
   "id": "8090ae47",
   "metadata": {
    "id": "8090ae47",
    "outputId": "429a9445-a3b0-4bc2-b59d-0e7bbf55e12d"
   },
   "outputs": [
    {
     "data": {
      "text/plain": [
       "<AxesSubplot:ylabel='Frequency'>"
      ]
     },
     "execution_count": 45,
     "metadata": {},
     "output_type": "execute_result"
    },
    {
     "data": {
      "image/png": "[encoded data removed]",
      "text/plain": [
       "<Figure size 432x288 with 1 Axes>"
      ]
     },
     "metadata": {
      "needs_background": "light"
     },
     "output_type": "display_data"
    }
   ],
   "source": [
    "df['age'].plot(kind='hist')"
   ]
  },
  {
   "cell_type": "markdown",
   "id": "2e77e587",
   "metadata": {
    "id": "2e77e587"
   },
   "source": [
    "#### As we see most of the people entered their age as 0 while registering.. we cannot impute such values in large scale. Its better to drop this column."
   ]
  },
  {
   "cell_type": "code",
   "execution_count": null,
   "id": "de86d22a",
   "metadata": {
    "id": "de86d22a"
   },
   "outputs": [],
   "source": [
    "df.drop('age', axis=1, inplace=True)"
   ]
  },
  {
   "cell_type": "markdown",
   "id": "d819a257",
   "metadata": {
    "id": "d819a257"
   },
   "source": [
    "#### City and Replying song again has no correlation.. Hence drop this column."
   ]
  },
  {
   "cell_type": "code",
   "execution_count": null,
   "id": "008b481c",
   "metadata": {
    "id": "008b481c"
   },
   "outputs": [],
   "source": [
    "df.drop('city', axis=1, inplace=True)"
   ]
  },
  {
   "cell_type": "markdown",
   "id": "5cb04d5f",
   "metadata": {
    "id": "5cb04d5f"
   },
   "source": [
    "#### There are missing values in gender column, and there will be no relation between replying song and gender."
   ]
  },
  {
   "cell_type": "code",
   "execution_count": null,
   "id": "64e8b0c6",
   "metadata": {
    "id": "64e8b0c6"
   },
   "outputs": [],
   "source": [
    "df.drop('gender', axis=1, inplace=True)"
   ]
  },
  {
   "cell_type": "markdown",
   "id": "c829f104",
   "metadata": {
    "id": "c829f104"
   },
   "source": [
    "### Missing values"
   ]
  },
  {
   "cell_type": "code",
   "execution_count": null,
   "id": "e895063b",
   "metadata": {
    "id": "e895063b",
    "outputId": "b926ad3d-9363-4f8d-cdc7-8a7c22dbc89d"
   },
   "outputs": [
    {
     "data": {
      "text/plain": [
       "song_id                     0\n",
       "song_length                 0\n",
       "genre_ids              118337\n",
       "artist_name                 0\n",
       "composer              1675125\n",
       "lyricist              3177973\n",
       "language                   36\n",
       "isrc                   576394\n",
       "user_id                     0\n",
       "source_system_tab       24843\n",
       "source_screen_name     414701\n",
       "source_type             21535\n",
       "target                      0\n",
       "registered_via              0\n",
       "dtype: int64"
      ]
     },
     "execution_count": 50,
     "metadata": {},
     "output_type": "execute_result"
    }
   ],
   "source": [
    "df.isna().sum()"
   ]
  },
  {
   "cell_type": "code",
   "execution_count": null,
   "id": "a34254bb",
   "metadata": {
    "id": "a34254bb"
   },
   "outputs": [],
   "source": [
    "data=df.copy()"
   ]
  },
  {
   "cell_type": "markdown",
   "id": "8fea976a",
   "metadata": {
    "id": "8fea976a"
   },
   "source": [
    "#### We have lots of data to play with so drop missing rows."
   ]
  },
  {
   "cell_type": "code",
   "execution_count": null,
   "id": "5d016349",
   "metadata": {
    "id": "5d016349",
    "outputId": "9e5aed6a-3872-4b2e-b92d-4d946c1336f9"
   },
   "outputs": [
    {
     "data": {
      "text/plain": [
       "(3612963, 14)"
      ]
     },
     "execution_count": 52,
     "metadata": {},
     "output_type": "execute_result"
    }
   ],
   "source": [
    "data.dropna(inplace=True)\n",
    "data.shape"
   ]
  },
  {
   "cell_type": "code",
   "execution_count": null,
   "id": "82e67785",
   "metadata": {
    "id": "82e67785",
    "outputId": "dfa020f6-ff9d-4154-ce98-04305ccad788"
   },
   "outputs": [
    {
     "data": {
      "text/plain": [
       "1    1925797\n",
       "0    1687166\n",
       "Name: target, dtype: int64"
      ]
     },
     "execution_count": 53,
     "metadata": {},
     "output_type": "execute_result"
    }
   ],
   "source": [
    "data['target'].value_counts()"
   ]
  },
  {
   "cell_type": "markdown",
   "id": "e3a57318",
   "metadata": {
    "id": "e3a57318"
   },
   "source": [
    "#### After dropping the Nan rows, the  target class is still well balanced."
   ]
  },
  {
   "cell_type": "code",
   "execution_count": null,
   "id": "1554bb17",
   "metadata": {
    "id": "1554bb17",
    "outputId": "cd8814bc-0e00-4672-969c-5036832cbc7a"
   },
   "outputs": [
    {
     "data": {
      "text/plain": [
       "song_id                object\n",
       "song_length             int64\n",
       "genre_ids              object\n",
       "artist_name            object\n",
       "composer               object\n",
       "lyricist               object\n",
       "language              float64\n",
       "isrc                   object\n",
       "user_id                object\n",
       "source_system_tab      object\n",
       "source_screen_name     object\n",
       "source_type            object\n",
       "target                  int64\n",
       "registered_via          int64\n",
       "dtype: object"
      ]
     },
     "execution_count": 58,
     "metadata": {},
     "output_type": "execute_result"
    }
   ],
   "source": [
    "data.dtypes"
   ]
  },
  {
   "cell_type": "markdown",
   "id": "453ca701",
   "metadata": {
    "id": "453ca701"
   },
   "source": [
    "#### The data type of genre id must be int"
   ]
  },
  {
   "cell_type": "code",
   "execution_count": null,
   "id": "c16feedc",
   "metadata": {
    "id": "c16feedc"
   },
   "outputs": [],
   "source": [
    "data=pd.read_csv('D:\\\\DATA SCIENCE Internship with LGMVIP\\\\data\\\\music-recommendation-challenge\\\\sample.csv')"
   ]
  },
  {
   "cell_type": "markdown",
   "id": "37518db9",
   "metadata": {
    "id": "37518db9"
   },
   "source": [
    "### Seperate Numerical and Categorical features and perform transformation, and then merge these two datasets"
   ]
  },
  {
   "cell_type": "code",
   "execution_count": null,
   "id": "f0ef7499",
   "metadata": {
    "id": "f0ef7499",
    "outputId": "058e257c-05a1-45f8-e643-821d1531cdd2",
    "scrolled": true
   },
   "outputs": [
    {
     "name": "stdout",
     "output_type": "stream",
     "text": [
      "Categorical columns ['song_id', 'genre_ids', 'artist_name', 'composer', 'lyricist', 'isrc', 'user_id', 'source_system_tab', 'source_screen_name', 'source_type']\n",
      "----------------------------------------------------------------------\n",
      "Numerical columns ['song_length', 'language', 'registered_via']\n"
     ]
    }
   ],
   "source": [
    "cat_col=[]\n",
    "num_col=[]\n",
    "for col in data.columns:\n",
    "    if data[col].dtype=='object':\n",
    "        cat_col.append(col)\n",
    "    else:\n",
    "        if col!='target':\n",
    "            num_col.append(col)\n",
    "        \n",
    "print(\"Categorical columns\", cat_col)\n",
    "print(\"-------\"*10)\n",
    "print(\"Numerical columns\", num_col)"
   ]
  },
  {
   "cell_type": "markdown",
   "id": "f519fe1b",
   "metadata": {
    "id": "f519fe1b"
   },
   "source": [
    "#### Create dataframe which only contains categorical and numerical columns seperately"
   ]
  },
  {
   "cell_type": "code",
   "execution_count": null,
   "id": "750c71f7",
   "metadata": {
    "id": "750c71f7"
   },
   "outputs": [],
   "source": [
    "cat_df=data[cat_col]\n",
    "num_df=data[num_col]"
   ]
  },
  {
   "cell_type": "markdown",
   "id": "c54802b8",
   "metadata": {
    "id": "c54802b8"
   },
   "source": [
    "### Use Label Encoding for Categorical columns and Standardization for Numerical columns"
   ]
  },
  {
   "cell_type": "code",
   "execution_count": null,
   "id": "c0704d31",
   "metadata": {
    "id": "c0704d31",
    "outputId": "d094cfba-48f6-4ea2-cc1a-3a149d28a107"
   },
   "outputs": [
    {
     "data": {
      "text/html": [
       "<div>\n",
       "<style scoped>\n",
       "    .dataframe tbody tr th:only-of-type {\n",
       "        vertical-align: middle;\n",
       "    }\n",
       "\n",
       "    .dataframe tbody tr th {\n",
       "        vertical-align: top;\n",
       "    }\n",
       "\n",
       "    .dataframe thead th {\n",
       "        text-align: right;\n",
       "    }\n",
       "</style>\n",
       "<table border=\"1\" class=\"dataframe\">\n",
       "  <thead>\n",
       "    <tr style=\"text-align: right;\">\n",
       "      <th></th>\n",
       "      <th>song_id</th>\n",
       "      <th>genre_ids</th>\n",
       "      <th>artist_name</th>\n",
       "      <th>composer</th>\n",
       "      <th>lyricist</th>\n",
       "      <th>isrc</th>\n",
       "      <th>user_id</th>\n",
       "      <th>source_system_tab</th>\n",
       "      <th>source_screen_name</th>\n",
       "      <th>source_type</th>\n",
       "    </tr>\n",
       "  </thead>\n",
       "  <tbody>\n",
       "    <tr>\n",
       "      <th>0</th>\n",
       "      <td>17347</td>\n",
       "      <td>160</td>\n",
       "      <td>6919</td>\n",
       "      <td>27674</td>\n",
       "      <td>21611</td>\n",
       "      <td>41086</td>\n",
       "      <td>25257</td>\n",
       "      <td>3</td>\n",
       "      <td>8</td>\n",
       "      <td>3</td>\n",
       "    </tr>\n",
       "    <tr>\n",
       "      <th>1</th>\n",
       "      <td>42022</td>\n",
       "      <td>160</td>\n",
       "      <td>6424</td>\n",
       "      <td>29063</td>\n",
       "      <td>24027</td>\n",
       "      <td>13764</td>\n",
       "      <td>25257</td>\n",
       "      <td>3</td>\n",
       "      <td>8</td>\n",
       "      <td>3</td>\n",
       "    </tr>\n",
       "    <tr>\n",
       "      <th>2</th>\n",
       "      <td>52385</td>\n",
       "      <td>160</td>\n",
       "      <td>6338</td>\n",
       "      <td>28599</td>\n",
       "      <td>27683</td>\n",
       "      <td>47472</td>\n",
       "      <td>25257</td>\n",
       "      <td>3</td>\n",
       "      <td>8</td>\n",
       "      <td>3</td>\n",
       "    </tr>\n",
       "    <tr>\n",
       "      <th>3</th>\n",
       "      <td>33834</td>\n",
       "      <td>155</td>\n",
       "      <td>8381</td>\n",
       "      <td>28670</td>\n",
       "      <td>27863</td>\n",
       "      <td>40910</td>\n",
       "      <td>25257</td>\n",
       "      <td>3</td>\n",
       "      <td>8</td>\n",
       "      <td>3</td>\n",
       "    </tr>\n",
       "    <tr>\n",
       "      <th>4</th>\n",
       "      <td>70989</td>\n",
       "      <td>160</td>\n",
       "      <td>2368</td>\n",
       "      <td>19877</td>\n",
       "      <td>28955</td>\n",
       "      <td>37528</td>\n",
       "      <td>25257</td>\n",
       "      <td>3</td>\n",
       "      <td>8</td>\n",
       "      <td>3</td>\n",
       "    </tr>\n",
       "  </tbody>\n",
       "</table>\n",
       "</div>"
      ],
      "text/plain": [
       "   song_id  genre_ids  artist_name  composer  lyricist   isrc  user_id  \\\n",
       "0    17347        160         6919     27674     21611  41086    25257   \n",
       "1    42022        160         6424     29063     24027  13764    25257   \n",
       "2    52385        160         6338     28599     27683  47472    25257   \n",
       "3    33834        155         8381     28670     27863  40910    25257   \n",
       "4    70989        160         2368     19877     28955  37528    25257   \n",
       "\n",
       "   source_system_tab  source_screen_name  source_type  \n",
       "0                  3                   8            3  \n",
       "1                  3                   8            3  \n",
       "2                  3                   8            3  \n",
       "3                  3                   8            3  \n",
       "4                  3                   8            3  "
      ]
     },
     "execution_count": 33,
     "metadata": {},
     "output_type": "execute_result"
    }
   ],
   "source": [
    "from sklearn.preprocessing import LabelEncoder, StandardScaler\n",
    "\n",
    "label=LabelEncoder()\n",
    "cat_df_tf = cat_df.apply(LabelEncoder().fit_transform)\n",
    "cat_df_tf.head()"
   ]
  },
  {
   "cell_type": "code",
   "execution_count": null,
   "id": "51ea4782",
   "metadata": {
    "id": "51ea4782",
    "outputId": "69186863-fa9b-4b97-e8fb-58e69e450046"
   },
   "outputs": [
    {
     "data": {
      "text/html": [
       "<div>\n",
       "<style scoped>\n",
       "    .dataframe tbody tr th:only-of-type {\n",
       "        vertical-align: middle;\n",
       "    }\n",
       "\n",
       "    .dataframe tbody tr th {\n",
       "        vertical-align: top;\n",
       "    }\n",
       "\n",
       "    .dataframe thead th {\n",
       "        text-align: right;\n",
       "    }\n",
       "</style>\n",
       "<table border=\"1\" class=\"dataframe\">\n",
       "  <thead>\n",
       "    <tr style=\"text-align: right;\">\n",
       "      <th></th>\n",
       "      <th>song_length</th>\n",
       "      <th>language</th>\n",
       "      <th>registered_via</th>\n",
       "    </tr>\n",
       "  </thead>\n",
       "  <tbody>\n",
       "    <tr>\n",
       "      <th>0</th>\n",
       "      <td>-0.044479</td>\n",
       "      <td>-0.492138</td>\n",
       "      <td>0.964324</td>\n",
       "    </tr>\n",
       "    <tr>\n",
       "      <th>1</th>\n",
       "      <td>0.982979</td>\n",
       "      <td>-0.492138</td>\n",
       "      <td>0.964324</td>\n",
       "    </tr>\n",
       "    <tr>\n",
       "      <th>2</th>\n",
       "      <td>-0.522363</td>\n",
       "      <td>-0.492138</td>\n",
       "      <td>0.964324</td>\n",
       "    </tr>\n",
       "    <tr>\n",
       "      <th>3</th>\n",
       "      <td>-0.261903</td>\n",
       "      <td>-0.492138</td>\n",
       "      <td>0.964324</td>\n",
       "    </tr>\n",
       "    <tr>\n",
       "      <th>4</th>\n",
       "      <td>-1.221262</td>\n",
       "      <td>1.229188</td>\n",
       "      <td>0.964324</td>\n",
       "    </tr>\n",
       "  </tbody>\n",
       "</table>\n",
       "</div>"
      ],
      "text/plain": [
       "   song_length  language  registered_via\n",
       "0    -0.044479 -0.492138        0.964324\n",
       "1     0.982979 -0.492138        0.964324\n",
       "2    -0.522363 -0.492138        0.964324\n",
       "3    -0.261903 -0.492138        0.964324\n",
       "4    -1.221262  1.229188        0.964324"
      ]
     },
     "execution_count": 29,
     "metadata": {},
     "output_type": "execute_result"
    }
   ],
   "source": [
    "std=StandardScaler()\n",
    "num_df_tf=std.fit_transform(num_df)\n",
    "num_df_tf=pd.DataFrame(num_df_tf, columns=num_df.columns)\n",
    "num_df_tf.head()"
   ]
  },
  {
   "cell_type": "code",
   "execution_count": null,
   "id": "f6dbd3f8",
   "metadata": {
    "id": "f6dbd3f8",
    "outputId": "9c6060ab-3408-439a-e5b7-5a19515bfca6"
   },
   "outputs": [
    {
     "data": {
      "text/html": [
       "<div>\n",
       "<style scoped>\n",
       "    .dataframe tbody tr th:only-of-type {\n",
       "        vertical-align: middle;\n",
       "    }\n",
       "\n",
       "    .dataframe tbody tr th {\n",
       "        vertical-align: top;\n",
       "    }\n",
       "\n",
       "    .dataframe thead th {\n",
       "        text-align: right;\n",
       "    }\n",
       "</style>\n",
       "<table border=\"1\" class=\"dataframe\">\n",
       "  <thead>\n",
       "    <tr style=\"text-align: right;\">\n",
       "      <th></th>\n",
       "      <th>song_length</th>\n",
       "      <th>language</th>\n",
       "      <th>registered_via</th>\n",
       "      <th>target</th>\n",
       "    </tr>\n",
       "  </thead>\n",
       "  <tbody>\n",
       "    <tr>\n",
       "      <th>0</th>\n",
       "      <td>-0.044479</td>\n",
       "      <td>-0.492138</td>\n",
       "      <td>0.964324</td>\n",
       "      <td>0</td>\n",
       "    </tr>\n",
       "    <tr>\n",
       "      <th>1</th>\n",
       "      <td>0.982979</td>\n",
       "      <td>-0.492138</td>\n",
       "      <td>0.964324</td>\n",
       "      <td>0</td>\n",
       "    </tr>\n",
       "    <tr>\n",
       "      <th>2</th>\n",
       "      <td>-0.522363</td>\n",
       "      <td>-0.492138</td>\n",
       "      <td>0.964324</td>\n",
       "      <td>1</td>\n",
       "    </tr>\n",
       "    <tr>\n",
       "      <th>3</th>\n",
       "      <td>-0.261903</td>\n",
       "      <td>-0.492138</td>\n",
       "      <td>0.964324</td>\n",
       "      <td>1</td>\n",
       "    </tr>\n",
       "    <tr>\n",
       "      <th>4</th>\n",
       "      <td>-1.221262</td>\n",
       "      <td>1.229188</td>\n",
       "      <td>0.964324</td>\n",
       "      <td>1</td>\n",
       "    </tr>\n",
       "  </tbody>\n",
       "</table>\n",
       "</div>"
      ],
      "text/plain": [
       "   song_length  language  registered_via  target\n",
       "0    -0.044479 -0.492138        0.964324       0\n",
       "1     0.982979 -0.492138        0.964324       0\n",
       "2    -0.522363 -0.492138        0.964324       1\n",
       "3    -0.261903 -0.492138        0.964324       1\n",
       "4    -1.221262  1.229188        0.964324       1"
      ]
     },
     "execution_count": 32,
     "metadata": {},
     "output_type": "execute_result"
    }
   ],
   "source": [
    "num_df_tf=pd.concat((num_df_tf, data['target']), axis=1)\n",
    "num_df_tf.head()"
   ]
  },
  {
   "cell_type": "markdown",
   "id": "f4c4a185",
   "metadata": {
    "id": "f4c4a185"
   },
   "source": [
    "### COncatenate above tranformed columns to create final dataset for Model building"
   ]
  },
  {
   "cell_type": "code",
   "execution_count": null,
   "id": "ff5c73c1",
   "metadata": {
    "id": "ff5c73c1",
    "outputId": "84d1a6f3-1146-4507-b30c-86c7b9ab2d10"
   },
   "outputs": [
    {
     "data": {
      "text/html": [
       "<div>\n",
       "<style scoped>\n",
       "    .dataframe tbody tr th:only-of-type {\n",
       "        vertical-align: middle;\n",
       "    }\n",
       "\n",
       "    .dataframe tbody tr th {\n",
       "        vertical-align: top;\n",
       "    }\n",
       "\n",
       "    .dataframe thead th {\n",
       "        text-align: right;\n",
       "    }\n",
       "</style>\n",
       "<table border=\"1\" class=\"dataframe\">\n",
       "  <thead>\n",
       "    <tr style=\"text-align: right;\">\n",
       "      <th></th>\n",
       "      <th>song_id</th>\n",
       "      <th>genre_ids</th>\n",
       "      <th>artist_name</th>\n",
       "      <th>composer</th>\n",
       "      <th>lyricist</th>\n",
       "      <th>isrc</th>\n",
       "      <th>user_id</th>\n",
       "      <th>source_system_tab</th>\n",
       "      <th>source_screen_name</th>\n",
       "      <th>source_type</th>\n",
       "      <th>song_length</th>\n",
       "      <th>language</th>\n",
       "      <th>registered_via</th>\n",
       "      <th>target</th>\n",
       "    </tr>\n",
       "  </thead>\n",
       "  <tbody>\n",
       "    <tr>\n",
       "      <th>0</th>\n",
       "      <td>17347</td>\n",
       "      <td>160</td>\n",
       "      <td>6919</td>\n",
       "      <td>27674</td>\n",
       "      <td>21611</td>\n",
       "      <td>41086</td>\n",
       "      <td>25257</td>\n",
       "      <td>3</td>\n",
       "      <td>8</td>\n",
       "      <td>3</td>\n",
       "      <td>-0.044479</td>\n",
       "      <td>-0.492138</td>\n",
       "      <td>0.964324</td>\n",
       "      <td>0</td>\n",
       "    </tr>\n",
       "    <tr>\n",
       "      <th>1</th>\n",
       "      <td>42022</td>\n",
       "      <td>160</td>\n",
       "      <td>6424</td>\n",
       "      <td>29063</td>\n",
       "      <td>24027</td>\n",
       "      <td>13764</td>\n",
       "      <td>25257</td>\n",
       "      <td>3</td>\n",
       "      <td>8</td>\n",
       "      <td>3</td>\n",
       "      <td>0.982979</td>\n",
       "      <td>-0.492138</td>\n",
       "      <td>0.964324</td>\n",
       "      <td>0</td>\n",
       "    </tr>\n",
       "    <tr>\n",
       "      <th>2</th>\n",
       "      <td>52385</td>\n",
       "      <td>160</td>\n",
       "      <td>6338</td>\n",
       "      <td>28599</td>\n",
       "      <td>27683</td>\n",
       "      <td>47472</td>\n",
       "      <td>25257</td>\n",
       "      <td>3</td>\n",
       "      <td>8</td>\n",
       "      <td>3</td>\n",
       "      <td>-0.522363</td>\n",
       "      <td>-0.492138</td>\n",
       "      <td>0.964324</td>\n",
       "      <td>1</td>\n",
       "    </tr>\n",
       "    <tr>\n",
       "      <th>3</th>\n",
       "      <td>33834</td>\n",
       "      <td>155</td>\n",
       "      <td>8381</td>\n",
       "      <td>28670</td>\n",
       "      <td>27863</td>\n",
       "      <td>40910</td>\n",
       "      <td>25257</td>\n",
       "      <td>3</td>\n",
       "      <td>8</td>\n",
       "      <td>3</td>\n",
       "      <td>-0.261903</td>\n",
       "      <td>-0.492138</td>\n",
       "      <td>0.964324</td>\n",
       "      <td>1</td>\n",
       "    </tr>\n",
       "    <tr>\n",
       "      <th>4</th>\n",
       "      <td>70989</td>\n",
       "      <td>160</td>\n",
       "      <td>2368</td>\n",
       "      <td>19877</td>\n",
       "      <td>28955</td>\n",
       "      <td>37528</td>\n",
       "      <td>25257</td>\n",
       "      <td>3</td>\n",
       "      <td>8</td>\n",
       "      <td>3</td>\n",
       "      <td>-1.221262</td>\n",
       "      <td>1.229188</td>\n",
       "      <td>0.964324</td>\n",
       "      <td>1</td>\n",
       "    </tr>\n",
       "  </tbody>\n",
       "</table>\n",
       "</div>"
      ],
      "text/plain": [
       "   song_id  genre_ids  artist_name  composer  lyricist   isrc  user_id  \\\n",
       "0    17347        160         6919     27674     21611  41086    25257   \n",
       "1    42022        160         6424     29063     24027  13764    25257   \n",
       "2    52385        160         6338     28599     27683  47472    25257   \n",
       "3    33834        155         8381     28670     27863  40910    25257   \n",
       "4    70989        160         2368     19877     28955  37528    25257   \n",
       "\n",
       "   source_system_tab  source_screen_name  source_type  song_length  language  \\\n",
       "0                  3                   8            3    -0.044479 -0.492138   \n",
       "1                  3                   8            3     0.982979 -0.492138   \n",
       "2                  3                   8            3    -0.522363 -0.492138   \n",
       "3                  3                   8            3    -0.261903 -0.492138   \n",
       "4                  3                   8            3    -1.221262  1.229188   \n",
       "\n",
       "   registered_via  target  \n",
       "0        0.964324       0  \n",
       "1        0.964324       0  \n",
       "2        0.964324       1  \n",
       "3        0.964324       1  \n",
       "4        0.964324       1  "
      ]
     },
     "execution_count": 35,
     "metadata": {},
     "output_type": "execute_result"
    }
   ],
   "source": [
    "data_final=pd.concat((cat_df_tf, num_df_tf), axis=1)\n",
    "data_final.head()"
   ]
  },
  {
   "cell_type": "code",
   "execution_count": 4,
   "id": "b0bcc92b",
   "metadata": {
    "id": "b0bcc92b"
   },
   "outputs": [],
   "source": [
    "#data_final.to_csv(\"movie_reccomendation_final.csv\", index=False)\n",
    "#data_final=pd.read_csv(\"/content/drive/MyDrive/Colab Notebooks/AI & Deep Learning/Datasets/movie_reccomendation_final.csv\")"
   ]
  },
  {
   "cell_type": "markdown",
   "id": "4b747cc7",
   "metadata": {},
   "source": [
    "Clean data link: https://drive.google.com/file/d/1QF23G_DS0dzCGUUorVSdQVmPLjrTwXFH/view?usp=sharing"
   ]
  },
  {
   "cell_type": "code",
   "execution_count": null,
   "id": "38f1abea",
   "metadata": {
    "id": "38f1abea"
   },
   "outputs": [],
   "source": []
  },
  {
   "cell_type": "markdown",
   "id": "b8a684ff",
   "metadata": {
    "id": "b8a684ff"
   },
   "source": [
    "## Machine Learning Classification model to predict the target"
   ]
  },
  {
   "cell_type": "markdown",
   "id": "a5412a8c",
   "metadata": {
    "id": "a5412a8c"
   },
   "source": [
    "### Seperate Input and Target variables"
   ]
  },
  {
   "cell_type": "code",
   "execution_count": 5,
   "id": "3c9bb682",
   "metadata": {
    "id": "3c9bb682"
   },
   "outputs": [],
   "source": [
    "X=data_final.drop('target', axis=1)\n",
    "y=data_final['target']"
   ]
  },
  {
   "cell_type": "markdown",
   "id": "35cb290e",
   "metadata": {
    "id": "35cb290e"
   },
   "source": [
    "### SPlit data into train and test set"
   ]
  },
  {
   "cell_type": "code",
   "execution_count": 6,
   "id": "8d2b4f7b",
   "metadata": {
    "id": "8d2b4f7b"
   },
   "outputs": [],
   "source": [
    "from sklearn.model_selection import train_test_split\n",
    "x_train,x_test, y_train, y_test=train_test_split(X, y, test_size=0.2, random_state=0)"
   ]
  },
  {
   "cell_type": "markdown",
   "id": "d6da914b",
   "metadata": {
    "id": "d6da914b"
   },
   "source": [
    "### 1. Logistic Regression"
   ]
  },
  {
   "cell_type": "markdown",
   "id": "d7885cce",
   "metadata": {
    "id": "d7885cce"
   },
   "source": [
    "#### Training and prediction"
   ]
  },
  {
   "cell_type": "code",
   "execution_count": 8,
   "id": "cb3032be",
   "metadata": {
    "id": "cb3032be"
   },
   "outputs": [],
   "source": [
    "from sklearn.linear_model import LogisticRegression\n",
    "lr=LogisticRegression()\n",
    "lr=lr.fit(x_train,y_train)\n",
    "y_pred=lr.predict(x_test)"
   ]
  },
  {
   "cell_type": "markdown",
   "id": "41bcb49b",
   "metadata": {
    "id": "41bcb49b"
   },
   "source": [
    "#### Evaluation of model"
   ]
  },
  {
   "cell_type": "code",
   "execution_count": 9,
   "id": "8794fe18",
   "metadata": {
    "colab": {
     "base_uri": "https://localhost:8080/"
    },
    "id": "8794fe18",
    "outputId": "d1d44cd7-9d60-44fa-9a3c-d89c74e71851"
   },
   "outputs": [
    {
     "name": "stdout",
     "output_type": "stream",
     "text": [
      "Confusion Matrix::\n",
      " [[  1473 335238]\n",
      " [  1252 384630]]\n",
      "Out of total 722593 test cases, 336490 are missclassified)\n"
     ]
    }
   ],
   "source": [
    "from sklearn.metrics import classification_report, confusion_matrix, accuracy_score\n",
    "print(\"Confusion Matrix::\\n\", confusion_matrix(y_test, y_pred))\n",
    "print(f\"Out of total {y_test.shape[0]} test cases, {sum(y_pred!=y_test)} are missclassified)\")"
   ]
  },
  {
   "cell_type": "markdown",
   "id": "926b4d41",
   "metadata": {
    "id": "926b4d41"
   },
   "source": [
    "**Nearly 50% are missclassified.**"
   ]
  },
  {
   "cell_type": "code",
   "execution_count": 10,
   "id": "d5eaf690",
   "metadata": {
    "colab": {
     "base_uri": "https://localhost:8080/"
    },
    "id": "d5eaf690",
    "outputId": "cdba01a5-9209-4d5a-9ce2-7536a8c8869e",
    "scrolled": true
   },
   "outputs": [
    {
     "name": "stdout",
     "output_type": "stream",
     "text": [
      "Claasification report::\n",
      "               precision    recall  f1-score   support\n",
      "\n",
      "           0       0.54      0.00      0.01    336711\n",
      "           1       0.53      1.00      0.70    385882\n",
      "\n",
      "    accuracy                           0.53    722593\n",
      "   macro avg       0.54      0.50      0.35    722593\n",
      "weighted avg       0.54      0.53      0.38    722593\n",
      "\n"
     ]
    }
   ],
   "source": [
    "print(\"Claasification report::\\n\", classification_report(y_test,y_pred))"
   ]
  },
  {
   "cell_type": "code",
   "execution_count": 11,
   "id": "37bdb796",
   "metadata": {
    "colab": {
     "base_uri": "https://localhost:8080/",
     "height": 81
    },
    "id": "37bdb796",
    "outputId": "6bec246a-f600-4532-ebc4-9861238665b6"
   },
   "outputs": [
    {
     "data": {
      "text/html": [
       "\n",
       "  <div id=\"df-0b5bcca1-5013-4ac5-979c-a250daf71321\">\n",
       "    <div class=\"colab-df-container\">\n",
       "      <div>\n",
       "<style scoped>\n",
       "    .dataframe tbody tr th:only-of-type {\n",
       "        vertical-align: middle;\n",
       "    }\n",
       "\n",
       "    .dataframe tbody tr th {\n",
       "        vertical-align: top;\n",
       "    }\n",
       "\n",
       "    .dataframe thead th {\n",
       "        text-align: right;\n",
       "    }\n",
       "</style>\n",
       "<table border=\"1\" class=\"dataframe\">\n",
       "  <thead>\n",
       "    <tr style=\"text-align: right;\">\n",
       "      <th></th>\n",
       "      <th>Algorithm</th>\n",
       "      <th>Accuracy</th>\n",
       "    </tr>\n",
       "  </thead>\n",
       "  <tbody>\n",
       "    <tr>\n",
       "      <th>0</th>\n",
       "      <td>Logistic Regression</td>\n",
       "      <td>53.43</td>\n",
       "    </tr>\n",
       "  </tbody>\n",
       "</table>\n",
       "</div>\n",
       "      <button class=\"colab-df-convert\" onclick=\"convertToInteractive('df-0b5bcca1-5013-4ac5-979c-a250daf71321')\"\n",
       "              title=\"Convert this dataframe to an interactive table.\"\n",
       "              style=\"display:none;\">\n",
       "        \n",
       "  <svg xmlns=\"http://www.w3.org/2000/svg\" height=\"24px\"viewBox=\"0 0 24 24\"\n",
       "       width=\"24px\">\n",
       "    <path d=\"M0 0h24v24H0V0z\" fill=\"none\"/>\n",
       "    <path d=\"M18.56 5.44l.94 2.06.94-2.06 2.06-.94-2.06-.94-.94-2.06-.94 2.06-2.06.94zm-11 1L8.5 8.5l.94-2.06 2.06-.94-2.06-.94L8.5 2.5l-.94 2.06-2.06.94zm10 10l.94 2.06.94-2.06 2.06-.94-2.06-.94-.94-2.06-.94 2.06-2.06.94z\"/><path d=\"M17.41 7.96l-1.37-1.37c-.4-.4-.92-.59-1.43-.59-.52 0-1.04.2-1.43.59L10.3 9.45l-7.72 7.72c-.78.78-.78 2.05 0 2.83L4 21.41c.39.39.9.59 1.41.59.51 0 1.02-.2 1.41-.59l7.78-7.78 2.81-2.81c.8-.78.8-2.07 0-2.86zM5.41 20L4 18.59l7.72-7.72 1.47 1.35L5.41 20z\"/>\n",
       "  </svg>\n",
       "      </button>\n",
       "      \n",
       "  <style>\n",
       "    .colab-df-container {\n",
       "      display:flex;\n",
       "      flex-wrap:wrap;\n",
       "      gap: 12px;\n",
       "    }\n",
       "\n",
       "    .colab-df-convert {\n",
       "      background-color: #E8F0FE;\n",
       "      border: none;\n",
       "      border-radius: 50%;\n",
       "      cursor: pointer;\n",
       "      display: none;\n",
       "      fill: #1967D2;\n",
       "      height: 32px;\n",
       "      padding: 0 0 0 0;\n",
       "      width: 32px;\n",
       "    }\n",
       "\n",
       "    .colab-df-convert:hover {\n",
       "      background-color: #E2EBFA;\n",
       "      box-shadow: 0px 1px 2px rgba(60, 64, 67, 0.3), 0px 1px 3px 1px rgba(60, 64, 67, 0.15);\n",
       "      fill: #174EA6;\n",
       "    }\n",
       "\n",
       "    [theme=dark] .colab-df-convert {\n",
       "      background-color: #3B4455;\n",
       "      fill: #D2E3FC;\n",
       "    }\n",
       "\n",
       "    [theme=dark] .colab-df-convert:hover {\n",
       "      background-color: #434B5C;\n",
       "      box-shadow: 0px 1px 3px 1px rgba(0, 0, 0, 0.15);\n",
       "      filter: drop-shadow(0px 1px 2px rgba(0, 0, 0, 0.3));\n",
       "      fill: #FFFFFF;\n",
       "    }\n",
       "  </style>\n",
       "\n",
       "      <script>\n",
       "        const buttonEl =\n",
       "          document.querySelector('#df-0b5bcca1-5013-4ac5-979c-a250daf71321 button.colab-df-convert');\n",
       "        buttonEl.style.display =\n",
       "          google.colab.kernel.accessAllowed ? 'block' : 'none';\n",
       "\n",
       "        async function convertToInteractive(key) {\n",
       "          const element = document.querySelector('#df-0b5bcca1-5013-4ac5-979c-a250daf71321');\n",
       "          const dataTable =\n",
       "            await google.colab.kernel.invokeFunction('convertToInteractive',\n",
       "                                                     [key], {});\n",
       "          if (!dataTable) return;\n",
       "\n",
       "          const docLinkHtml = 'Like what you see? Visit the ' +\n",
       "            '<a target=\"_blank\" href=https://colab.research.google.com/notebooks/data_table.ipynb>data table notebook</a>'\n",
       "            + ' to learn more about interactive tables.';\n",
       "          element.innerHTML = '';\n",
       "          dataTable['output_type'] = 'display_data';\n",
       "          await google.colab.output.renderOutput(dataTable, element);\n",
       "          const docLink = document.createElement('div');\n",
       "          docLink.innerHTML = docLinkHtml;\n",
       "          element.appendChild(docLink);\n",
       "        }\n",
       "      </script>\n",
       "    </div>\n",
       "  </div>\n",
       "  "
      ],
      "text/plain": [
       "             Algorithm  Accuracy\n",
       "0  Logistic Regression     53.43"
      ]
     },
     "execution_count": 11,
     "metadata": {},
     "output_type": "execute_result"
    }
   ],
   "source": [
    "acc=(accuracy_score(y_test,y_pred)*100).round(2)\n",
    "result=pd.DataFrame({\"Algorithm\":[\"Logistic Regression\"], \"Accuracy\":[acc]})\n",
    "result"
   ]
  },
  {
   "cell_type": "markdown",
   "id": "7374cb38",
   "metadata": {
    "id": "7374cb38"
   },
   "source": [
    "### Accuracy is very low."
   ]
  },
  {
   "cell_type": "code",
   "execution_count": 11,
   "id": "5ed87315",
   "metadata": {
    "id": "5ed87315"
   },
   "outputs": [],
   "source": []
  },
  {
   "cell_type": "markdown",
   "id": "dfdcf027",
   "metadata": {
    "id": "dfdcf027"
   },
   "source": [
    "### 2. Decision Tree CLassifier"
   ]
  },
  {
   "cell_type": "markdown",
   "id": "9cf340ab",
   "metadata": {
    "id": "9cf340ab"
   },
   "source": [
    "#### Training and prediction"
   ]
  },
  {
   "cell_type": "code",
   "execution_count": 12,
   "id": "ce0eded1",
   "metadata": {
    "id": "ce0eded1"
   },
   "outputs": [],
   "source": [
    "from sklearn.tree import DecisionTreeClassifier\n",
    "dt=DecisionTreeClassifier()\n",
    "dt=dt.fit(x_train,y_train)\n",
    "y_pred=dt.predict(x_test)"
   ]
  },
  {
   "cell_type": "markdown",
   "id": "de7ac96b",
   "metadata": {
    "id": "de7ac96b"
   },
   "source": [
    "#### Evaluation of model"
   ]
  },
  {
   "cell_type": "code",
   "execution_count": 13,
   "id": "7ef5b584",
   "metadata": {
    "colab": {
     "base_uri": "https://localhost:8080/"
    },
    "id": "7ef5b584",
    "outputId": "32592d85-d5b9-425f-c639-e324e72d00b7"
   },
   "outputs": [
    {
     "name": "stdout",
     "output_type": "stream",
     "text": [
      "Confusion Matrix::\n",
      " [[190735 145976]\n",
      " [143792 242090]]\n",
      "Out of total 722593 test cases, 289768 are missclassified)\n"
     ]
    }
   ],
   "source": [
    "print(\"Confusion Matrix::\\n\", confusion_matrix(y_test, y_pred))\n",
    "print(f\"Out of total {y_test.shape[0]} test cases, {sum(y_pred!=y_test)} are missclassified)\")"
   ]
  },
  {
   "cell_type": "markdown",
   "id": "0651c85d",
   "metadata": {
    "id": "0651c85d"
   },
   "source": [
    "**About 40% values are Missclassified .**"
   ]
  },
  {
   "cell_type": "code",
   "execution_count": 14,
   "id": "418c97e4",
   "metadata": {
    "colab": {
     "base_uri": "https://localhost:8080/"
    },
    "id": "418c97e4",
    "outputId": "cdfdcde6-6698-4cf1-fb4a-182208daeebe"
   },
   "outputs": [
    {
     "name": "stdout",
     "output_type": "stream",
     "text": [
      "Claasification report::\n",
      "               precision    recall  f1-score   support\n",
      "\n",
      "           0       0.57      0.57      0.57    336711\n",
      "           1       0.62      0.63      0.63    385882\n",
      "\n",
      "    accuracy                           0.60    722593\n",
      "   macro avg       0.60      0.60      0.60    722593\n",
      "weighted avg       0.60      0.60      0.60    722593\n",
      "\n"
     ]
    }
   ],
   "source": [
    "print(\"Claasification report::\\n\", classification_report(y_test,y_pred))"
   ]
  },
  {
   "cell_type": "code",
   "execution_count": 15,
   "id": "dfe561a5",
   "metadata": {
    "colab": {
     "base_uri": "https://localhost:8080/",
     "height": 112
    },
    "id": "dfe561a5",
    "outputId": "63ab3ac3-1007-4db4-f2cc-78af27dd69cf"
   },
   "outputs": [
    {
     "data": {
      "text/html": [
       "\n",
       "  <div id=\"df-95609355-cd93-45dd-bec9-1eb52b035b31\">\n",
       "    <div class=\"colab-df-container\">\n",
       "      <div>\n",
       "<style scoped>\n",
       "    .dataframe tbody tr th:only-of-type {\n",
       "        vertical-align: middle;\n",
       "    }\n",
       "\n",
       "    .dataframe tbody tr th {\n",
       "        vertical-align: top;\n",
       "    }\n",
       "\n",
       "    .dataframe thead th {\n",
       "        text-align: right;\n",
       "    }\n",
       "</style>\n",
       "<table border=\"1\" class=\"dataframe\">\n",
       "  <thead>\n",
       "    <tr style=\"text-align: right;\">\n",
       "      <th></th>\n",
       "      <th>Algorithm</th>\n",
       "      <th>Accuracy</th>\n",
       "    </tr>\n",
       "  </thead>\n",
       "  <tbody>\n",
       "    <tr>\n",
       "      <th>0</th>\n",
       "      <td>Logistic Regression</td>\n",
       "      <td>53.43</td>\n",
       "    </tr>\n",
       "    <tr>\n",
       "      <th>0</th>\n",
       "      <td>Decision Tree</td>\n",
       "      <td>59.90</td>\n",
       "    </tr>\n",
       "  </tbody>\n",
       "</table>\n",
       "</div>\n",
       "      <button class=\"colab-df-convert\" onclick=\"convertToInteractive('df-95609355-cd93-45dd-bec9-1eb52b035b31')\"\n",
       "              title=\"Convert this dataframe to an interactive table.\"\n",
       "              style=\"display:none;\">\n",
       "        \n",
       "  <svg xmlns=\"http://www.w3.org/2000/svg\" height=\"24px\"viewBox=\"0 0 24 24\"\n",
       "       width=\"24px\">\n",
       "    <path d=\"M0 0h24v24H0V0z\" fill=\"none\"/>\n",
       "    <path d=\"M18.56 5.44l.94 2.06.94-2.06 2.06-.94-2.06-.94-.94-2.06-.94 2.06-2.06.94zm-11 1L8.5 8.5l.94-2.06 2.06-.94-2.06-.94L8.5 2.5l-.94 2.06-2.06.94zm10 10l.94 2.06.94-2.06 2.06-.94-2.06-.94-.94-2.06-.94 2.06-2.06.94z\"/><path d=\"M17.41 7.96l-1.37-1.37c-.4-.4-.92-.59-1.43-.59-.52 0-1.04.2-1.43.59L10.3 9.45l-7.72 7.72c-.78.78-.78 2.05 0 2.83L4 21.41c.39.39.9.59 1.41.59.51 0 1.02-.2 1.41-.59l7.78-7.78 2.81-2.81c.8-.78.8-2.07 0-2.86zM5.41 20L4 18.59l7.72-7.72 1.47 1.35L5.41 20z\"/>\n",
       "  </svg>\n",
       "      </button>\n",
       "      \n",
       "  <style>\n",
       "    .colab-df-container {\n",
       "      display:flex;\n",
       "      flex-wrap:wrap;\n",
       "      gap: 12px;\n",
       "    }\n",
       "\n",
       "    .colab-df-convert {\n",
       "      background-color: #E8F0FE;\n",
       "      border: none;\n",
       "      border-radius: 50%;\n",
       "      cursor: pointer;\n",
       "      display: none;\n",
       "      fill: #1967D2;\n",
       "      height: 32px;\n",
       "      padding: 0 0 0 0;\n",
       "      width: 32px;\n",
       "    }\n",
       "\n",
       "    .colab-df-convert:hover {\n",
       "      background-color: #E2EBFA;\n",
       "      box-shadow: 0px 1px 2px rgba(60, 64, 67, 0.3), 0px 1px 3px 1px rgba(60, 64, 67, 0.15);\n",
       "      fill: #174EA6;\n",
       "    }\n",
       "\n",
       "    [theme=dark] .colab-df-convert {\n",
       "      background-color: #3B4455;\n",
       "      fill: #D2E3FC;\n",
       "    }\n",
       "\n",
       "    [theme=dark] .colab-df-convert:hover {\n",
       "      background-color: #434B5C;\n",
       "      box-shadow: 0px 1px 3px 1px rgba(0, 0, 0, 0.15);\n",
       "      filter: drop-shadow(0px 1px 2px rgba(0, 0, 0, 0.3));\n",
       "      fill: #FFFFFF;\n",
       "    }\n",
       "  </style>\n",
       "\n",
       "      <script>\n",
       "        const buttonEl =\n",
       "          document.querySelector('#df-95609355-cd93-45dd-bec9-1eb52b035b31 button.colab-df-convert');\n",
       "        buttonEl.style.display =\n",
       "          google.colab.kernel.accessAllowed ? 'block' : 'none';\n",
       "\n",
       "        async function convertToInteractive(key) {\n",
       "          const element = document.querySelector('#df-95609355-cd93-45dd-bec9-1eb52b035b31');\n",
       "          const dataTable =\n",
       "            await google.colab.kernel.invokeFunction('convertToInteractive',\n",
       "                                                     [key], {});\n",
       "          if (!dataTable) return;\n",
       "\n",
       "          const docLinkHtml = 'Like what you see? Visit the ' +\n",
       "            '<a target=\"_blank\" href=https://colab.research.google.com/notebooks/data_table.ipynb>data table notebook</a>'\n",
       "            + ' to learn more about interactive tables.';\n",
       "          element.innerHTML = '';\n",
       "          dataTable['output_type'] = 'display_data';\n",
       "          await google.colab.output.renderOutput(dataTable, element);\n",
       "          const docLink = document.createElement('div');\n",
       "          docLink.innerHTML = docLinkHtml;\n",
       "          element.appendChild(docLink);\n",
       "        }\n",
       "      </script>\n",
       "    </div>\n",
       "  </div>\n",
       "  "
      ],
      "text/plain": [
       "             Algorithm  Accuracy\n",
       "0  Logistic Regression     53.43\n",
       "0        Decision Tree     59.90"
      ]
     },
     "execution_count": 15,
     "metadata": {},
     "output_type": "execute_result"
    }
   ],
   "source": [
    "acc=(accuracy_score(y_test,y_pred)*100).round(2)\n",
    "results=pd.DataFrame({\"Algorithm\":[\"Decision Tree\"], \"Accuracy\":[acc]})\n",
    "result=pd.concat((result,results))\n",
    "result"
   ]
  },
  {
   "cell_type": "markdown",
   "id": "dbab5409",
   "metadata": {
    "id": "dbab5409"
   },
   "source": [
    "**Prediction Accuracy is 60%, Which os better than the Logistic Regression.**"
   ]
  },
  {
   "cell_type": "code",
   "execution_count": 15,
   "id": "2bd767c9",
   "metadata": {
    "id": "2bd767c9"
   },
   "outputs": [],
   "source": []
  },
  {
   "cell_type": "markdown",
   "id": "7b483688",
   "metadata": {
    "id": "7b483688"
   },
   "source": [
    "### 3. Naive Bayes classifier"
   ]
  },
  {
   "cell_type": "markdown",
   "id": "1937bb7c",
   "metadata": {
    "id": "1937bb7c"
   },
   "source": [
    "#### Training and prediction"
   ]
  },
  {
   "cell_type": "code",
   "execution_count": 16,
   "id": "77b6491a",
   "metadata": {
    "id": "77b6491a"
   },
   "outputs": [],
   "source": [
    "from sklearn.naive_bayes import GaussianNB\n",
    "naive=GaussianNB()\n",
    "naive=naive.fit(x_train,y_train)\n",
    "y_pred=naive.predict(x_test)"
   ]
  },
  {
   "cell_type": "markdown",
   "id": "3b58b72f",
   "metadata": {
    "id": "3b58b72f"
   },
   "source": [
    "#### EValuation of model"
   ]
  },
  {
   "cell_type": "code",
   "execution_count": 17,
   "id": "1f0c05c8",
   "metadata": {
    "colab": {
     "base_uri": "https://localhost:8080/"
    },
    "id": "1f0c05c8",
    "outputId": "883174de-67d5-4f16-f215-f229f4aa6dc5"
   },
   "outputs": [
    {
     "name": "stdout",
     "output_type": "stream",
     "text": [
      "Confusion Matrix::\n",
      " [[144759 191952]\n",
      " [102313 283569]]\n",
      "Out of total 722593 test cases, 294265 are missclassified)\n"
     ]
    }
   ],
   "source": [
    "print(\"Confusion Matrix::\\n\", confusion_matrix(y_test, y_pred))\n",
    "print(f\"Out of total {y_test.shape[0]} test cases, {sum(y_pred!=y_test)} are missclassified)\")"
   ]
  },
  {
   "cell_type": "markdown",
   "id": "d777e585",
   "metadata": {
    "id": "d777e585"
   },
   "source": [
    "**40% values are missclassified.**"
   ]
  },
  {
   "cell_type": "code",
   "execution_count": 18,
   "id": "5851395d",
   "metadata": {
    "colab": {
     "base_uri": "https://localhost:8080/"
    },
    "id": "5851395d",
    "outputId": "1392ee0e-3e3f-4baa-cb4c-9bc0f03e7d8b"
   },
   "outputs": [
    {
     "name": "stdout",
     "output_type": "stream",
     "text": [
      "Claasification report::\n",
      "               precision    recall  f1-score   support\n",
      "\n",
      "           0       0.59      0.43      0.50    336711\n",
      "           1       0.60      0.73      0.66    385882\n",
      "\n",
      "    accuracy                           0.59    722593\n",
      "   macro avg       0.59      0.58      0.58    722593\n",
      "weighted avg       0.59      0.59      0.58    722593\n",
      "\n"
     ]
    }
   ],
   "source": [
    "print(\"Claasification report::\\n\", classification_report(y_test,y_pred))"
   ]
  },
  {
   "cell_type": "code",
   "execution_count": 19,
   "id": "608cc37d",
   "metadata": {
    "colab": {
     "base_uri": "https://localhost:8080/",
     "height": 143
    },
    "id": "608cc37d",
    "outputId": "8dba07f0-1f0d-47a1-9c1e-d16b8153f913"
   },
   "outputs": [
    {
     "data": {
      "text/html": [
       "\n",
       "  <div id=\"df-7d044fb5-1aab-46a1-9150-3680488f2ca9\">\n",
       "    <div class=\"colab-df-container\">\n",
       "      <div>\n",
       "<style scoped>\n",
       "    .dataframe tbody tr th:only-of-type {\n",
       "        vertical-align: middle;\n",
       "    }\n",
       "\n",
       "    .dataframe tbody tr th {\n",
       "        vertical-align: top;\n",
       "    }\n",
       "\n",
       "    .dataframe thead th {\n",
       "        text-align: right;\n",
       "    }\n",
       "</style>\n",
       "<table border=\"1\" class=\"dataframe\">\n",
       "  <thead>\n",
       "    <tr style=\"text-align: right;\">\n",
       "      <th></th>\n",
       "      <th>Algorithm</th>\n",
       "      <th>Accuracy</th>\n",
       "    </tr>\n",
       "  </thead>\n",
       "  <tbody>\n",
       "    <tr>\n",
       "      <th>0</th>\n",
       "      <td>Logistic Regression</td>\n",
       "      <td>53.43</td>\n",
       "    </tr>\n",
       "    <tr>\n",
       "      <th>0</th>\n",
       "      <td>Decision Tree</td>\n",
       "      <td>59.90</td>\n",
       "    </tr>\n",
       "    <tr>\n",
       "      <th>0</th>\n",
       "      <td>Naive Bayes</td>\n",
       "      <td>59.28</td>\n",
       "    </tr>\n",
       "  </tbody>\n",
       "</table>\n",
       "</div>\n",
       "      <button class=\"colab-df-convert\" onclick=\"convertToInteractive('df-7d044fb5-1aab-46a1-9150-3680488f2ca9')\"\n",
       "              title=\"Convert this dataframe to an interactive table.\"\n",
       "              style=\"display:none;\">\n",
       "        \n",
       "  <svg xmlns=\"http://www.w3.org/2000/svg\" height=\"24px\"viewBox=\"0 0 24 24\"\n",
       "       width=\"24px\">\n",
       "    <path d=\"M0 0h24v24H0V0z\" fill=\"none\"/>\n",
       "    <path d=\"M18.56 5.44l.94 2.06.94-2.06 2.06-.94-2.06-.94-.94-2.06-.94 2.06-2.06.94zm-11 1L8.5 8.5l.94-2.06 2.06-.94-2.06-.94L8.5 2.5l-.94 2.06-2.06.94zm10 10l.94 2.06.94-2.06 2.06-.94-2.06-.94-.94-2.06-.94 2.06-2.06.94z\"/><path d=\"M17.41 7.96l-1.37-1.37c-.4-.4-.92-.59-1.43-.59-.52 0-1.04.2-1.43.59L10.3 9.45l-7.72 7.72c-.78.78-.78 2.05 0 2.83L4 21.41c.39.39.9.59 1.41.59.51 0 1.02-.2 1.41-.59l7.78-7.78 2.81-2.81c.8-.78.8-2.07 0-2.86zM5.41 20L4 18.59l7.72-7.72 1.47 1.35L5.41 20z\"/>\n",
       "  </svg>\n",
       "      </button>\n",
       "      \n",
       "  <style>\n",
       "    .colab-df-container {\n",
       "      display:flex;\n",
       "      flex-wrap:wrap;\n",
       "      gap: 12px;\n",
       "    }\n",
       "\n",
       "    .colab-df-convert {\n",
       "      background-color: #E8F0FE;\n",
       "      border: none;\n",
       "      border-radius: 50%;\n",
       "      cursor: pointer;\n",
       "      display: none;\n",
       "      fill: #1967D2;\n",
       "      height: 32px;\n",
       "      padding: 0 0 0 0;\n",
       "      width: 32px;\n",
       "    }\n",
       "\n",
       "    .colab-df-convert:hover {\n",
       "      background-color: #E2EBFA;\n",
       "      box-shadow: 0px 1px 2px rgba(60, 64, 67, 0.3), 0px 1px 3px 1px rgba(60, 64, 67, 0.15);\n",
       "      fill: #174EA6;\n",
       "    }\n",
       "\n",
       "    [theme=dark] .colab-df-convert {\n",
       "      background-color: #3B4455;\n",
       "      fill: #D2E3FC;\n",
       "    }\n",
       "\n",
       "    [theme=dark] .colab-df-convert:hover {\n",
       "      background-color: #434B5C;\n",
       "      box-shadow: 0px 1px 3px 1px rgba(0, 0, 0, 0.15);\n",
       "      filter: drop-shadow(0px 1px 2px rgba(0, 0, 0, 0.3));\n",
       "      fill: #FFFFFF;\n",
       "    }\n",
       "  </style>\n",
       "\n",
       "      <script>\n",
       "        const buttonEl =\n",
       "          document.querySelector('#df-7d044fb5-1aab-46a1-9150-3680488f2ca9 button.colab-df-convert');\n",
       "        buttonEl.style.display =\n",
       "          google.colab.kernel.accessAllowed ? 'block' : 'none';\n",
       "\n",
       "        async function convertToInteractive(key) {\n",
       "          const element = document.querySelector('#df-7d044fb5-1aab-46a1-9150-3680488f2ca9');\n",
       "          const dataTable =\n",
       "            await google.colab.kernel.invokeFunction('convertToInteractive',\n",
       "                                                     [key], {});\n",
       "          if (!dataTable) return;\n",
       "\n",
       "          const docLinkHtml = 'Like what you see? Visit the ' +\n",
       "            '<a target=\"_blank\" href=https://colab.research.google.com/notebooks/data_table.ipynb>data table notebook</a>'\n",
       "            + ' to learn more about interactive tables.';\n",
       "          element.innerHTML = '';\n",
       "          dataTable['output_type'] = 'display_data';\n",
       "          await google.colab.output.renderOutput(dataTable, element);\n",
       "          const docLink = document.createElement('div');\n",
       "          docLink.innerHTML = docLinkHtml;\n",
       "          element.appendChild(docLink);\n",
       "        }\n",
       "      </script>\n",
       "    </div>\n",
       "  </div>\n",
       "  "
      ],
      "text/plain": [
       "             Algorithm  Accuracy\n",
       "0  Logistic Regression     53.43\n",
       "0        Decision Tree     59.90\n",
       "0          Naive Bayes     59.28"
      ]
     },
     "execution_count": 19,
     "metadata": {},
     "output_type": "execute_result"
    }
   ],
   "source": [
    "acc=(accuracy_score(y_test,y_pred)*100).round(2)\n",
    "results=pd.DataFrame({\"Algorithm\":[\"Naive Bayes\"], \"Accuracy\":[acc]})\n",
    "result=pd.concat((result,results))\n",
    "result"
   ]
  },
  {
   "cell_type": "markdown",
   "id": "305aaf76",
   "metadata": {
    "id": "305aaf76"
   },
   "source": [
    "**Accuracy is 59%.**"
   ]
  },
  {
   "cell_type": "code",
   "execution_count": 19,
   "id": "e2fbf3ff",
   "metadata": {
    "id": "e2fbf3ff"
   },
   "outputs": [],
   "source": []
  },
  {
   "cell_type": "markdown",
   "id": "d30bd00b",
   "metadata": {
    "id": "d30bd00b"
   },
   "source": [
    "### 4. XGBoost classifier"
   ]
  },
  {
   "cell_type": "markdown",
   "id": "4db40bc4",
   "metadata": {
    "id": "4db40bc4"
   },
   "source": [
    "#### Training and prediction"
   ]
  },
  {
   "cell_type": "code",
   "execution_count": 20,
   "id": "1f243919",
   "metadata": {
    "id": "1f243919"
   },
   "outputs": [],
   "source": [
    "from xgboost import XGBClassifier\n",
    "xgb=XGBClassifier()\n",
    "xgb=xgb.fit(x_train, y_train)\n",
    "y_pred=xgb.predict(x_test)"
   ]
  },
  {
   "cell_type": "markdown",
   "id": "fd5e2bdf",
   "metadata": {
    "id": "fd5e2bdf"
   },
   "source": [
    "#### Model evaluation"
   ]
  },
  {
   "cell_type": "code",
   "execution_count": 21,
   "id": "de36ca9a",
   "metadata": {
    "colab": {
     "base_uri": "https://localhost:8080/"
    },
    "id": "de36ca9a",
    "outputId": "3735b929-1f7d-4cb5-a81b-5f2b5852ebdb"
   },
   "outputs": [
    {
     "name": "stdout",
     "output_type": "stream",
     "text": [
      "Confusion Matrix::\n",
      " [[182531 154180]\n",
      " [ 94663 291219]]\n",
      "Out of total 722593 test cases, 248843 are missclassified)\n"
     ]
    }
   ],
   "source": [
    "print(\"Confusion Matrix::\\n\", confusion_matrix(y_test, y_pred))\n",
    "print(f\"Out of total {y_test.shape[0]} test cases, {sum(y_pred!=y_test)} are missclassified)\")"
   ]
  },
  {
   "cell_type": "markdown",
   "id": "f81e9806",
   "metadata": {
    "id": "f81e9806"
   },
   "source": [
    "**Nearly 30% values are missclassified.**"
   ]
  },
  {
   "cell_type": "code",
   "execution_count": 22,
   "id": "d04d71e5",
   "metadata": {
    "colab": {
     "base_uri": "https://localhost:8080/"
    },
    "id": "d04d71e5",
    "outputId": "6c63a2bf-21ed-4973-d7ae-444f6e39c4cf"
   },
   "outputs": [
    {
     "name": "stdout",
     "output_type": "stream",
     "text": [
      "Claasification report::\n",
      "               precision    recall  f1-score   support\n",
      "\n",
      "           0       0.66      0.54      0.59    336711\n",
      "           1       0.65      0.75      0.70    385882\n",
      "\n",
      "    accuracy                           0.66    722593\n",
      "   macro avg       0.66      0.65      0.65    722593\n",
      "weighted avg       0.66      0.66      0.65    722593\n",
      "\n"
     ]
    }
   ],
   "source": [
    "print(\"Claasification report::\\n\", classification_report(y_test,y_pred))"
   ]
  },
  {
   "cell_type": "code",
   "execution_count": 23,
   "id": "f971dd3c",
   "metadata": {
    "colab": {
     "base_uri": "https://localhost:8080/",
     "height": 175
    },
    "id": "f971dd3c",
    "outputId": "b2fa54c8-77bf-4009-c7b6-a99090a70957"
   },
   "outputs": [
    {
     "data": {
      "text/html": [
       "\n",
       "  <div id=\"df-29a44deb-c44b-4770-817d-9961b5148e2d\">\n",
       "    <div class=\"colab-df-container\">\n",
       "      <div>\n",
       "<style scoped>\n",
       "    .dataframe tbody tr th:only-of-type {\n",
       "        vertical-align: middle;\n",
       "    }\n",
       "\n",
       "    .dataframe tbody tr th {\n",
       "        vertical-align: top;\n",
       "    }\n",
       "\n",
       "    .dataframe thead th {\n",
       "        text-align: right;\n",
       "    }\n",
       "</style>\n",
       "<table border=\"1\" class=\"dataframe\">\n",
       "  <thead>\n",
       "    <tr style=\"text-align: right;\">\n",
       "      <th></th>\n",
       "      <th>Algorithm</th>\n",
       "      <th>Accuracy</th>\n",
       "    </tr>\n",
       "  </thead>\n",
       "  <tbody>\n",
       "    <tr>\n",
       "      <th>0</th>\n",
       "      <td>Logistic Regression</td>\n",
       "      <td>53.43</td>\n",
       "    </tr>\n",
       "    <tr>\n",
       "      <th>0</th>\n",
       "      <td>Decision Tree</td>\n",
       "      <td>59.90</td>\n",
       "    </tr>\n",
       "    <tr>\n",
       "      <th>0</th>\n",
       "      <td>Naive Bayes</td>\n",
       "      <td>59.28</td>\n",
       "    </tr>\n",
       "    <tr>\n",
       "      <th>0</th>\n",
       "      <td>XGBoost</td>\n",
       "      <td>65.56</td>\n",
       "    </tr>\n",
       "  </tbody>\n",
       "</table>\n",
       "</div>\n",
       "      <button class=\"colab-df-convert\" onclick=\"convertToInteractive('df-29a44deb-c44b-4770-817d-9961b5148e2d')\"\n",
       "              title=\"Convert this dataframe to an interactive table.\"\n",
       "              style=\"display:none;\">\n",
       "        \n",
       "  <svg xmlns=\"http://www.w3.org/2000/svg\" height=\"24px\"viewBox=\"0 0 24 24\"\n",
       "       width=\"24px\">\n",
       "    <path d=\"M0 0h24v24H0V0z\" fill=\"none\"/>\n",
       "    <path d=\"M18.56 5.44l.94 2.06.94-2.06 2.06-.94-2.06-.94-.94-2.06-.94 2.06-2.06.94zm-11 1L8.5 8.5l.94-2.06 2.06-.94-2.06-.94L8.5 2.5l-.94 2.06-2.06.94zm10 10l.94 2.06.94-2.06 2.06-.94-2.06-.94-.94-2.06-.94 2.06-2.06.94z\"/><path d=\"M17.41 7.96l-1.37-1.37c-.4-.4-.92-.59-1.43-.59-.52 0-1.04.2-1.43.59L10.3 9.45l-7.72 7.72c-.78.78-.78 2.05 0 2.83L4 21.41c.39.39.9.59 1.41.59.51 0 1.02-.2 1.41-.59l7.78-7.78 2.81-2.81c.8-.78.8-2.07 0-2.86zM5.41 20L4 18.59l7.72-7.72 1.47 1.35L5.41 20z\"/>\n",
       "  </svg>\n",
       "      </button>\n",
       "      \n",
       "  <style>\n",
       "    .colab-df-container {\n",
       "      display:flex;\n",
       "      flex-wrap:wrap;\n",
       "      gap: 12px;\n",
       "    }\n",
       "\n",
       "    .colab-df-convert {\n",
       "      background-color: #E8F0FE;\n",
       "      border: none;\n",
       "      border-radius: 50%;\n",
       "      cursor: pointer;\n",
       "      display: none;\n",
       "      fill: #1967D2;\n",
       "      height: 32px;\n",
       "      padding: 0 0 0 0;\n",
       "      width: 32px;\n",
       "    }\n",
       "\n",
       "    .colab-df-convert:hover {\n",
       "      background-color: #E2EBFA;\n",
       "      box-shadow: 0px 1px 2px rgba(60, 64, 67, 0.3), 0px 1px 3px 1px rgba(60, 64, 67, 0.15);\n",
       "      fill: #174EA6;\n",
       "    }\n",
       "\n",
       "    [theme=dark] .colab-df-convert {\n",
       "      background-color: #3B4455;\n",
       "      fill: #D2E3FC;\n",
       "    }\n",
       "\n",
       "    [theme=dark] .colab-df-convert:hover {\n",
       "      background-color: #434B5C;\n",
       "      box-shadow: 0px 1px 3px 1px rgba(0, 0, 0, 0.15);\n",
       "      filter: drop-shadow(0px 1px 2px rgba(0, 0, 0, 0.3));\n",
       "      fill: #FFFFFF;\n",
       "    }\n",
       "  </style>\n",
       "\n",
       "      <script>\n",
       "        const buttonEl =\n",
       "          document.querySelector('#df-29a44deb-c44b-4770-817d-9961b5148e2d button.colab-df-convert');\n",
       "        buttonEl.style.display =\n",
       "          google.colab.kernel.accessAllowed ? 'block' : 'none';\n",
       "\n",
       "        async function convertToInteractive(key) {\n",
       "          const element = document.querySelector('#df-29a44deb-c44b-4770-817d-9961b5148e2d');\n",
       "          const dataTable =\n",
       "            await google.colab.kernel.invokeFunction('convertToInteractive',\n",
       "                                                     [key], {});\n",
       "          if (!dataTable) return;\n",
       "\n",
       "          const docLinkHtml = 'Like what you see? Visit the ' +\n",
       "            '<a target=\"_blank\" href=https://colab.research.google.com/notebooks/data_table.ipynb>data table notebook</a>'\n",
       "            + ' to learn more about interactive tables.';\n",
       "          element.innerHTML = '';\n",
       "          dataTable['output_type'] = 'display_data';\n",
       "          await google.colab.output.renderOutput(dataTable, element);\n",
       "          const docLink = document.createElement('div');\n",
       "          docLink.innerHTML = docLinkHtml;\n",
       "          element.appendChild(docLink);\n",
       "        }\n",
       "      </script>\n",
       "    </div>\n",
       "  </div>\n",
       "  "
      ],
      "text/plain": [
       "             Algorithm  Accuracy\n",
       "0  Logistic Regression     53.43\n",
       "0        Decision Tree     59.90\n",
       "0          Naive Bayes     59.28\n",
       "0              XGBoost     65.56"
      ]
     },
     "execution_count": 23,
     "metadata": {},
     "output_type": "execute_result"
    }
   ],
   "source": [
    "acc=(accuracy_score(y_test,y_pred)*100).round(2)\n",
    "results=pd.DataFrame({\"Algorithm\":[\"XGBoost\"], \"Accuracy\":[acc]})\n",
    "result=pd.concat((result,results))\n",
    "result"
   ]
  },
  {
   "cell_type": "markdown",
   "id": "4de3257e",
   "metadata": {
    "id": "4de3257e"
   },
   "source": [
    "**Prediction Accuracy is 66% which is far better than all previous algorithm.**"
   ]
  },
  {
   "cell_type": "code",
   "execution_count": null,
   "id": "ea7aea8d",
   "metadata": {
    "id": "ea7aea8d"
   },
   "outputs": [],
   "source": []
  },
  {
   "cell_type": "markdown",
   "id": "0d7775f1",
   "metadata": {
    "id": "0d7775f1"
   },
   "source": [
    "### 5. Gradient Boosting Classifier"
   ]
  },
  {
   "cell_type": "markdown",
   "id": "0d072236",
   "metadata": {
    "id": "0d072236"
   },
   "source": [
    "#### Training and prediction"
   ]
  },
  {
   "cell_type": "code",
   "execution_count": 24,
   "id": "98fa26c0",
   "metadata": {
    "id": "98fa26c0"
   },
   "outputs": [],
   "source": [
    "from sklearn.ensemble import GradientBoostingClassifier\n",
    "gbc=GradientBoostingClassifier()\n",
    "gbc.fit(x_train,y_train)\n",
    "y_pred=gbc.predict(x_test)"
   ]
  },
  {
   "cell_type": "markdown",
   "id": "58216ddf",
   "metadata": {
    "id": "58216ddf"
   },
   "source": [
    "#### Evaluation of model"
   ]
  },
  {
   "cell_type": "code",
   "execution_count": 25,
   "id": "b8f82e01",
   "metadata": {
    "colab": {
     "base_uri": "https://localhost:8080/"
    },
    "id": "b8f82e01",
    "outputId": "7c84093b-ee7f-4bf1-9399-308e681249ac"
   },
   "outputs": [
    {
     "name": "stdout",
     "output_type": "stream",
     "text": [
      "Confusion Matrix::\n",
      " [[189650 147061]\n",
      " [114466 271416]]\n",
      "Out of total 722593 test cases, 261527 are missclassified)\n"
     ]
    }
   ],
   "source": [
    "print(\"Confusion Matrix::\\n\", confusion_matrix(y_test, y_pred))\n",
    "print(f\"Out of total {y_test.shape[0]} test cases, {sum(y_pred!=y_test)} are missclassified)\")"
   ]
  },
  {
   "cell_type": "markdown",
   "id": "a6d055be",
   "metadata": {
    "id": "a6d055be"
   },
   "source": [
    "**Nearly 35% are missclassified values.**"
   ]
  },
  {
   "cell_type": "code",
   "execution_count": 26,
   "id": "68e95121",
   "metadata": {
    "colab": {
     "base_uri": "https://localhost:8080/"
    },
    "id": "68e95121",
    "outputId": "a12bc214-0113-4644-e7e5-80692ff1faf4"
   },
   "outputs": [
    {
     "name": "stdout",
     "output_type": "stream",
     "text": [
      "Claasification report::\n",
      "               precision    recall  f1-score   support\n",
      "\n",
      "           0       0.62      0.56      0.59    336711\n",
      "           1       0.65      0.70      0.67    385882\n",
      "\n",
      "    accuracy                           0.64    722593\n",
      "   macro avg       0.64      0.63      0.63    722593\n",
      "weighted avg       0.64      0.64      0.64    722593\n",
      "\n"
     ]
    }
   ],
   "source": [
    "print(\"Claasification report::\\n\", classification_report(y_test,y_pred))"
   ]
  },
  {
   "cell_type": "code",
   "execution_count": 27,
   "id": "509f92e4",
   "metadata": {
    "colab": {
     "base_uri": "https://localhost:8080/",
     "height": 206
    },
    "id": "509f92e4",
    "outputId": "25b23e8f-6eec-45c3-b612-0d22310fafe7"
   },
   "outputs": [
    {
     "data": {
      "text/html": [
       "\n",
       "  <div id=\"df-00998e8a-c810-4916-8c48-e5403d48ead4\">\n",
       "    <div class=\"colab-df-container\">\n",
       "      <div>\n",
       "<style scoped>\n",
       "    .dataframe tbody tr th:only-of-type {\n",
       "        vertical-align: middle;\n",
       "    }\n",
       "\n",
       "    .dataframe tbody tr th {\n",
       "        vertical-align: top;\n",
       "    }\n",
       "\n",
       "    .dataframe thead th {\n",
       "        text-align: right;\n",
       "    }\n",
       "</style>\n",
       "<table border=\"1\" class=\"dataframe\">\n",
       "  <thead>\n",
       "    <tr style=\"text-align: right;\">\n",
       "      <th></th>\n",
       "      <th>Algorithm</th>\n",
       "      <th>Accuracy</th>\n",
       "    </tr>\n",
       "  </thead>\n",
       "  <tbody>\n",
       "    <tr>\n",
       "      <th>0</th>\n",
       "      <td>Logistic Regression</td>\n",
       "      <td>53.43</td>\n",
       "    </tr>\n",
       "    <tr>\n",
       "      <th>0</th>\n",
       "      <td>Decision Tree</td>\n",
       "      <td>59.90</td>\n",
       "    </tr>\n",
       "    <tr>\n",
       "      <th>0</th>\n",
       "      <td>Naive Bayes</td>\n",
       "      <td>59.28</td>\n",
       "    </tr>\n",
       "    <tr>\n",
       "      <th>0</th>\n",
       "      <td>XGBoost</td>\n",
       "      <td>65.56</td>\n",
       "    </tr>\n",
       "    <tr>\n",
       "      <th>0</th>\n",
       "      <td>Gradient Boosting</td>\n",
       "      <td>63.81</td>\n",
       "    </tr>\n",
       "  </tbody>\n",
       "</table>\n",
       "</div>\n",
       "      <button class=\"colab-df-convert\" onclick=\"convertToInteractive('df-00998e8a-c810-4916-8c48-e5403d48ead4')\"\n",
       "              title=\"Convert this dataframe to an interactive table.\"\n",
       "              style=\"display:none;\">\n",
       "        \n",
       "  <svg xmlns=\"http://www.w3.org/2000/svg\" height=\"24px\"viewBox=\"0 0 24 24\"\n",
       "       width=\"24px\">\n",
       "    <path d=\"M0 0h24v24H0V0z\" fill=\"none\"/>\n",
       "    <path d=\"M18.56 5.44l.94 2.06.94-2.06 2.06-.94-2.06-.94-.94-2.06-.94 2.06-2.06.94zm-11 1L8.5 8.5l.94-2.06 2.06-.94-2.06-.94L8.5 2.5l-.94 2.06-2.06.94zm10 10l.94 2.06.94-2.06 2.06-.94-2.06-.94-.94-2.06-.94 2.06-2.06.94z\"/><path d=\"M17.41 7.96l-1.37-1.37c-.4-.4-.92-.59-1.43-.59-.52 0-1.04.2-1.43.59L10.3 9.45l-7.72 7.72c-.78.78-.78 2.05 0 2.83L4 21.41c.39.39.9.59 1.41.59.51 0 1.02-.2 1.41-.59l7.78-7.78 2.81-2.81c.8-.78.8-2.07 0-2.86zM5.41 20L4 18.59l7.72-7.72 1.47 1.35L5.41 20z\"/>\n",
       "  </svg>\n",
       "      </button>\n",
       "      \n",
       "  <style>\n",
       "    .colab-df-container {\n",
       "      display:flex;\n",
       "      flex-wrap:wrap;\n",
       "      gap: 12px;\n",
       "    }\n",
       "\n",
       "    .colab-df-convert {\n",
       "      background-color: #E8F0FE;\n",
       "      border: none;\n",
       "      border-radius: 50%;\n",
       "      cursor: pointer;\n",
       "      display: none;\n",
       "      fill: #1967D2;\n",
       "      height: 32px;\n",
       "      padding: 0 0 0 0;\n",
       "      width: 32px;\n",
       "    }\n",
       "\n",
       "    .colab-df-convert:hover {\n",
       "      background-color: #E2EBFA;\n",
       "      box-shadow: 0px 1px 2px rgba(60, 64, 67, 0.3), 0px 1px 3px 1px rgba(60, 64, 67, 0.15);\n",
       "      fill: #174EA6;\n",
       "    }\n",
       "\n",
       "    [theme=dark] .colab-df-convert {\n",
       "      background-color: #3B4455;\n",
       "      fill: #D2E3FC;\n",
       "    }\n",
       "\n",
       "    [theme=dark] .colab-df-convert:hover {\n",
       "      background-color: #434B5C;\n",
       "      box-shadow: 0px 1px 3px 1px rgba(0, 0, 0, 0.15);\n",
       "      filter: drop-shadow(0px 1px 2px rgba(0, 0, 0, 0.3));\n",
       "      fill: #FFFFFF;\n",
       "    }\n",
       "  </style>\n",
       "\n",
       "      <script>\n",
       "        const buttonEl =\n",
       "          document.querySelector('#df-00998e8a-c810-4916-8c48-e5403d48ead4 button.colab-df-convert');\n",
       "        buttonEl.style.display =\n",
       "          google.colab.kernel.accessAllowed ? 'block' : 'none';\n",
       "\n",
       "        async function convertToInteractive(key) {\n",
       "          const element = document.querySelector('#df-00998e8a-c810-4916-8c48-e5403d48ead4');\n",
       "          const dataTable =\n",
       "            await google.colab.kernel.invokeFunction('convertToInteractive',\n",
       "                                                     [key], {});\n",
       "          if (!dataTable) return;\n",
       "\n",
       "          const docLinkHtml = 'Like what you see? Visit the ' +\n",
       "            '<a target=\"_blank\" href=https://colab.research.google.com/notebooks/data_table.ipynb>data table notebook</a>'\n",
       "            + ' to learn more about interactive tables.';\n",
       "          element.innerHTML = '';\n",
       "          dataTable['output_type'] = 'display_data';\n",
       "          await google.colab.output.renderOutput(dataTable, element);\n",
       "          const docLink = document.createElement('div');\n",
       "          docLink.innerHTML = docLinkHtml;\n",
       "          element.appendChild(docLink);\n",
       "        }\n",
       "      </script>\n",
       "    </div>\n",
       "  </div>\n",
       "  "
      ],
      "text/plain": [
       "             Algorithm  Accuracy\n",
       "0  Logistic Regression     53.43\n",
       "0        Decision Tree     59.90\n",
       "0          Naive Bayes     59.28\n",
       "0              XGBoost     65.56\n",
       "0    Gradient Boosting     63.81"
      ]
     },
     "execution_count": 27,
     "metadata": {},
     "output_type": "execute_result"
    }
   ],
   "source": [
    "acc=(accuracy_score(y_test,y_pred)*100).round(2)\n",
    "results=pd.DataFrame({\"Algorithm\":[\"Gradient Boosting\"], \"Accuracy\":[acc]})\n",
    "result=pd.concat((result,results))\n",
    "result"
   ]
  },
  {
   "cell_type": "markdown",
   "id": "f44c6035",
   "metadata": {
    "id": "f44c6035"
   },
   "source": [
    "**Accuracy is 64%.**"
   ]
  },
  {
   "cell_type": "code",
   "execution_count": null,
   "id": "7d846bbe",
   "metadata": {
    "id": "7d846bbe"
   },
   "outputs": [],
   "source": []
  },
  {
   "cell_type": "markdown",
   "id": "9b1f734f",
   "metadata": {
    "id": "9b1f734f"
   },
   "source": [
    "### 6. LGBM Classifier"
   ]
  },
  {
   "cell_type": "markdown",
   "id": "850bc5d9",
   "metadata": {
    "id": "850bc5d9"
   },
   "source": [
    "#### Training and prediction"
   ]
  },
  {
   "cell_type": "code",
   "execution_count": 7,
   "id": "e3221668",
   "metadata": {
    "id": "e3221668"
   },
   "outputs": [],
   "source": [
    "from lightgbm import LGBMClassifier\n",
    "lgbm=LGBMClassifier()\n",
    "lgbm=lgbm.fit(x_train,y_train)\n",
    "y_pred=lgbm.predict(x_test)"
   ]
  },
  {
   "cell_type": "markdown",
   "id": "b4fc1741",
   "metadata": {
    "id": "b4fc1741"
   },
   "source": [
    "#### Model Evaluation"
   ]
  },
  {
   "cell_type": "code",
   "execution_count": 29,
   "id": "dc01a75e",
   "metadata": {
    "colab": {
     "base_uri": "https://localhost:8080/"
    },
    "id": "dc01a75e",
    "outputId": "ec8faacf-223d-48f1-a339-fde39a55aff1"
   },
   "outputs": [
    {
     "name": "stdout",
     "output_type": "stream",
     "text": [
      "Confusion Matrix::\n",
      " [[182357 154354]\n",
      " [100444 285438]]\n",
      "Out of total 722593 test cases, 254798 are missclassified)\n"
     ]
    }
   ],
   "source": [
    "print(\"Confusion Matrix::\\n\", confusion_matrix(y_test, y_pred))\n",
    "print(f\"Out of total {y_test.shape[0]} test cases, {sum(y_pred!=y_test)} are missclassified)\")"
   ]
  },
  {
   "cell_type": "markdown",
   "id": "0bdc9a97",
   "metadata": {
    "id": "0bdc9a97"
   },
   "source": [
    "**Nearly 35% are missclassified values.**"
   ]
  },
  {
   "cell_type": "code",
   "execution_count": 30,
   "id": "81a8429b",
   "metadata": {
    "colab": {
     "base_uri": "https://localhost:8080/"
    },
    "id": "81a8429b",
    "outputId": "600f5bdd-4899-49d5-96e0-6b9c4bd3e481"
   },
   "outputs": [
    {
     "name": "stdout",
     "output_type": "stream",
     "text": [
      "Claasification report::\n",
      "               precision    recall  f1-score   support\n",
      "\n",
      "           0       0.64      0.54      0.59    336711\n",
      "           1       0.65      0.74      0.69    385882\n",
      "\n",
      "    accuracy                           0.65    722593\n",
      "   macro avg       0.65      0.64      0.64    722593\n",
      "weighted avg       0.65      0.65      0.64    722593\n",
      "\n"
     ]
    }
   ],
   "source": [
    "print(\"Claasification report::\\n\", classification_report(y_test,y_pred))"
   ]
  },
  {
   "cell_type": "code",
   "execution_count": 31,
   "id": "21159205",
   "metadata": {
    "colab": {
     "base_uri": "https://localhost:8080/",
     "height": 237
    },
    "id": "21159205",
    "outputId": "f2fd86b8-3dc7-4292-90cd-2f953fc1cc47"
   },
   "outputs": [
    {
     "data": {
      "text/html": [
       "\n",
       "  <div id=\"df-5fbca4d6-ee26-45b2-8172-7086fe542829\">\n",
       "    <div class=\"colab-df-container\">\n",
       "      <div>\n",
       "<style scoped>\n",
       "    .dataframe tbody tr th:only-of-type {\n",
       "        vertical-align: middle;\n",
       "    }\n",
       "\n",
       "    .dataframe tbody tr th {\n",
       "        vertical-align: top;\n",
       "    }\n",
       "\n",
       "    .dataframe thead th {\n",
       "        text-align: right;\n",
       "    }\n",
       "</style>\n",
       "<table border=\"1\" class=\"dataframe\">\n",
       "  <thead>\n",
       "    <tr style=\"text-align: right;\">\n",
       "      <th></th>\n",
       "      <th>Algorithm</th>\n",
       "      <th>Accuracy</th>\n",
       "    </tr>\n",
       "  </thead>\n",
       "  <tbody>\n",
       "    <tr>\n",
       "      <th>0</th>\n",
       "      <td>Logistic Regression</td>\n",
       "      <td>53.43</td>\n",
       "    </tr>\n",
       "    <tr>\n",
       "      <th>0</th>\n",
       "      <td>Decision Tree</td>\n",
       "      <td>59.90</td>\n",
       "    </tr>\n",
       "    <tr>\n",
       "      <th>0</th>\n",
       "      <td>Naive Bayes</td>\n",
       "      <td>59.28</td>\n",
       "    </tr>\n",
       "    <tr>\n",
       "      <th>0</th>\n",
       "      <td>XGBoost</td>\n",
       "      <td>65.56</td>\n",
       "    </tr>\n",
       "    <tr>\n",
       "      <th>0</th>\n",
       "      <td>Gradient Boosting</td>\n",
       "      <td>63.81</td>\n",
       "    </tr>\n",
       "    <tr>\n",
       "      <th>0</th>\n",
       "      <td>LGBM</td>\n",
       "      <td>64.74</td>\n",
       "    </tr>\n",
       "  </tbody>\n",
       "</table>\n",
       "</div>\n",
       "      <button class=\"colab-df-convert\" onclick=\"convertToInteractive('df-5fbca4d6-ee26-45b2-8172-7086fe542829')\"\n",
       "              title=\"Convert this dataframe to an interactive table.\"\n",
       "              style=\"display:none;\">\n",
       "        \n",
       "  <svg xmlns=\"http://www.w3.org/2000/svg\" height=\"24px\"viewBox=\"0 0 24 24\"\n",
       "       width=\"24px\">\n",
       "    <path d=\"M0 0h24v24H0V0z\" fill=\"none\"/>\n",
       "    <path d=\"M18.56 5.44l.94 2.06.94-2.06 2.06-.94-2.06-.94-.94-2.06-.94 2.06-2.06.94zm-11 1L8.5 8.5l.94-2.06 2.06-.94-2.06-.94L8.5 2.5l-.94 2.06-2.06.94zm10 10l.94 2.06.94-2.06 2.06-.94-2.06-.94-.94-2.06-.94 2.06-2.06.94z\"/><path d=\"M17.41 7.96l-1.37-1.37c-.4-.4-.92-.59-1.43-.59-.52 0-1.04.2-1.43.59L10.3 9.45l-7.72 7.72c-.78.78-.78 2.05 0 2.83L4 21.41c.39.39.9.59 1.41.59.51 0 1.02-.2 1.41-.59l7.78-7.78 2.81-2.81c.8-.78.8-2.07 0-2.86zM5.41 20L4 18.59l7.72-7.72 1.47 1.35L5.41 20z\"/>\n",
       "  </svg>\n",
       "      </button>\n",
       "      \n",
       "  <style>\n",
       "    .colab-df-container {\n",
       "      display:flex;\n",
       "      flex-wrap:wrap;\n",
       "      gap: 12px;\n",
       "    }\n",
       "\n",
       "    .colab-df-convert {\n",
       "      background-color: #E8F0FE;\n",
       "      border: none;\n",
       "      border-radius: 50%;\n",
       "      cursor: pointer;\n",
       "      display: none;\n",
       "      fill: #1967D2;\n",
       "      height: 32px;\n",
       "      padding: 0 0 0 0;\n",
       "      width: 32px;\n",
       "    }\n",
       "\n",
       "    .colab-df-convert:hover {\n",
       "      background-color: #E2EBFA;\n",
       "      box-shadow: 0px 1px 2px rgba(60, 64, 67, 0.3), 0px 1px 3px 1px rgba(60, 64, 67, 0.15);\n",
       "      fill: #174EA6;\n",
       "    }\n",
       "\n",
       "    [theme=dark] .colab-df-convert {\n",
       "      background-color: #3B4455;\n",
       "      fill: #D2E3FC;\n",
       "    }\n",
       "\n",
       "    [theme=dark] .colab-df-convert:hover {\n",
       "      background-color: #434B5C;\n",
       "      box-shadow: 0px 1px 3px 1px rgba(0, 0, 0, 0.15);\n",
       "      filter: drop-shadow(0px 1px 2px rgba(0, 0, 0, 0.3));\n",
       "      fill: #FFFFFF;\n",
       "    }\n",
       "  </style>\n",
       "\n",
       "      <script>\n",
       "        const buttonEl =\n",
       "          document.querySelector('#df-5fbca4d6-ee26-45b2-8172-7086fe542829 button.colab-df-convert');\n",
       "        buttonEl.style.display =\n",
       "          google.colab.kernel.accessAllowed ? 'block' : 'none';\n",
       "\n",
       "        async function convertToInteractive(key) {\n",
       "          const element = document.querySelector('#df-5fbca4d6-ee26-45b2-8172-7086fe542829');\n",
       "          const dataTable =\n",
       "            await google.colab.kernel.invokeFunction('convertToInteractive',\n",
       "                                                     [key], {});\n",
       "          if (!dataTable) return;\n",
       "\n",
       "          const docLinkHtml = 'Like what you see? Visit the ' +\n",
       "            '<a target=\"_blank\" href=https://colab.research.google.com/notebooks/data_table.ipynb>data table notebook</a>'\n",
       "            + ' to learn more about interactive tables.';\n",
       "          element.innerHTML = '';\n",
       "          dataTable['output_type'] = 'display_data';\n",
       "          await google.colab.output.renderOutput(dataTable, element);\n",
       "          const docLink = document.createElement('div');\n",
       "          docLink.innerHTML = docLinkHtml;\n",
       "          element.appendChild(docLink);\n",
       "        }\n",
       "      </script>\n",
       "    </div>\n",
       "  </div>\n",
       "  "
      ],
      "text/plain": [
       "             Algorithm  Accuracy\n",
       "0  Logistic Regression     53.43\n",
       "0        Decision Tree     59.90\n",
       "0          Naive Bayes     59.28\n",
       "0              XGBoost     65.56\n",
       "0    Gradient Boosting     63.81\n",
       "0                 LGBM     64.74"
      ]
     },
     "execution_count": 31,
     "metadata": {},
     "output_type": "execute_result"
    }
   ],
   "source": [
    "acc=(accuracy_score(y_test,y_pred)*100).round(2)\n",
    "results=pd.DataFrame({\"Algorithm\":[\"LGBM\"], \"Accuracy\":[acc]})\n",
    "result=pd.concat((result,results))\n",
    "result"
   ]
  },
  {
   "cell_type": "markdown",
   "id": "78e2eabd",
   "metadata": {
    "id": "78e2eabd"
   },
   "source": [
    "**Accuracy is 65%.**"
   ]
  },
  {
   "cell_type": "code",
   "execution_count": null,
   "id": "b94b2644",
   "metadata": {
    "id": "b94b2644"
   },
   "outputs": [],
   "source": []
  },
  {
   "cell_type": "markdown",
   "id": "f80945b8",
   "metadata": {
    "id": "f80945b8"
   },
   "source": [
    "### 7. ADA Boost Classifier"
   ]
  },
  {
   "cell_type": "markdown",
   "id": "bc5f3a24",
   "metadata": {
    "id": "bc5f3a24"
   },
   "source": [
    "#### Training and prediction"
   ]
  },
  {
   "cell_type": "code",
   "execution_count": 32,
   "id": "5aa473bb",
   "metadata": {
    "id": "5aa473bb"
   },
   "outputs": [],
   "source": [
    "from sklearn.ensemble import AdaBoostClassifier\n",
    "ada=AdaBoostClassifier()\n",
    "ada.fit(x_train,y_train)\n",
    "y_pred=ada.predict(x_test)"
   ]
  },
  {
   "cell_type": "code",
   "execution_count": 33,
   "id": "c235b119",
   "metadata": {
    "colab": {
     "base_uri": "https://localhost:8080/"
    },
    "id": "c235b119",
    "outputId": "20b62521-495e-458a-9a0d-d089272e8533"
   },
   "outputs": [
    {
     "name": "stdout",
     "output_type": "stream",
     "text": [
      "Confusion Matrix::\n",
      " [[197402 139309]\n",
      " [129369 256513]]\n",
      "Out of total 722593 test cases, 268678 are missclassified)\n"
     ]
    }
   ],
   "source": [
    "print(\"Confusion Matrix::\\n\", confusion_matrix(y_test, y_pred))\n",
    "print(f\"Out of total {y_test.shape[0]} test cases, {sum(y_pred!=y_test)} are missclassified)\")"
   ]
  },
  {
   "cell_type": "markdown",
   "id": "b6dff20e",
   "metadata": {
    "id": "b6dff20e"
   },
   "source": [
    "**Nearly 35% are missclassified.**"
   ]
  },
  {
   "cell_type": "code",
   "execution_count": 34,
   "id": "6fa625cd",
   "metadata": {
    "colab": {
     "base_uri": "https://localhost:8080/"
    },
    "id": "6fa625cd",
    "outputId": "0512d3fa-d032-4a2b-8894-d03c8606dcff"
   },
   "outputs": [
    {
     "name": "stdout",
     "output_type": "stream",
     "text": [
      "Claasification report::\n",
      "               precision    recall  f1-score   support\n",
      "\n",
      "           0       0.60      0.59      0.60    336711\n",
      "           1       0.65      0.66      0.66    385882\n",
      "\n",
      "    accuracy                           0.63    722593\n",
      "   macro avg       0.63      0.63      0.63    722593\n",
      "weighted avg       0.63      0.63      0.63    722593\n",
      "\n"
     ]
    }
   ],
   "source": [
    "print(\"Claasification report::\\n\", classification_report(y_test,y_pred))"
   ]
  },
  {
   "cell_type": "code",
   "execution_count": 35,
   "id": "ac82d9c5",
   "metadata": {
    "colab": {
     "base_uri": "https://localhost:8080/",
     "height": 269
    },
    "id": "ac82d9c5",
    "outputId": "d6cbc3ee-1100-41f8-94bc-74601ef42c82"
   },
   "outputs": [
    {
     "data": {
      "text/html": [
       "\n",
       "  <div id=\"df-b4324a7c-fc8f-4657-85d2-2e6a624c475f\">\n",
       "    <div class=\"colab-df-container\">\n",
       "      <div>\n",
       "<style scoped>\n",
       "    .dataframe tbody tr th:only-of-type {\n",
       "        vertical-align: middle;\n",
       "    }\n",
       "\n",
       "    .dataframe tbody tr th {\n",
       "        vertical-align: top;\n",
       "    }\n",
       "\n",
       "    .dataframe thead th {\n",
       "        text-align: right;\n",
       "    }\n",
       "</style>\n",
       "<table border=\"1\" class=\"dataframe\">\n",
       "  <thead>\n",
       "    <tr style=\"text-align: right;\">\n",
       "      <th></th>\n",
       "      <th>Algorithm</th>\n",
       "      <th>Accuracy</th>\n",
       "    </tr>\n",
       "  </thead>\n",
       "  <tbody>\n",
       "    <tr>\n",
       "      <th>0</th>\n",
       "      <td>Logistic Regression</td>\n",
       "      <td>53.43</td>\n",
       "    </tr>\n",
       "    <tr>\n",
       "      <th>0</th>\n",
       "      <td>Decision Tree</td>\n",
       "      <td>59.90</td>\n",
       "    </tr>\n",
       "    <tr>\n",
       "      <th>0</th>\n",
       "      <td>Naive Bayes</td>\n",
       "      <td>59.28</td>\n",
       "    </tr>\n",
       "    <tr>\n",
       "      <th>0</th>\n",
       "      <td>XGBoost</td>\n",
       "      <td>65.56</td>\n",
       "    </tr>\n",
       "    <tr>\n",
       "      <th>0</th>\n",
       "      <td>Gradient Boosting</td>\n",
       "      <td>63.81</td>\n",
       "    </tr>\n",
       "    <tr>\n",
       "      <th>0</th>\n",
       "      <td>LGBM</td>\n",
       "      <td>64.74</td>\n",
       "    </tr>\n",
       "    <tr>\n",
       "      <th>0</th>\n",
       "      <td>ADABoost</td>\n",
       "      <td>62.82</td>\n",
       "    </tr>\n",
       "  </tbody>\n",
       "</table>\n",
       "</div>\n",
       "      <button class=\"colab-df-convert\" onclick=\"convertToInteractive('df-b4324a7c-fc8f-4657-85d2-2e6a624c475f')\"\n",
       "              title=\"Convert this dataframe to an interactive table.\"\n",
       "              style=\"display:none;\">\n",
       "        \n",
       "  <svg xmlns=\"http://www.w3.org/2000/svg\" height=\"24px\"viewBox=\"0 0 24 24\"\n",
       "       width=\"24px\">\n",
       "    <path d=\"M0 0h24v24H0V0z\" fill=\"none\"/>\n",
       "    <path d=\"M18.56 5.44l.94 2.06.94-2.06 2.06-.94-2.06-.94-.94-2.06-.94 2.06-2.06.94zm-11 1L8.5 8.5l.94-2.06 2.06-.94-2.06-.94L8.5 2.5l-.94 2.06-2.06.94zm10 10l.94 2.06.94-2.06 2.06-.94-2.06-.94-.94-2.06-.94 2.06-2.06.94z\"/><path d=\"M17.41 7.96l-1.37-1.37c-.4-.4-.92-.59-1.43-.59-.52 0-1.04.2-1.43.59L10.3 9.45l-7.72 7.72c-.78.78-.78 2.05 0 2.83L4 21.41c.39.39.9.59 1.41.59.51 0 1.02-.2 1.41-.59l7.78-7.78 2.81-2.81c.8-.78.8-2.07 0-2.86zM5.41 20L4 18.59l7.72-7.72 1.47 1.35L5.41 20z\"/>\n",
       "  </svg>\n",
       "      </button>\n",
       "      \n",
       "  <style>\n",
       "    .colab-df-container {\n",
       "      display:flex;\n",
       "      flex-wrap:wrap;\n",
       "      gap: 12px;\n",
       "    }\n",
       "\n",
       "    .colab-df-convert {\n",
       "      background-color: #E8F0FE;\n",
       "      border: none;\n",
       "      border-radius: 50%;\n",
       "      cursor: pointer;\n",
       "      display: none;\n",
       "      fill: #1967D2;\n",
       "      height: 32px;\n",
       "      padding: 0 0 0 0;\n",
       "      width: 32px;\n",
       "    }\n",
       "\n",
       "    .colab-df-convert:hover {\n",
       "      background-color: #E2EBFA;\n",
       "      box-shadow: 0px 1px 2px rgba(60, 64, 67, 0.3), 0px 1px 3px 1px rgba(60, 64, 67, 0.15);\n",
       "      fill: #174EA6;\n",
       "    }\n",
       "\n",
       "    [theme=dark] .colab-df-convert {\n",
       "      background-color: #3B4455;\n",
       "      fill: #D2E3FC;\n",
       "    }\n",
       "\n",
       "    [theme=dark] .colab-df-convert:hover {\n",
       "      background-color: #434B5C;\n",
       "      box-shadow: 0px 1px 3px 1px rgba(0, 0, 0, 0.15);\n",
       "      filter: drop-shadow(0px 1px 2px rgba(0, 0, 0, 0.3));\n",
       "      fill: #FFFFFF;\n",
       "    }\n",
       "  </style>\n",
       "\n",
       "      <script>\n",
       "        const buttonEl =\n",
       "          document.querySelector('#df-b4324a7c-fc8f-4657-85d2-2e6a624c475f button.colab-df-convert');\n",
       "        buttonEl.style.display =\n",
       "          google.colab.kernel.accessAllowed ? 'block' : 'none';\n",
       "\n",
       "        async function convertToInteractive(key) {\n",
       "          const element = document.querySelector('#df-b4324a7c-fc8f-4657-85d2-2e6a624c475f');\n",
       "          const dataTable =\n",
       "            await google.colab.kernel.invokeFunction('convertToInteractive',\n",
       "                                                     [key], {});\n",
       "          if (!dataTable) return;\n",
       "\n",
       "          const docLinkHtml = 'Like what you see? Visit the ' +\n",
       "            '<a target=\"_blank\" href=https://colab.research.google.com/notebooks/data_table.ipynb>data table notebook</a>'\n",
       "            + ' to learn more about interactive tables.';\n",
       "          element.innerHTML = '';\n",
       "          dataTable['output_type'] = 'display_data';\n",
       "          await google.colab.output.renderOutput(dataTable, element);\n",
       "          const docLink = document.createElement('div');\n",
       "          docLink.innerHTML = docLinkHtml;\n",
       "          element.appendChild(docLink);\n",
       "        }\n",
       "      </script>\n",
       "    </div>\n",
       "  </div>\n",
       "  "
      ],
      "text/plain": [
       "             Algorithm  Accuracy\n",
       "0  Logistic Regression     53.43\n",
       "0        Decision Tree     59.90\n",
       "0          Naive Bayes     59.28\n",
       "0              XGBoost     65.56\n",
       "0    Gradient Boosting     63.81\n",
       "0                 LGBM     64.74\n",
       "0             ADABoost     62.82"
      ]
     },
     "execution_count": 35,
     "metadata": {},
     "output_type": "execute_result"
    }
   ],
   "source": [
    "acc=(accuracy_score(y_test,y_pred)*100).round(2)\n",
    "results=pd.DataFrame({\"Algorithm\":[\"ADABoost\"], \"Accuracy\":[acc]})\n",
    "result=pd.concat((result,results))\n",
    "result"
   ]
  },
  {
   "cell_type": "markdown",
   "id": "kbd0NhThbiRC",
   "metadata": {
    "id": "kbd0NhThbiRC"
   },
   "source": [
    "**Accuracy is 63%.**"
   ]
  },
  {
   "cell_type": "code",
   "execution_count": null,
   "id": "d7bed3dc",
   "metadata": {
    "id": "d7bed3dc"
   },
   "outputs": [],
   "source": []
  },
  {
   "cell_type": "markdown",
   "id": "0jg2-nzGdKMI",
   "metadata": {
    "id": "0jg2-nzGdKMI"
   },
   "source": [
    "## Artificial Neural Network to Predict the Target"
   ]
  },
  {
   "cell_type": "code",
   "execution_count": 37,
   "id": "c2APKaw3dPnY",
   "metadata": {
    "id": "c2APKaw3dPnY"
   },
   "outputs": [],
   "source": [
    "X=data_final.drop('target', axis=1)\n",
    "y=data_final['target']"
   ]
  },
  {
   "cell_type": "markdown",
   "id": "-ATVbUq8dwHT",
   "metadata": {
    "id": "-ATVbUq8dwHT"
   },
   "source": [
    "#### Train test split"
   ]
  },
  {
   "cell_type": "code",
   "execution_count": 38,
   "id": "5bIwa9_Ld41H",
   "metadata": {
    "id": "5bIwa9_Ld41H"
   },
   "outputs": [],
   "source": [
    "from sklearn.model_selection import train_test_split\n",
    "x_train,x_test, y_train, y_test=train_test_split(X, y, test_size=0.2, random_state=0)"
   ]
  },
  {
   "cell_type": "markdown",
   "id": "KUMl-JELdfBE",
   "metadata": {
    "id": "KUMl-JELdfBE"
   },
   "source": [
    "#### Standardize Input features so that ANN train faster"
   ]
  },
  {
   "cell_type": "code",
   "execution_count": 40,
   "id": "Y6GSuNfkdd1s",
   "metadata": {
    "id": "Y6GSuNfkdd1s"
   },
   "outputs": [],
   "source": [
    "from sklearn.preprocessing import StandardScaler\n",
    "std=StandardScaler()\n",
    "std=std.fit(x_train)\n",
    "x_train_tf=std.transform(x_train)\n",
    "x_test_tf=std.transform(x_test)"
   ]
  },
  {
   "cell_type": "code",
   "execution_count": 45,
   "id": "OSeXq04jhqz2",
   "metadata": {
    "colab": {
     "base_uri": "https://localhost:8080/"
    },
    "id": "OSeXq04jhqz2",
    "outputId": "813979bb-3dc2-4ddc-97e8-4e6b869e9b9e"
   },
   "outputs": [
    {
     "data": {
      "text/plain": [
       "(2890370, 13)"
      ]
     },
     "execution_count": 45,
     "metadata": {},
     "output_type": "execute_result"
    }
   ],
   "source": [
    "x_train_tf.shape"
   ]
  },
  {
   "cell_type": "markdown",
   "id": "wES25KwlepZo",
   "metadata": {
    "id": "wES25KwlepZo"
   },
   "source": [
    "### Create ANN model"
   ]
  },
  {
   "cell_type": "code",
   "execution_count": 44,
   "id": "UoCqsQyZeWGT",
   "metadata": {
    "id": "UoCqsQyZeWGT"
   },
   "outputs": [],
   "source": [
    "from keras.models import Sequential\n",
    "from keras.layers import Dense"
   ]
  },
  {
   "cell_type": "code",
   "execution_count": 62,
   "id": "PGVDC82Nf4jh",
   "metadata": {
    "colab": {
     "base_uri": "https://localhost:8080/"
    },
    "id": "PGVDC82Nf4jh",
    "outputId": "765d5dc1-fef7-4a78-d597-72e52b1c6e1c"
   },
   "outputs": [
    {
     "name": "stdout",
     "output_type": "stream",
     "text": [
      "Model: \"sequential_4\"\n",
      "_________________________________________________________________\n",
      " Layer (type)                Output Shape              Param #   \n",
      "=================================================================\n",
      " dense_15 (Dense)            (None, 32)                448       \n",
      "                                                                 \n",
      " dense_16 (Dense)            (None, 64)                2112      \n",
      "                                                                 \n",
      " dense_17 (Dense)            (None, 120)               7800      \n",
      "                                                                 \n",
      " dense_18 (Dense)            (None, 240)               29040     \n",
      "                                                                 \n",
      " dense_19 (Dense)            (None, 520)               125320    \n",
      "                                                                 \n",
      " dense_20 (Dense)            (None, 1)                 521       \n",
      "                                                                 \n",
      "=================================================================\n",
      "Total params: 165,241\n",
      "Trainable params: 165,241\n",
      "Non-trainable params: 0\n",
      "_________________________________________________________________\n"
     ]
    }
   ],
   "source": [
    "model=Sequential()\n",
    "model.add(Dense(units=32, activation='relu', kernel_initializer='uniform', input_dim=13))\n",
    "model.add(Dense(units=64, activation='relu', kernel_initializer='uniform'))\n",
    "model.add(Dense(units=120, activation='relu', kernel_initializer='uniform'))\n",
    "model.add(Dense(units=240, activation='relu', kernel_initializer='uniform'))\n",
    "model.add(Dense(units=520, activation='relu', kernel_initializer='uniform'))\n",
    "model.add(Dense(units=1, activation='sigmoid', kernel_initializer='uniform'))\n",
    "model.summary()"
   ]
  },
  {
   "cell_type": "code",
   "execution_count": null,
   "id": "EJ2yVoJGjrRD",
   "metadata": {
    "colab": {
     "base_uri": "https://localhost:8080/"
    },
    "id": "EJ2yVoJGjrRD",
    "outputId": "5d922169-5a25-4c83-8729-7eb9ce962e18"
   },
   "outputs": [
    {
     "name": "stdout",
     "output_type": "stream",
     "text": [
      "Epoch 1/50\n",
      "90325/90325 [==============================] - 330s 4ms/step - loss: 0.6680 - accuracy: 0.5965\n",
      "Epoch 2/50\n",
      "90325/90325 [==============================] - 326s 4ms/step - loss: 0.6543 - accuracy: 0.6270\n",
      "Epoch 3/50\n",
      "90325/90325 [==============================] - 328s 4ms/step - loss: 0.6511 - accuracy: 0.6297\n",
      "Epoch 4/50\n",
      "90325/90325 [==============================] - 328s 4ms/step - loss: 0.6498 - accuracy: 0.6311\n",
      "Epoch 5/50\n",
      "90325/90325 [==============================] - 328s 4ms/step - loss: 0.6489 - accuracy: 0.6325\n",
      "Epoch 6/50\n",
      "90325/90325 [==============================] - 328s 4ms/step - loss: 0.6482 - accuracy: 0.6337\n",
      "Epoch 7/50\n",
      "90325/90325 [==============================] - 328s 4ms/step - loss: 0.6477 - accuracy: 0.6345\n",
      "Epoch 8/50\n",
      "90325/90325 [==============================] - 329s 4ms/step - loss: 0.6472 - accuracy: 0.6352\n",
      "Epoch 9/50\n",
      "90325/90325 [==============================] - 328s 4ms/step - loss: 0.6468 - accuracy: 0.6357\n",
      "Epoch 10/50\n",
      "90325/90325 [==============================] - 326s 4ms/step - loss: 0.6464 - accuracy: 0.6362\n",
      "Epoch 11/50\n",
      "90325/90325 [==============================] - 328s 4ms/step - loss: 0.6461 - accuracy: 0.6366\n",
      "Epoch 12/50\n",
      "90325/90325 [==============================] - 328s 4ms/step - loss: 0.6459 - accuracy: 0.6368\n",
      "Epoch 13/50\n",
      "90325/90325 [==============================] - 328s 4ms/step - loss: 0.6456 - accuracy: 0.6373\n",
      "Epoch 14/50\n",
      "90325/90325 [==============================] - 329s 4ms/step - loss: 0.6454 - accuracy: 0.6374\n",
      "Epoch 15/50\n",
      "90325/90325 [==============================] - 328s 4ms/step - loss: 0.6451 - accuracy: 0.6377\n",
      "Epoch 16/50\n",
      "90325/90325 [==============================] - 328s 4ms/step - loss: 0.6450 - accuracy: 0.6379\n",
      "Epoch 17/50\n",
      "90325/90325 [==============================] - 330s 4ms/step - loss: 0.6448 - accuracy: 0.6382\n",
      "Epoch 18/50\n",
      "90325/90325 [==============================] - 329s 4ms/step - loss: 0.6446 - accuracy: 0.6383\n",
      "Epoch 19/50\n",
      "90325/90325 [==============================] - 328s 4ms/step - loss: 0.6444 - accuracy: 0.6384\n",
      "Epoch 20/50\n",
      "90325/90325 [==============================] - 326s 4ms/step - loss: 0.6443 - accuracy: 0.6386\n",
      "Epoch 21/50\n",
      "90325/90325 [==============================] - 330s 4ms/step - loss: 0.6441 - accuracy: 0.6386\n",
      "Epoch 22/50\n",
      "90325/90325 [==============================] - 330s 4ms/step - loss: 0.6440 - accuracy: 0.6388\n",
      "Epoch 23/50\n",
      "90325/90325 [==============================] - 329s 4ms/step - loss: 0.6438 - accuracy: 0.6390\n",
      "Epoch 24/50\n",
      "90325/90325 [==============================] - 328s 4ms/step - loss: 0.6437 - accuracy: 0.6391\n",
      "Epoch 25/50\n",
      "90325/90325 [==============================] - 330s 4ms/step - loss: 0.6436 - accuracy: 0.6392\n",
      "Epoch 26/50\n",
      "90325/90325 [==============================] - 330s 4ms/step - loss: 0.6435 - accuracy: 0.6392\n",
      "Epoch 27/50\n",
      "90325/90325 [==============================] - 329s 4ms/step - loss: 0.6434 - accuracy: 0.6393\n",
      "Epoch 28/50\n",
      "90325/90325 [==============================] - 328s 4ms/step - loss: 0.6433 - accuracy: 0.6395\n",
      "Epoch 29/50\n",
      "90325/90325 [==============================] - 330s 4ms/step - loss: 0.6432 - accuracy: 0.6395\n",
      "Epoch 30/50\n",
      "90325/90325 [==============================] - 329s 4ms/step - loss: 0.6431 - accuracy: 0.6396\n",
      "Epoch 31/50\n",
      "90325/90325 [==============================] - 329s 4ms/step - loss: 0.6430 - accuracy: 0.6397\n",
      "Epoch 32/50\n",
      "90325/90325 [==============================] - 328s 4ms/step - loss: 0.6429 - accuracy: 0.6398\n",
      "Epoch 33/50\n",
      "90325/90325 [==============================] - 329s 4ms/step - loss: 0.6428 - accuracy: 0.6398\n",
      "Epoch 34/50\n",
      "90325/90325 [==============================] - 329s 4ms/step - loss: 0.6427 - accuracy: 0.6400\n",
      "Epoch 35/50\n",
      "90325/90325 [==============================] - 330s 4ms/step - loss: 0.6427 - accuracy: 0.6400\n",
      "Epoch 36/50\n",
      "90325/90325 [==============================] - 328s 4ms/step - loss: 0.6426 - accuracy: 0.6401\n",
      "Epoch 37/50\n",
      "90325/90325 [==============================] - 327s 4ms/step - loss: 0.6425 - accuracy: 0.6403\n",
      "Epoch 38/50\n",
      "90325/90325 [==============================] - 328s 4ms/step - loss: 0.6424 - accuracy: 0.6401\n",
      "Epoch 39/50\n",
      "90325/90325 [==============================] - 329s 4ms/step - loss: 0.6424 - accuracy: 0.6403\n",
      "Epoch 40/50\n",
      "90325/90325 [==============================] - 327s 4ms/step - loss: 0.6423 - accuracy: 0.6404\n",
      "Epoch 41/50\n",
      "90325/90325 [==============================] - 328s 4ms/step - loss: 0.6422 - accuracy: 0.6405\n",
      "Epoch 42/50\n",
      "90325/90325 [==============================] - 328s 4ms/step - loss: 0.6422 - accuracy: 0.6405\n",
      "Epoch 43/50\n",
      "90325/90325 [==============================] - 328s 4ms/step - loss: 0.6421 - accuracy: 0.6405\n",
      "Epoch 44/50\n",
      "90325/90325 [==============================] - 329s 4ms/step - loss: 0.6421 - accuracy: 0.6406\n",
      "Epoch 45/50\n",
      "90325/90325 [==============================] - 329s 4ms/step - loss: 0.6420 - accuracy: 0.6407\n",
      "Epoch 46/50\n",
      "90325/90325 [==============================] - 359s 4ms/step - loss: 0.6419 - accuracy: 0.6407\n",
      "Epoch 47/50\n",
      "90325/90325 [==============================] - 330s 4ms/step - loss: 0.6419 - accuracy: 0.6408\n",
      "Epoch 48/50\n",
      "27908/90325 [========>.....................] - ETA: 3:51 - loss: 0.6418 - accuracy: 0.6407"
     ]
    }
   ],
   "source": [
    "#compile layer\n",
    "from keras.optimizers import Adagrad\n",
    "ada=Adagrad(lr=0.01)\n",
    "model.compile(optimizer=ada, loss='binary_crossentropy', metrics=['accuracy'])\n",
    "#train\n",
    "model.fit(x_train_tf, y_train, epochs=50, batch_size=32)"
   ]
  },
  {
   "cell_type": "code",
   "execution_count": null,
   "id": "OC0Mu0y9nH59",
   "metadata": {
    "id": "OC0Mu0y9nH59"
   },
   "outputs": [],
   "source": [
    "y_pred=model.predict(x_test_tf)\n",
    "y_pred=np.where(y_pred>=0.5, 1, 0)"
   ]
  },
  {
   "cell_type": "markdown",
   "id": "7NOJntxGqg6b",
   "metadata": {
    "id": "7NOJntxGqg6b"
   },
   "source": [
    "#### Evaluation of ANN model"
   ]
  },
  {
   "cell_type": "code",
   "execution_count": 10,
   "id": "IX4XUL0EqkrV",
   "metadata": {
    "colab": {
     "base_uri": "https://localhost:8080/"
    },
    "id": "IX4XUL0EqkrV",
    "outputId": "bb3a01e0-d48f-4230-e401-9a1016f89b6b"
   },
   "outputs": [
    {
     "name": "stdout",
     "output_type": "stream",
     "text": [
      "Confusion Matrix::\n",
      " [[182357 154354]\n",
      " [100444 285438]]\n",
      "Out of total 722593 test cases, 254798 are missclassified)\n"
     ]
    }
   ],
   "source": [
    "from sklearn.metrics import confusion_matrix, classification_report\n",
    "print(\"Confusion Matrix::\\n\", confusion_matrix(y_test, y_pred))\n",
    "print(f\"Out of total {y_test.shape[0]} test cases, {sum(y_pred!=y_test)} are missclassified)\")"
   ]
  },
  {
   "cell_type": "code",
   "execution_count": 11,
   "id": "H3teVnTRqtgb",
   "metadata": {
    "colab": {
     "base_uri": "https://localhost:8080/"
    },
    "id": "H3teVnTRqtgb",
    "outputId": "e1d63cac-2f92-47d3-8707-0bdf0e80aab1"
   },
   "outputs": [
    {
     "name": "stdout",
     "output_type": "stream",
     "text": [
      "Claasification report::\n",
      "               precision    recall  f1-score   support\n",
      "\n",
      "           0       0.64      0.54      0.59    336711\n",
      "           1       0.65      0.74      0.69    385882\n",
      "\n",
      "    accuracy                           0.65    722593\n",
      "   macro avg       0.65      0.64      0.64    722593\n",
      "weighted avg       0.65      0.65      0.64    722593\n",
      "\n"
     ]
    }
   ],
   "source": [
    "print(\"Claasification report::\\n\", classification_report(y_test,y_pred))"
   ]
  },
  {
   "cell_type": "markdown",
   "id": "Cu1aSwH6lBUn",
   "metadata": {
    "id": "Cu1aSwH6lBUn"
   },
   "source": [
    "**After Running deep learning model for 50 epochs accuracy recieved is 65%.. If you run model for lets say 100 or 200 epochs with different batch side.. Accuracy will be very high.**\n"
   ]
  },
  {
   "cell_type": "code",
   "execution_count": null,
   "id": "eYiNfwRtkpMO",
   "metadata": {
    "id": "eYiNfwRtkpMO"
   },
   "outputs": [],
   "source": []
  },
  {
   "cell_type": "markdown",
   "id": "Q9EVVWkypD7G",
   "metadata": {
    "id": "Q9EVVWkypD7G"
   },
   "source": [
    "**XGBoost classifier has higher accuracy than any other algorithm, but the Deep learning model when we train for 100 epochs accuracy will be higher.**"
   ]
  },
  {
   "cell_type": "code",
   "execution_count": null,
   "id": "BoXZMZLQrcz-",
   "metadata": {
    "id": "BoXZMZLQrcz-"
   },
   "outputs": [],
   "source": []
  }
 ],
 "metadata": {
  "accelerator": "GPU",
  "colab": {
   "provenance": []
  },
  "gpuClass": "standard",
  "kernelspec": {
   "display_name": "Python 3 (ipykernel)",
   "language": "python",
   "name": "python3"
  },
  "language_info": {
   "codemirror_mode": {
    "name": "ipython",
    "version": 3
   },
   "file_extension": ".py",
   "mimetype": "text/x-python",
   "name": "python",
   "nbconvert_exporter": "python",
   "pygments_lexer": "ipython3",
   "version": "3.9.7"
  }
 },
 "nbformat": 4,
 "nbformat_minor": 5
}
