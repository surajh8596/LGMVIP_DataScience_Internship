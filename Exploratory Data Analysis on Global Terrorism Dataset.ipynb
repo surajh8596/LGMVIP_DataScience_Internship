{
 "cells": [
  {
   "cell_type": "markdown",
   "id": "418f01e6",
   "metadata": {},
   "source": [
    "# Exploratory Data Analysis on Global Terrorism Dataset\n",
    "**By: ``Suraj Honkamble``.**\n",
    "### Intermediate Task-1\n",
    "\n",
    "### Tableau Dashboard Link: https://public.tableau.com/app/profile/suraj.honkamble/viz/TerroristHostspotDetectionDashboard/Dashboard"
   ]
  },
  {
   "cell_type": "code",
   "execution_count": null,
   "id": "7567880b",
   "metadata": {},
   "outputs": [],
   "source": []
  },
  {
   "cell_type": "markdown",
   "id": "9eb8d8ab",
   "metadata": {},
   "source": [
    "#### Note: For making changes like filling Nan values or replace some values I took help from https://www.start.umd.edu/gtd/downloads/Codebook.pdf this Source."
   ]
  },
  {
   "cell_type": "code",
   "execution_count": null,
   "id": "a8419aae",
   "metadata": {},
   "outputs": [],
   "source": []
  },
  {
   "cell_type": "markdown",
   "id": "7be88280",
   "metadata": {},
   "source": [
    "### Import Required libraries"
   ]
  },
  {
   "cell_type": "code",
   "execution_count": 1,
   "id": "70ffd403",
   "metadata": {},
   "outputs": [],
   "source": [
    "import pandas as pd\n",
    "import numpy as np"
   ]
  },
  {
   "cell_type": "markdown",
   "id": "1fd6e285",
   "metadata": {},
   "source": [
    "### Read the Data"
   ]
  },
  {
   "cell_type": "code",
   "execution_count": 2,
   "id": "b6b78fb7",
   "metadata": {},
   "outputs": [],
   "source": [
    "pd.options.display.max_columns=200"
   ]
  },
  {
   "cell_type": "markdown",
   "id": "b528b964",
   "metadata": {},
   "source": [
    "**Dataset link: https://drive.google.com/file/d/1luTU7xBvI7QAGPbQMxEHcgKUi9d6UeP_/view**"
   ]
  },
  {
   "cell_type": "code",
   "execution_count": 3,
   "id": "a545b482",
   "metadata": {},
   "outputs": [
    {
     "name": "stderr",
     "output_type": "stream",
     "text": [
      "C:\\Users\\User\\anaconda3\\lib\\site-packages\\IPython\\core\\interactiveshell.py:3444: DtypeWarning: Columns (4,6,31,33,61,62,63,76,79,90,92,94,96,114,115,121) have mixed types.Specify dtype option on import or set low_memory=False.\n",
      "  exec(code_obj, self.user_global_ns, self.user_ns)\n"
     ]
    },
    {
     "data": {
      "text/html": [
       "<div>\n",
       "<style scoped>\n",
       "    .dataframe tbody tr th:only-of-type {\n",
       "        vertical-align: middle;\n",
       "    }\n",
       "\n",
       "    .dataframe tbody tr th {\n",
       "        vertical-align: top;\n",
       "    }\n",
       "\n",
       "    .dataframe thead th {\n",
       "        text-align: right;\n",
       "    }\n",
       "</style>\n",
       "<table border=\"1\" class=\"dataframe\">\n",
       "  <thead>\n",
       "    <tr style=\"text-align: right;\">\n",
       "      <th></th>\n",
       "      <th>eventid</th>\n",
       "      <th>iyear</th>\n",
       "      <th>imonth</th>\n",
       "      <th>iday</th>\n",
       "      <th>approxdate</th>\n",
       "      <th>extended</th>\n",
       "      <th>resolution</th>\n",
       "      <th>country</th>\n",
       "      <th>country_txt</th>\n",
       "      <th>region</th>\n",
       "      <th>region_txt</th>\n",
       "      <th>provstate</th>\n",
       "      <th>city</th>\n",
       "      <th>latitude</th>\n",
       "      <th>longitude</th>\n",
       "      <th>specificity</th>\n",
       "      <th>vicinity</th>\n",
       "      <th>location</th>\n",
       "      <th>summary</th>\n",
       "      <th>crit1</th>\n",
       "      <th>crit2</th>\n",
       "      <th>crit3</th>\n",
       "      <th>doubtterr</th>\n",
       "      <th>alternative</th>\n",
       "      <th>alternative_txt</th>\n",
       "      <th>multiple</th>\n",
       "      <th>success</th>\n",
       "      <th>suicide</th>\n",
       "      <th>attacktype1</th>\n",
       "      <th>attacktype1_txt</th>\n",
       "      <th>attacktype2</th>\n",
       "      <th>attacktype2_txt</th>\n",
       "      <th>attacktype3</th>\n",
       "      <th>attacktype3_txt</th>\n",
       "      <th>targtype1</th>\n",
       "      <th>targtype1_txt</th>\n",
       "      <th>targsubtype1</th>\n",
       "      <th>targsubtype1_txt</th>\n",
       "      <th>corp1</th>\n",
       "      <th>target1</th>\n",
       "      <th>natlty1</th>\n",
       "      <th>natlty1_txt</th>\n",
       "      <th>targtype2</th>\n",
       "      <th>targtype2_txt</th>\n",
       "      <th>targsubtype2</th>\n",
       "      <th>targsubtype2_txt</th>\n",
       "      <th>corp2</th>\n",
       "      <th>target2</th>\n",
       "      <th>natlty2</th>\n",
       "      <th>natlty2_txt</th>\n",
       "      <th>targtype3</th>\n",
       "      <th>targtype3_txt</th>\n",
       "      <th>targsubtype3</th>\n",
       "      <th>targsubtype3_txt</th>\n",
       "      <th>corp3</th>\n",
       "      <th>target3</th>\n",
       "      <th>natlty3</th>\n",
       "      <th>natlty3_txt</th>\n",
       "      <th>gname</th>\n",
       "      <th>gsubname</th>\n",
       "      <th>gname2</th>\n",
       "      <th>gsubname2</th>\n",
       "      <th>gname3</th>\n",
       "      <th>gsubname3</th>\n",
       "      <th>motive</th>\n",
       "      <th>guncertain1</th>\n",
       "      <th>guncertain2</th>\n",
       "      <th>guncertain3</th>\n",
       "      <th>individual</th>\n",
       "      <th>nperps</th>\n",
       "      <th>nperpcap</th>\n",
       "      <th>claimed</th>\n",
       "      <th>claimmode</th>\n",
       "      <th>claimmode_txt</th>\n",
       "      <th>claim2</th>\n",
       "      <th>claimmode2</th>\n",
       "      <th>claimmode2_txt</th>\n",
       "      <th>claim3</th>\n",
       "      <th>claimmode3</th>\n",
       "      <th>claimmode3_txt</th>\n",
       "      <th>compclaim</th>\n",
       "      <th>weaptype1</th>\n",
       "      <th>weaptype1_txt</th>\n",
       "      <th>weapsubtype1</th>\n",
       "      <th>weapsubtype1_txt</th>\n",
       "      <th>weaptype2</th>\n",
       "      <th>weaptype2_txt</th>\n",
       "      <th>weapsubtype2</th>\n",
       "      <th>weapsubtype2_txt</th>\n",
       "      <th>weaptype3</th>\n",
       "      <th>weaptype3_txt</th>\n",
       "      <th>weapsubtype3</th>\n",
       "      <th>weapsubtype3_txt</th>\n",
       "      <th>weaptype4</th>\n",
       "      <th>weaptype4_txt</th>\n",
       "      <th>weapsubtype4</th>\n",
       "      <th>weapsubtype4_txt</th>\n",
       "      <th>weapdetail</th>\n",
       "      <th>nkill</th>\n",
       "      <th>nkillus</th>\n",
       "      <th>nkillter</th>\n",
       "      <th>nwound</th>\n",
       "      <th>nwoundus</th>\n",
       "      <th>nwoundte</th>\n",
       "      <th>property</th>\n",
       "      <th>propextent</th>\n",
       "      <th>propextent_txt</th>\n",
       "      <th>propvalue</th>\n",
       "      <th>propcomment</th>\n",
       "      <th>ishostkid</th>\n",
       "      <th>nhostkid</th>\n",
       "      <th>nhostkidus</th>\n",
       "      <th>nhours</th>\n",
       "      <th>ndays</th>\n",
       "      <th>divert</th>\n",
       "      <th>kidhijcountry</th>\n",
       "      <th>ransom</th>\n",
       "      <th>ransomamt</th>\n",
       "      <th>ransomamtus</th>\n",
       "      <th>ransompaid</th>\n",
       "      <th>ransompaidus</th>\n",
       "      <th>ransomnote</th>\n",
       "      <th>hostkidoutcome</th>\n",
       "      <th>hostkidoutcome_txt</th>\n",
       "      <th>nreleased</th>\n",
       "      <th>addnotes</th>\n",
       "      <th>scite1</th>\n",
       "      <th>scite2</th>\n",
       "      <th>scite3</th>\n",
       "      <th>dbsource</th>\n",
       "      <th>INT_LOG</th>\n",
       "      <th>INT_IDEO</th>\n",
       "      <th>INT_MISC</th>\n",
       "      <th>INT_ANY</th>\n",
       "      <th>related</th>\n",
       "    </tr>\n",
       "  </thead>\n",
       "  <tbody>\n",
       "    <tr>\n",
       "      <th>0</th>\n",
       "      <td>197000000001</td>\n",
       "      <td>1970</td>\n",
       "      <td>7</td>\n",
       "      <td>2</td>\n",
       "      <td>NaN</td>\n",
       "      <td>0</td>\n",
       "      <td>NaN</td>\n",
       "      <td>58</td>\n",
       "      <td>Dominican Republic</td>\n",
       "      <td>2</td>\n",
       "      <td>Central America &amp; Caribbean</td>\n",
       "      <td>NaN</td>\n",
       "      <td>Santo Domingo</td>\n",
       "      <td>18.456792</td>\n",
       "      <td>-69.951164</td>\n",
       "      <td>1.0</td>\n",
       "      <td>0</td>\n",
       "      <td>NaN</td>\n",
       "      <td>NaN</td>\n",
       "      <td>1</td>\n",
       "      <td>1</td>\n",
       "      <td>1</td>\n",
       "      <td>0.0</td>\n",
       "      <td>NaN</td>\n",
       "      <td>NaN</td>\n",
       "      <td>0.0</td>\n",
       "      <td>1</td>\n",
       "      <td>0</td>\n",
       "      <td>1</td>\n",
       "      <td>Assassination</td>\n",
       "      <td>NaN</td>\n",
       "      <td>NaN</td>\n",
       "      <td>NaN</td>\n",
       "      <td>NaN</td>\n",
       "      <td>14</td>\n",
       "      <td>Private Citizens &amp; Property</td>\n",
       "      <td>68.0</td>\n",
       "      <td>Named Civilian</td>\n",
       "      <td>NaN</td>\n",
       "      <td>Julio Guzman</td>\n",
       "      <td>58.0</td>\n",
       "      <td>Dominican Republic</td>\n",
       "      <td>NaN</td>\n",
       "      <td>NaN</td>\n",
       "      <td>NaN</td>\n",
       "      <td>NaN</td>\n",
       "      <td>NaN</td>\n",
       "      <td>NaN</td>\n",
       "      <td>NaN</td>\n",
       "      <td>NaN</td>\n",
       "      <td>NaN</td>\n",
       "      <td>NaN</td>\n",
       "      <td>NaN</td>\n",
       "      <td>NaN</td>\n",
       "      <td>NaN</td>\n",
       "      <td>NaN</td>\n",
       "      <td>NaN</td>\n",
       "      <td>NaN</td>\n",
       "      <td>MANO-D</td>\n",
       "      <td>NaN</td>\n",
       "      <td>NaN</td>\n",
       "      <td>NaN</td>\n",
       "      <td>NaN</td>\n",
       "      <td>NaN</td>\n",
       "      <td>NaN</td>\n",
       "      <td>0.0</td>\n",
       "      <td>NaN</td>\n",
       "      <td>NaN</td>\n",
       "      <td>0</td>\n",
       "      <td>NaN</td>\n",
       "      <td>NaN</td>\n",
       "      <td>NaN</td>\n",
       "      <td>NaN</td>\n",
       "      <td>NaN</td>\n",
       "      <td>NaN</td>\n",
       "      <td>NaN</td>\n",
       "      <td>NaN</td>\n",
       "      <td>NaN</td>\n",
       "      <td>NaN</td>\n",
       "      <td>NaN</td>\n",
       "      <td>NaN</td>\n",
       "      <td>13</td>\n",
       "      <td>Unknown</td>\n",
       "      <td>NaN</td>\n",
       "      <td>NaN</td>\n",
       "      <td>NaN</td>\n",
       "      <td>NaN</td>\n",
       "      <td>NaN</td>\n",
       "      <td>NaN</td>\n",
       "      <td>NaN</td>\n",
       "      <td>NaN</td>\n",
       "      <td>NaN</td>\n",
       "      <td>NaN</td>\n",
       "      <td>NaN</td>\n",
       "      <td>NaN</td>\n",
       "      <td>NaN</td>\n",
       "      <td>NaN</td>\n",
       "      <td>NaN</td>\n",
       "      <td>1.0</td>\n",
       "      <td>NaN</td>\n",
       "      <td>NaN</td>\n",
       "      <td>0.0</td>\n",
       "      <td>NaN</td>\n",
       "      <td>NaN</td>\n",
       "      <td>0</td>\n",
       "      <td>NaN</td>\n",
       "      <td>NaN</td>\n",
       "      <td>NaN</td>\n",
       "      <td>NaN</td>\n",
       "      <td>0.0</td>\n",
       "      <td>NaN</td>\n",
       "      <td>NaN</td>\n",
       "      <td>NaN</td>\n",
       "      <td>NaN</td>\n",
       "      <td>NaN</td>\n",
       "      <td>NaN</td>\n",
       "      <td>0.0</td>\n",
       "      <td>NaN</td>\n",
       "      <td>NaN</td>\n",
       "      <td>NaN</td>\n",
       "      <td>NaN</td>\n",
       "      <td>NaN</td>\n",
       "      <td>NaN</td>\n",
       "      <td>NaN</td>\n",
       "      <td>NaN</td>\n",
       "      <td>NaN</td>\n",
       "      <td>NaN</td>\n",
       "      <td>NaN</td>\n",
       "      <td>NaN</td>\n",
       "      <td>PGIS</td>\n",
       "      <td>0</td>\n",
       "      <td>0</td>\n",
       "      <td>0</td>\n",
       "      <td>0</td>\n",
       "      <td>NaN</td>\n",
       "    </tr>\n",
       "    <tr>\n",
       "      <th>1</th>\n",
       "      <td>197000000002</td>\n",
       "      <td>1970</td>\n",
       "      <td>0</td>\n",
       "      <td>0</td>\n",
       "      <td>NaN</td>\n",
       "      <td>0</td>\n",
       "      <td>NaN</td>\n",
       "      <td>130</td>\n",
       "      <td>Mexico</td>\n",
       "      <td>1</td>\n",
       "      <td>North America</td>\n",
       "      <td>Federal</td>\n",
       "      <td>Mexico city</td>\n",
       "      <td>19.371887</td>\n",
       "      <td>-99.086624</td>\n",
       "      <td>1.0</td>\n",
       "      <td>0</td>\n",
       "      <td>NaN</td>\n",
       "      <td>NaN</td>\n",
       "      <td>1</td>\n",
       "      <td>1</td>\n",
       "      <td>1</td>\n",
       "      <td>0.0</td>\n",
       "      <td>NaN</td>\n",
       "      <td>NaN</td>\n",
       "      <td>0.0</td>\n",
       "      <td>1</td>\n",
       "      <td>0</td>\n",
       "      <td>6</td>\n",
       "      <td>Hostage Taking (Kidnapping)</td>\n",
       "      <td>NaN</td>\n",
       "      <td>NaN</td>\n",
       "      <td>NaN</td>\n",
       "      <td>NaN</td>\n",
       "      <td>7</td>\n",
       "      <td>Government (Diplomatic)</td>\n",
       "      <td>45.0</td>\n",
       "      <td>Diplomatic Personnel (outside of embassy, cons...</td>\n",
       "      <td>Belgian Ambassador Daughter</td>\n",
       "      <td>Nadine Chaval, daughter</td>\n",
       "      <td>21.0</td>\n",
       "      <td>Belgium</td>\n",
       "      <td>NaN</td>\n",
       "      <td>NaN</td>\n",
       "      <td>NaN</td>\n",
       "      <td>NaN</td>\n",
       "      <td>NaN</td>\n",
       "      <td>NaN</td>\n",
       "      <td>NaN</td>\n",
       "      <td>NaN</td>\n",
       "      <td>NaN</td>\n",
       "      <td>NaN</td>\n",
       "      <td>NaN</td>\n",
       "      <td>NaN</td>\n",
       "      <td>NaN</td>\n",
       "      <td>NaN</td>\n",
       "      <td>NaN</td>\n",
       "      <td>NaN</td>\n",
       "      <td>23rd of September Communist League</td>\n",
       "      <td>NaN</td>\n",
       "      <td>NaN</td>\n",
       "      <td>NaN</td>\n",
       "      <td>NaN</td>\n",
       "      <td>NaN</td>\n",
       "      <td>NaN</td>\n",
       "      <td>0.0</td>\n",
       "      <td>NaN</td>\n",
       "      <td>NaN</td>\n",
       "      <td>0</td>\n",
       "      <td>7.0</td>\n",
       "      <td>NaN</td>\n",
       "      <td>NaN</td>\n",
       "      <td>NaN</td>\n",
       "      <td>NaN</td>\n",
       "      <td>NaN</td>\n",
       "      <td>NaN</td>\n",
       "      <td>NaN</td>\n",
       "      <td>NaN</td>\n",
       "      <td>NaN</td>\n",
       "      <td>NaN</td>\n",
       "      <td>NaN</td>\n",
       "      <td>13</td>\n",
       "      <td>Unknown</td>\n",
       "      <td>NaN</td>\n",
       "      <td>NaN</td>\n",
       "      <td>NaN</td>\n",
       "      <td>NaN</td>\n",
       "      <td>NaN</td>\n",
       "      <td>NaN</td>\n",
       "      <td>NaN</td>\n",
       "      <td>NaN</td>\n",
       "      <td>NaN</td>\n",
       "      <td>NaN</td>\n",
       "      <td>NaN</td>\n",
       "      <td>NaN</td>\n",
       "      <td>NaN</td>\n",
       "      <td>NaN</td>\n",
       "      <td>NaN</td>\n",
       "      <td>0.0</td>\n",
       "      <td>NaN</td>\n",
       "      <td>NaN</td>\n",
       "      <td>0.0</td>\n",
       "      <td>NaN</td>\n",
       "      <td>NaN</td>\n",
       "      <td>0</td>\n",
       "      <td>NaN</td>\n",
       "      <td>NaN</td>\n",
       "      <td>NaN</td>\n",
       "      <td>NaN</td>\n",
       "      <td>1.0</td>\n",
       "      <td>1.0</td>\n",
       "      <td>0.0</td>\n",
       "      <td>NaN</td>\n",
       "      <td>NaN</td>\n",
       "      <td>NaN</td>\n",
       "      <td>Mexico</td>\n",
       "      <td>1.0</td>\n",
       "      <td>800000.0</td>\n",
       "      <td>NaN</td>\n",
       "      <td>NaN</td>\n",
       "      <td>NaN</td>\n",
       "      <td>NaN</td>\n",
       "      <td>NaN</td>\n",
       "      <td>NaN</td>\n",
       "      <td>NaN</td>\n",
       "      <td>NaN</td>\n",
       "      <td>NaN</td>\n",
       "      <td>NaN</td>\n",
       "      <td>NaN</td>\n",
       "      <td>PGIS</td>\n",
       "      <td>0</td>\n",
       "      <td>1</td>\n",
       "      <td>1</td>\n",
       "      <td>1</td>\n",
       "      <td>NaN</td>\n",
       "    </tr>\n",
       "    <tr>\n",
       "      <th>2</th>\n",
       "      <td>197001000001</td>\n",
       "      <td>1970</td>\n",
       "      <td>1</td>\n",
       "      <td>0</td>\n",
       "      <td>NaN</td>\n",
       "      <td>0</td>\n",
       "      <td>NaN</td>\n",
       "      <td>160</td>\n",
       "      <td>Philippines</td>\n",
       "      <td>5</td>\n",
       "      <td>Southeast Asia</td>\n",
       "      <td>Tarlac</td>\n",
       "      <td>Unknown</td>\n",
       "      <td>15.478598</td>\n",
       "      <td>120.599741</td>\n",
       "      <td>4.0</td>\n",
       "      <td>0</td>\n",
       "      <td>NaN</td>\n",
       "      <td>NaN</td>\n",
       "      <td>1</td>\n",
       "      <td>1</td>\n",
       "      <td>1</td>\n",
       "      <td>0.0</td>\n",
       "      <td>NaN</td>\n",
       "      <td>NaN</td>\n",
       "      <td>0.0</td>\n",
       "      <td>1</td>\n",
       "      <td>0</td>\n",
       "      <td>1</td>\n",
       "      <td>Assassination</td>\n",
       "      <td>NaN</td>\n",
       "      <td>NaN</td>\n",
       "      <td>NaN</td>\n",
       "      <td>NaN</td>\n",
       "      <td>10</td>\n",
       "      <td>Journalists &amp; Media</td>\n",
       "      <td>54.0</td>\n",
       "      <td>Radio Journalist/Staff/Facility</td>\n",
       "      <td>Voice of America</td>\n",
       "      <td>Employee</td>\n",
       "      <td>217.0</td>\n",
       "      <td>United States</td>\n",
       "      <td>NaN</td>\n",
       "      <td>NaN</td>\n",
       "      <td>NaN</td>\n",
       "      <td>NaN</td>\n",
       "      <td>NaN</td>\n",
       "      <td>NaN</td>\n",
       "      <td>NaN</td>\n",
       "      <td>NaN</td>\n",
       "      <td>NaN</td>\n",
       "      <td>NaN</td>\n",
       "      <td>NaN</td>\n",
       "      <td>NaN</td>\n",
       "      <td>NaN</td>\n",
       "      <td>NaN</td>\n",
       "      <td>NaN</td>\n",
       "      <td>NaN</td>\n",
       "      <td>Unknown</td>\n",
       "      <td>NaN</td>\n",
       "      <td>NaN</td>\n",
       "      <td>NaN</td>\n",
       "      <td>NaN</td>\n",
       "      <td>NaN</td>\n",
       "      <td>NaN</td>\n",
       "      <td>0.0</td>\n",
       "      <td>NaN</td>\n",
       "      <td>NaN</td>\n",
       "      <td>0</td>\n",
       "      <td>NaN</td>\n",
       "      <td>NaN</td>\n",
       "      <td>NaN</td>\n",
       "      <td>NaN</td>\n",
       "      <td>NaN</td>\n",
       "      <td>NaN</td>\n",
       "      <td>NaN</td>\n",
       "      <td>NaN</td>\n",
       "      <td>NaN</td>\n",
       "      <td>NaN</td>\n",
       "      <td>NaN</td>\n",
       "      <td>NaN</td>\n",
       "      <td>13</td>\n",
       "      <td>Unknown</td>\n",
       "      <td>NaN</td>\n",
       "      <td>NaN</td>\n",
       "      <td>NaN</td>\n",
       "      <td>NaN</td>\n",
       "      <td>NaN</td>\n",
       "      <td>NaN</td>\n",
       "      <td>NaN</td>\n",
       "      <td>NaN</td>\n",
       "      <td>NaN</td>\n",
       "      <td>NaN</td>\n",
       "      <td>NaN</td>\n",
       "      <td>NaN</td>\n",
       "      <td>NaN</td>\n",
       "      <td>NaN</td>\n",
       "      <td>NaN</td>\n",
       "      <td>1.0</td>\n",
       "      <td>NaN</td>\n",
       "      <td>NaN</td>\n",
       "      <td>0.0</td>\n",
       "      <td>NaN</td>\n",
       "      <td>NaN</td>\n",
       "      <td>0</td>\n",
       "      <td>NaN</td>\n",
       "      <td>NaN</td>\n",
       "      <td>NaN</td>\n",
       "      <td>NaN</td>\n",
       "      <td>0.0</td>\n",
       "      <td>NaN</td>\n",
       "      <td>NaN</td>\n",
       "      <td>NaN</td>\n",
       "      <td>NaN</td>\n",
       "      <td>NaN</td>\n",
       "      <td>NaN</td>\n",
       "      <td>0.0</td>\n",
       "      <td>NaN</td>\n",
       "      <td>NaN</td>\n",
       "      <td>NaN</td>\n",
       "      <td>NaN</td>\n",
       "      <td>NaN</td>\n",
       "      <td>NaN</td>\n",
       "      <td>NaN</td>\n",
       "      <td>NaN</td>\n",
       "      <td>NaN</td>\n",
       "      <td>NaN</td>\n",
       "      <td>NaN</td>\n",
       "      <td>NaN</td>\n",
       "      <td>PGIS</td>\n",
       "      <td>-9</td>\n",
       "      <td>-9</td>\n",
       "      <td>1</td>\n",
       "      <td>1</td>\n",
       "      <td>NaN</td>\n",
       "    </tr>\n",
       "    <tr>\n",
       "      <th>3</th>\n",
       "      <td>197001000002</td>\n",
       "      <td>1970</td>\n",
       "      <td>1</td>\n",
       "      <td>0</td>\n",
       "      <td>NaN</td>\n",
       "      <td>0</td>\n",
       "      <td>NaN</td>\n",
       "      <td>78</td>\n",
       "      <td>Greece</td>\n",
       "      <td>8</td>\n",
       "      <td>Western Europe</td>\n",
       "      <td>Attica</td>\n",
       "      <td>Athens</td>\n",
       "      <td>37.997490</td>\n",
       "      <td>23.762728</td>\n",
       "      <td>1.0</td>\n",
       "      <td>0</td>\n",
       "      <td>NaN</td>\n",
       "      <td>NaN</td>\n",
       "      <td>1</td>\n",
       "      <td>1</td>\n",
       "      <td>1</td>\n",
       "      <td>0.0</td>\n",
       "      <td>NaN</td>\n",
       "      <td>NaN</td>\n",
       "      <td>0.0</td>\n",
       "      <td>1</td>\n",
       "      <td>0</td>\n",
       "      <td>3</td>\n",
       "      <td>Bombing/Explosion</td>\n",
       "      <td>NaN</td>\n",
       "      <td>NaN</td>\n",
       "      <td>NaN</td>\n",
       "      <td>NaN</td>\n",
       "      <td>7</td>\n",
       "      <td>Government (Diplomatic)</td>\n",
       "      <td>46.0</td>\n",
       "      <td>Embassy/Consulate</td>\n",
       "      <td>NaN</td>\n",
       "      <td>U.S. Embassy</td>\n",
       "      <td>217.0</td>\n",
       "      <td>United States</td>\n",
       "      <td>NaN</td>\n",
       "      <td>NaN</td>\n",
       "      <td>NaN</td>\n",
       "      <td>NaN</td>\n",
       "      <td>NaN</td>\n",
       "      <td>NaN</td>\n",
       "      <td>NaN</td>\n",
       "      <td>NaN</td>\n",
       "      <td>NaN</td>\n",
       "      <td>NaN</td>\n",
       "      <td>NaN</td>\n",
       "      <td>NaN</td>\n",
       "      <td>NaN</td>\n",
       "      <td>NaN</td>\n",
       "      <td>NaN</td>\n",
       "      <td>NaN</td>\n",
       "      <td>Unknown</td>\n",
       "      <td>NaN</td>\n",
       "      <td>NaN</td>\n",
       "      <td>NaN</td>\n",
       "      <td>NaN</td>\n",
       "      <td>NaN</td>\n",
       "      <td>NaN</td>\n",
       "      <td>0.0</td>\n",
       "      <td>NaN</td>\n",
       "      <td>NaN</td>\n",
       "      <td>0</td>\n",
       "      <td>NaN</td>\n",
       "      <td>NaN</td>\n",
       "      <td>NaN</td>\n",
       "      <td>NaN</td>\n",
       "      <td>NaN</td>\n",
       "      <td>NaN</td>\n",
       "      <td>NaN</td>\n",
       "      <td>NaN</td>\n",
       "      <td>NaN</td>\n",
       "      <td>NaN</td>\n",
       "      <td>NaN</td>\n",
       "      <td>NaN</td>\n",
       "      <td>6</td>\n",
       "      <td>Explosives</td>\n",
       "      <td>16.0</td>\n",
       "      <td>Unknown Explosive Type</td>\n",
       "      <td>NaN</td>\n",
       "      <td>NaN</td>\n",
       "      <td>NaN</td>\n",
       "      <td>NaN</td>\n",
       "      <td>NaN</td>\n",
       "      <td>NaN</td>\n",
       "      <td>NaN</td>\n",
       "      <td>NaN</td>\n",
       "      <td>NaN</td>\n",
       "      <td>NaN</td>\n",
       "      <td>NaN</td>\n",
       "      <td>NaN</td>\n",
       "      <td>Explosive</td>\n",
       "      <td>NaN</td>\n",
       "      <td>NaN</td>\n",
       "      <td>NaN</td>\n",
       "      <td>NaN</td>\n",
       "      <td>NaN</td>\n",
       "      <td>NaN</td>\n",
       "      <td>1</td>\n",
       "      <td>NaN</td>\n",
       "      <td>NaN</td>\n",
       "      <td>NaN</td>\n",
       "      <td>NaN</td>\n",
       "      <td>0.0</td>\n",
       "      <td>NaN</td>\n",
       "      <td>NaN</td>\n",
       "      <td>NaN</td>\n",
       "      <td>NaN</td>\n",
       "      <td>NaN</td>\n",
       "      <td>NaN</td>\n",
       "      <td>0.0</td>\n",
       "      <td>NaN</td>\n",
       "      <td>NaN</td>\n",
       "      <td>NaN</td>\n",
       "      <td>NaN</td>\n",
       "      <td>NaN</td>\n",
       "      <td>NaN</td>\n",
       "      <td>NaN</td>\n",
       "      <td>NaN</td>\n",
       "      <td>NaN</td>\n",
       "      <td>NaN</td>\n",
       "      <td>NaN</td>\n",
       "      <td>NaN</td>\n",
       "      <td>PGIS</td>\n",
       "      <td>-9</td>\n",
       "      <td>-9</td>\n",
       "      <td>1</td>\n",
       "      <td>1</td>\n",
       "      <td>NaN</td>\n",
       "    </tr>\n",
       "    <tr>\n",
       "      <th>4</th>\n",
       "      <td>197001000003</td>\n",
       "      <td>1970</td>\n",
       "      <td>1</td>\n",
       "      <td>0</td>\n",
       "      <td>NaN</td>\n",
       "      <td>0</td>\n",
       "      <td>NaN</td>\n",
       "      <td>101</td>\n",
       "      <td>Japan</td>\n",
       "      <td>4</td>\n",
       "      <td>East Asia</td>\n",
       "      <td>Fukouka</td>\n",
       "      <td>Fukouka</td>\n",
       "      <td>33.580412</td>\n",
       "      <td>130.396361</td>\n",
       "      <td>1.0</td>\n",
       "      <td>0</td>\n",
       "      <td>NaN</td>\n",
       "      <td>NaN</td>\n",
       "      <td>1</td>\n",
       "      <td>1</td>\n",
       "      <td>1</td>\n",
       "      <td>-9.0</td>\n",
       "      <td>NaN</td>\n",
       "      <td>NaN</td>\n",
       "      <td>0.0</td>\n",
       "      <td>1</td>\n",
       "      <td>0</td>\n",
       "      <td>7</td>\n",
       "      <td>Facility/Infrastructure Attack</td>\n",
       "      <td>NaN</td>\n",
       "      <td>NaN</td>\n",
       "      <td>NaN</td>\n",
       "      <td>NaN</td>\n",
       "      <td>7</td>\n",
       "      <td>Government (Diplomatic)</td>\n",
       "      <td>46.0</td>\n",
       "      <td>Embassy/Consulate</td>\n",
       "      <td>NaN</td>\n",
       "      <td>U.S. Consulate</td>\n",
       "      <td>217.0</td>\n",
       "      <td>United States</td>\n",
       "      <td>NaN</td>\n",
       "      <td>NaN</td>\n",
       "      <td>NaN</td>\n",
       "      <td>NaN</td>\n",
       "      <td>NaN</td>\n",
       "      <td>NaN</td>\n",
       "      <td>NaN</td>\n",
       "      <td>NaN</td>\n",
       "      <td>NaN</td>\n",
       "      <td>NaN</td>\n",
       "      <td>NaN</td>\n",
       "      <td>NaN</td>\n",
       "      <td>NaN</td>\n",
       "      <td>NaN</td>\n",
       "      <td>NaN</td>\n",
       "      <td>NaN</td>\n",
       "      <td>Unknown</td>\n",
       "      <td>NaN</td>\n",
       "      <td>NaN</td>\n",
       "      <td>NaN</td>\n",
       "      <td>NaN</td>\n",
       "      <td>NaN</td>\n",
       "      <td>NaN</td>\n",
       "      <td>0.0</td>\n",
       "      <td>NaN</td>\n",
       "      <td>NaN</td>\n",
       "      <td>0</td>\n",
       "      <td>NaN</td>\n",
       "      <td>NaN</td>\n",
       "      <td>NaN</td>\n",
       "      <td>NaN</td>\n",
       "      <td>NaN</td>\n",
       "      <td>NaN</td>\n",
       "      <td>NaN</td>\n",
       "      <td>NaN</td>\n",
       "      <td>NaN</td>\n",
       "      <td>NaN</td>\n",
       "      <td>NaN</td>\n",
       "      <td>NaN</td>\n",
       "      <td>8</td>\n",
       "      <td>Incendiary</td>\n",
       "      <td>NaN</td>\n",
       "      <td>NaN</td>\n",
       "      <td>NaN</td>\n",
       "      <td>NaN</td>\n",
       "      <td>NaN</td>\n",
       "      <td>NaN</td>\n",
       "      <td>NaN</td>\n",
       "      <td>NaN</td>\n",
       "      <td>NaN</td>\n",
       "      <td>NaN</td>\n",
       "      <td>NaN</td>\n",
       "      <td>NaN</td>\n",
       "      <td>NaN</td>\n",
       "      <td>NaN</td>\n",
       "      <td>Incendiary</td>\n",
       "      <td>NaN</td>\n",
       "      <td>NaN</td>\n",
       "      <td>NaN</td>\n",
       "      <td>NaN</td>\n",
       "      <td>NaN</td>\n",
       "      <td>NaN</td>\n",
       "      <td>1</td>\n",
       "      <td>NaN</td>\n",
       "      <td>NaN</td>\n",
       "      <td>NaN</td>\n",
       "      <td>NaN</td>\n",
       "      <td>0.0</td>\n",
       "      <td>NaN</td>\n",
       "      <td>NaN</td>\n",
       "      <td>NaN</td>\n",
       "      <td>NaN</td>\n",
       "      <td>NaN</td>\n",
       "      <td>NaN</td>\n",
       "      <td>0.0</td>\n",
       "      <td>NaN</td>\n",
       "      <td>NaN</td>\n",
       "      <td>NaN</td>\n",
       "      <td>NaN</td>\n",
       "      <td>NaN</td>\n",
       "      <td>NaN</td>\n",
       "      <td>NaN</td>\n",
       "      <td>NaN</td>\n",
       "      <td>NaN</td>\n",
       "      <td>NaN</td>\n",
       "      <td>NaN</td>\n",
       "      <td>NaN</td>\n",
       "      <td>PGIS</td>\n",
       "      <td>-9</td>\n",
       "      <td>-9</td>\n",
       "      <td>1</td>\n",
       "      <td>1</td>\n",
       "      <td>NaN</td>\n",
       "    </tr>\n",
       "  </tbody>\n",
       "</table>\n",
       "</div>"
      ],
      "text/plain": [
       "        eventid  iyear  imonth  iday approxdate  extended resolution  country  \\\n",
       "0  197000000001   1970       7     2        NaN         0        NaN       58   \n",
       "1  197000000002   1970       0     0        NaN         0        NaN      130   \n",
       "2  197001000001   1970       1     0        NaN         0        NaN      160   \n",
       "3  197001000002   1970       1     0        NaN         0        NaN       78   \n",
       "4  197001000003   1970       1     0        NaN         0        NaN      101   \n",
       "\n",
       "          country_txt  region                   region_txt provstate  \\\n",
       "0  Dominican Republic       2  Central America & Caribbean       NaN   \n",
       "1              Mexico       1                North America   Federal   \n",
       "2         Philippines       5               Southeast Asia    Tarlac   \n",
       "3              Greece       8               Western Europe    Attica   \n",
       "4               Japan       4                    East Asia   Fukouka   \n",
       "\n",
       "            city   latitude   longitude  specificity  vicinity location  \\\n",
       "0  Santo Domingo  18.456792  -69.951164          1.0         0      NaN   \n",
       "1    Mexico city  19.371887  -99.086624          1.0         0      NaN   \n",
       "2        Unknown  15.478598  120.599741          4.0         0      NaN   \n",
       "3         Athens  37.997490   23.762728          1.0         0      NaN   \n",
       "4        Fukouka  33.580412  130.396361          1.0         0      NaN   \n",
       "\n",
       "  summary  crit1  crit2  crit3  doubtterr  alternative alternative_txt  \\\n",
       "0     NaN      1      1      1        0.0          NaN             NaN   \n",
       "1     NaN      1      1      1        0.0          NaN             NaN   \n",
       "2     NaN      1      1      1        0.0          NaN             NaN   \n",
       "3     NaN      1      1      1        0.0          NaN             NaN   \n",
       "4     NaN      1      1      1       -9.0          NaN             NaN   \n",
       "\n",
       "   multiple  success  suicide  attacktype1                 attacktype1_txt  \\\n",
       "0       0.0        1        0            1                   Assassination   \n",
       "1       0.0        1        0            6     Hostage Taking (Kidnapping)   \n",
       "2       0.0        1        0            1                   Assassination   \n",
       "3       0.0        1        0            3               Bombing/Explosion   \n",
       "4       0.0        1        0            7  Facility/Infrastructure Attack   \n",
       "\n",
       "   attacktype2 attacktype2_txt  attacktype3 attacktype3_txt  targtype1  \\\n",
       "0          NaN             NaN          NaN             NaN         14   \n",
       "1          NaN             NaN          NaN             NaN          7   \n",
       "2          NaN             NaN          NaN             NaN         10   \n",
       "3          NaN             NaN          NaN             NaN          7   \n",
       "4          NaN             NaN          NaN             NaN          7   \n",
       "\n",
       "                 targtype1_txt  targsubtype1  \\\n",
       "0  Private Citizens & Property          68.0   \n",
       "1      Government (Diplomatic)          45.0   \n",
       "2          Journalists & Media          54.0   \n",
       "3      Government (Diplomatic)          46.0   \n",
       "4      Government (Diplomatic)          46.0   \n",
       "\n",
       "                                    targsubtype1_txt  \\\n",
       "0                                     Named Civilian   \n",
       "1  Diplomatic Personnel (outside of embassy, cons...   \n",
       "2                    Radio Journalist/Staff/Facility   \n",
       "3                                  Embassy/Consulate   \n",
       "4                                  Embassy/Consulate   \n",
       "\n",
       "                         corp1                  target1  natlty1  \\\n",
       "0                          NaN             Julio Guzman     58.0   \n",
       "1  Belgian Ambassador Daughter  Nadine Chaval, daughter     21.0   \n",
       "2             Voice of America                 Employee    217.0   \n",
       "3                          NaN             U.S. Embassy    217.0   \n",
       "4                          NaN           U.S. Consulate    217.0   \n",
       "\n",
       "          natlty1_txt  targtype2 targtype2_txt  targsubtype2 targsubtype2_txt  \\\n",
       "0  Dominican Republic        NaN           NaN           NaN              NaN   \n",
       "1             Belgium        NaN           NaN           NaN              NaN   \n",
       "2       United States        NaN           NaN           NaN              NaN   \n",
       "3       United States        NaN           NaN           NaN              NaN   \n",
       "4       United States        NaN           NaN           NaN              NaN   \n",
       "\n",
       "  corp2 target2  natlty2 natlty2_txt  targtype3 targtype3_txt  targsubtype3  \\\n",
       "0   NaN     NaN      NaN         NaN        NaN           NaN           NaN   \n",
       "1   NaN     NaN      NaN         NaN        NaN           NaN           NaN   \n",
       "2   NaN     NaN      NaN         NaN        NaN           NaN           NaN   \n",
       "3   NaN     NaN      NaN         NaN        NaN           NaN           NaN   \n",
       "4   NaN     NaN      NaN         NaN        NaN           NaN           NaN   \n",
       "\n",
       "  targsubtype3_txt corp3 target3  natlty3 natlty3_txt  \\\n",
       "0              NaN   NaN     NaN      NaN         NaN   \n",
       "1              NaN   NaN     NaN      NaN         NaN   \n",
       "2              NaN   NaN     NaN      NaN         NaN   \n",
       "3              NaN   NaN     NaN      NaN         NaN   \n",
       "4              NaN   NaN     NaN      NaN         NaN   \n",
       "\n",
       "                                gname gsubname gname2 gsubname2 gname3  \\\n",
       "0                              MANO-D      NaN    NaN       NaN    NaN   \n",
       "1  23rd of September Communist League      NaN    NaN       NaN    NaN   \n",
       "2                             Unknown      NaN    NaN       NaN    NaN   \n",
       "3                             Unknown      NaN    NaN       NaN    NaN   \n",
       "4                             Unknown      NaN    NaN       NaN    NaN   \n",
       "\n",
       "  gsubname3 motive  guncertain1  guncertain2  guncertain3  individual  nperps  \\\n",
       "0       NaN    NaN          0.0          NaN          NaN           0     NaN   \n",
       "1       NaN    NaN          0.0          NaN          NaN           0     7.0   \n",
       "2       NaN    NaN          0.0          NaN          NaN           0     NaN   \n",
       "3       NaN    NaN          0.0          NaN          NaN           0     NaN   \n",
       "4       NaN    NaN          0.0          NaN          NaN           0     NaN   \n",
       "\n",
       "   nperpcap  claimed  claimmode claimmode_txt  claim2  claimmode2  \\\n",
       "0       NaN      NaN        NaN           NaN     NaN         NaN   \n",
       "1       NaN      NaN        NaN           NaN     NaN         NaN   \n",
       "2       NaN      NaN        NaN           NaN     NaN         NaN   \n",
       "3       NaN      NaN        NaN           NaN     NaN         NaN   \n",
       "4       NaN      NaN        NaN           NaN     NaN         NaN   \n",
       "\n",
       "  claimmode2_txt  claim3  claimmode3 claimmode3_txt  compclaim  weaptype1  \\\n",
       "0            NaN     NaN         NaN            NaN        NaN         13   \n",
       "1            NaN     NaN         NaN            NaN        NaN         13   \n",
       "2            NaN     NaN         NaN            NaN        NaN         13   \n",
       "3            NaN     NaN         NaN            NaN        NaN          6   \n",
       "4            NaN     NaN         NaN            NaN        NaN          8   \n",
       "\n",
       "  weaptype1_txt  weapsubtype1        weapsubtype1_txt  weaptype2  \\\n",
       "0       Unknown           NaN                     NaN        NaN   \n",
       "1       Unknown           NaN                     NaN        NaN   \n",
       "2       Unknown           NaN                     NaN        NaN   \n",
       "3    Explosives          16.0  Unknown Explosive Type        NaN   \n",
       "4    Incendiary           NaN                     NaN        NaN   \n",
       "\n",
       "  weaptype2_txt  weapsubtype2 weapsubtype2_txt  weaptype3 weaptype3_txt  \\\n",
       "0           NaN           NaN              NaN        NaN           NaN   \n",
       "1           NaN           NaN              NaN        NaN           NaN   \n",
       "2           NaN           NaN              NaN        NaN           NaN   \n",
       "3           NaN           NaN              NaN        NaN           NaN   \n",
       "4           NaN           NaN              NaN        NaN           NaN   \n",
       "\n",
       "   weapsubtype3 weapsubtype3_txt  weaptype4 weaptype4_txt  weapsubtype4  \\\n",
       "0           NaN              NaN        NaN           NaN           NaN   \n",
       "1           NaN              NaN        NaN           NaN           NaN   \n",
       "2           NaN              NaN        NaN           NaN           NaN   \n",
       "3           NaN              NaN        NaN           NaN           NaN   \n",
       "4           NaN              NaN        NaN           NaN           NaN   \n",
       "\n",
       "  weapsubtype4_txt  weapdetail  nkill  nkillus  nkillter  nwound  nwoundus  \\\n",
       "0              NaN         NaN    1.0      NaN       NaN     0.0       NaN   \n",
       "1              NaN         NaN    0.0      NaN       NaN     0.0       NaN   \n",
       "2              NaN         NaN    1.0      NaN       NaN     0.0       NaN   \n",
       "3              NaN   Explosive    NaN      NaN       NaN     NaN       NaN   \n",
       "4              NaN  Incendiary    NaN      NaN       NaN     NaN       NaN   \n",
       "\n",
       "   nwoundte  property  propextent propextent_txt  propvalue propcomment  \\\n",
       "0       NaN         0         NaN            NaN        NaN         NaN   \n",
       "1       NaN         0         NaN            NaN        NaN         NaN   \n",
       "2       NaN         0         NaN            NaN        NaN         NaN   \n",
       "3       NaN         1         NaN            NaN        NaN         NaN   \n",
       "4       NaN         1         NaN            NaN        NaN         NaN   \n",
       "\n",
       "   ishostkid  nhostkid  nhostkidus  nhours  ndays divert kidhijcountry  \\\n",
       "0        0.0       NaN         NaN     NaN    NaN    NaN           NaN   \n",
       "1        1.0       1.0         0.0     NaN    NaN    NaN        Mexico   \n",
       "2        0.0       NaN         NaN     NaN    NaN    NaN           NaN   \n",
       "3        0.0       NaN         NaN     NaN    NaN    NaN           NaN   \n",
       "4        0.0       NaN         NaN     NaN    NaN    NaN           NaN   \n",
       "\n",
       "   ransom  ransomamt  ransomamtus  ransompaid  ransompaidus ransomnote  \\\n",
       "0     0.0        NaN          NaN         NaN           NaN        NaN   \n",
       "1     1.0   800000.0          NaN         NaN           NaN        NaN   \n",
       "2     0.0        NaN          NaN         NaN           NaN        NaN   \n",
       "3     0.0        NaN          NaN         NaN           NaN        NaN   \n",
       "4     0.0        NaN          NaN         NaN           NaN        NaN   \n",
       "\n",
       "   hostkidoutcome hostkidoutcome_txt  nreleased addnotes scite1 scite2 scite3  \\\n",
       "0             NaN                NaN        NaN      NaN    NaN    NaN    NaN   \n",
       "1             NaN                NaN        NaN      NaN    NaN    NaN    NaN   \n",
       "2             NaN                NaN        NaN      NaN    NaN    NaN    NaN   \n",
       "3             NaN                NaN        NaN      NaN    NaN    NaN    NaN   \n",
       "4             NaN                NaN        NaN      NaN    NaN    NaN    NaN   \n",
       "\n",
       "  dbsource  INT_LOG  INT_IDEO  INT_MISC  INT_ANY related  \n",
       "0     PGIS        0         0         0        0     NaN  \n",
       "1     PGIS        0         1         1        1     NaN  \n",
       "2     PGIS       -9        -9         1        1     NaN  \n",
       "3     PGIS       -9        -9         1        1     NaN  \n",
       "4     PGIS       -9        -9         1        1     NaN  "
      ]
     },
     "execution_count": 3,
     "metadata": {},
     "output_type": "execute_result"
    }
   ],
   "source": [
    "data=pd.read_csv(\"D:\\\\DATA SCIENCE Internship with LGMVIP\\\\data\\\\globalterrorism.csv\", encoding='latin1')\n",
    "data.head()"
   ]
  },
  {
   "cell_type": "code",
   "execution_count": 4,
   "id": "8e005d47",
   "metadata": {},
   "outputs": [],
   "source": [
    "df=data.copy()"
   ]
  },
  {
   "cell_type": "markdown",
   "id": "809ec83c",
   "metadata": {},
   "source": [
    "#### Column Information go here : https://www.kaggle.com/datasets/START-UMD/gtd"
   ]
  },
  {
   "cell_type": "code",
   "execution_count": 5,
   "id": "9da66cd1",
   "metadata": {
    "scrolled": true
   },
   "outputs": [
    {
     "data": {
      "text/plain": [
       "(181691, 135)"
      ]
     },
     "execution_count": 5,
     "metadata": {},
     "output_type": "execute_result"
    }
   ],
   "source": [
    "df.shape"
   ]
  },
  {
   "cell_type": "markdown",
   "id": "147b3cd4",
   "metadata": {},
   "source": [
    "### Missing values"
   ]
  },
  {
   "cell_type": "code",
   "execution_count": 6,
   "id": "12ad7bd4",
   "metadata": {},
   "outputs": [
    {
     "name": "stdout",
     "output_type": "stream",
     "text": [
      "['approxdate', 'resolution', 'provstate', 'city', 'latitude', 'longitude', 'specificity', 'location', 'summary', 'doubtterr', 'alternative', 'alternative_txt', 'multiple', 'attacktype2', 'attacktype2_txt', 'attacktype3', 'attacktype3_txt', 'targsubtype1', 'targsubtype1_txt', 'corp1', 'target1', 'natlty1', 'natlty1_txt', 'targtype2', 'targtype2_txt', 'targsubtype2', 'targsubtype2_txt', 'corp2', 'target2', 'natlty2', 'natlty2_txt', 'targtype3', 'targtype3_txt', 'targsubtype3', 'targsubtype3_txt', 'corp3', 'target3', 'natlty3', 'natlty3_txt', 'gsubname', 'gname2', 'gsubname2', 'gname3', 'gsubname3', 'motive', 'guncertain1', 'guncertain2', 'guncertain3', 'nperps', 'nperpcap', 'claimed', 'claimmode', 'claimmode_txt', 'claim2', 'claimmode2', 'claimmode2_txt', 'claim3', 'claimmode3', 'claimmode3_txt', 'compclaim', 'weapsubtype1', 'weapsubtype1_txt', 'weaptype2', 'weaptype2_txt', 'weapsubtype2', 'weapsubtype2_txt', 'weaptype3', 'weaptype3_txt', 'weapsubtype3', 'weapsubtype3_txt', 'weaptype4', 'weaptype4_txt', 'weapsubtype4', 'weapsubtype4_txt', 'weapdetail', 'nkill', 'nkillus', 'nkillter', 'nwound', 'nwoundus', 'nwoundte', 'propextent', 'propextent_txt', 'propvalue', 'propcomment', 'ishostkid', 'nhostkid', 'nhostkidus', 'nhours', 'ndays', 'divert', 'kidhijcountry', 'ransom', 'ransomamt', 'ransomamtus', 'ransompaid', 'ransompaidus', 'ransomnote', 'hostkidoutcome', 'hostkidoutcome_txt', 'nreleased', 'addnotes', 'scite1', 'scite2', 'scite3', 'related']\n"
     ]
    }
   ],
   "source": [
    "missing_val_in_col=[]\n",
    "for col in df.columns:\n",
    "    if df[col].isna().sum()!=0:\n",
    "        missing_val_in_col.append(col)\n",
    "print(missing_val_in_col)"
   ]
  },
  {
   "cell_type": "markdown",
   "id": "e95ae5b3",
   "metadata": {},
   "source": [
    "#### Above are the column list which contains missing values."
   ]
  },
  {
   "cell_type": "markdown",
   "id": "595ccb70",
   "metadata": {},
   "source": [
    "### Drop the columns which has more than 100000 missing values"
   ]
  },
  {
   "cell_type": "code",
   "execution_count": 7,
   "id": "874799c7",
   "metadata": {},
   "outputs": [
    {
     "data": {
      "text/plain": [
       "gsubname3           99.988992\n",
       "weapsubtype4_txt    99.961473\n",
       "weapsubtype4        99.961473\n",
       "weaptype4           99.959822\n",
       "weaptype4_txt       99.959822\n",
       "                      ...    \n",
       "suicide              0.000000\n",
       "success              0.000000\n",
       "crit3                0.000000\n",
       "property             0.000000\n",
       "eventid              0.000000\n",
       "Length: 135, dtype: float64"
      ]
     },
     "execution_count": 7,
     "metadata": {},
     "output_type": "execute_result"
    }
   ],
   "source": [
    "nan_percent=df.isnull().sum()*100/len(df)\n",
    "nan_percent.sort_values(ascending = False)"
   ]
  },
  {
   "cell_type": "code",
   "execution_count": 8,
   "id": "db4ecf94",
   "metadata": {},
   "outputs": [
    {
     "data": {
      "text/plain": [
       "Index(['eventid', 'iyear', 'imonth', 'iday', 'extended', 'country',\n",
       "       'country_txt', 'region', 'region_txt', 'provstate', 'city', 'latitude',\n",
       "       'longitude', 'specificity', 'vicinity', 'summary', 'crit1', 'crit2',\n",
       "       'crit3', 'doubtterr', 'multiple', 'success', 'suicide', 'attacktype1',\n",
       "       'attacktype1_txt', 'targtype1', 'targtype1_txt', 'targsubtype1',\n",
       "       'targsubtype1_txt', 'corp1', 'target1', 'natlty1', 'natlty1_txt',\n",
       "       'gname', 'guncertain1', 'individual', 'nperps', 'nperpcap', 'claimed',\n",
       "       'weaptype1', 'weaptype1_txt', 'weapsubtype1', 'weapsubtype1_txt',\n",
       "       'weapdetail', 'nkill', 'nkillus', 'nkillter', 'nwound', 'nwoundus',\n",
       "       'nwoundte', 'property', 'ishostkid', 'scite1', 'dbsource', 'INT_LOG',\n",
       "       'INT_IDEO', 'INT_MISC', 'INT_ANY'],\n",
       "      dtype='object')"
      ]
     },
     "execution_count": 8,
     "metadata": {},
     "output_type": "execute_result"
    }
   ],
   "source": [
    "columns_to_drop = nan_percent[nan_percent.values>45].index\n",
    "df.drop(columns_to_drop, axis=1, inplace=True)\n",
    "df.columns"
   ]
  },
  {
   "cell_type": "code",
   "execution_count": 9,
   "id": "23777792",
   "metadata": {},
   "outputs": [
    {
     "data": {
      "text/plain": [
       "(181691, 58)"
      ]
     },
     "execution_count": 9,
     "metadata": {},
     "output_type": "execute_result"
    }
   ],
   "source": [
    "df.shape"
   ]
  },
  {
   "cell_type": "markdown",
   "id": "67e7af59",
   "metadata": {},
   "source": [
    "## Data Cleaning"
   ]
  },
  {
   "cell_type": "markdown",
   "id": "6d37f8c8",
   "metadata": {},
   "source": [
    "### Duplicate data"
   ]
  },
  {
   "cell_type": "code",
   "execution_count": 10,
   "id": "5ecdcbb7",
   "metadata": {},
   "outputs": [
    {
     "data": {
      "text/plain": [
       "0"
      ]
     },
     "execution_count": 10,
     "metadata": {},
     "output_type": "execute_result"
    }
   ],
   "source": [
    "df.duplicated().sum()"
   ]
  },
  {
   "cell_type": "markdown",
   "id": "25afb747",
   "metadata": {},
   "source": [
    "### From column \"iyear, imonth, iday\" create Date column"
   ]
  },
  {
   "cell_type": "code",
   "execution_count": 11,
   "id": "583d3c7f",
   "metadata": {},
   "outputs": [
    {
     "data": {
      "text/plain": [
       "array([ 7,  0,  1,  2,  3,  4,  5,  6,  8,  9, 10, 11, 12], dtype=int64)"
      ]
     },
     "execution_count": 11,
     "metadata": {},
     "output_type": "execute_result"
    }
   ],
   "source": [
    "df['imonth'].unique()"
   ]
  },
  {
   "cell_type": "markdown",
   "id": "c11ae6e3",
   "metadata": {},
   "source": [
    "**Month cannot be 0, replace 0 with 1.**"
   ]
  },
  {
   "cell_type": "code",
   "execution_count": 12,
   "id": "f2066d1c",
   "metadata": {},
   "outputs": [
    {
     "data": {
      "text/plain": [
       "array([ 7,  1,  2,  3,  4,  5,  6,  8,  9, 10, 11, 12], dtype=int64)"
      ]
     },
     "execution_count": 12,
     "metadata": {},
     "output_type": "execute_result"
    }
   ],
   "source": [
    "df['imonth'].replace({0:1}, inplace=True)\n",
    "df['imonth'].unique()"
   ]
  },
  {
   "cell_type": "code",
   "execution_count": 13,
   "id": "dad491bf",
   "metadata": {},
   "outputs": [
    {
     "data": {
      "text/plain": [
       "array([ 2,  0,  1,  3,  6,  8,  9, 10, 11, 12, 13, 14, 15, 19, 20, 21, 22,\n",
       "       25, 26, 27, 28, 30, 31,  4,  7, 16, 17, 18, 23, 24,  5, 29],\n",
       "      dtype=int64)"
      ]
     },
     "execution_count": 13,
     "metadata": {},
     "output_type": "execute_result"
    }
   ],
   "source": [
    "df['iday'].unique()"
   ]
  },
  {
   "cell_type": "markdown",
   "id": "f7e1d651",
   "metadata": {},
   "source": [
    "**Day cannot be 0, replace 0 with 1.**"
   ]
  },
  {
   "cell_type": "code",
   "execution_count": 14,
   "id": "f2237e9f",
   "metadata": {},
   "outputs": [
    {
     "data": {
      "text/plain": [
       "array([ 2,  1,  3,  6,  8,  9, 10, 11, 12, 13, 14, 15, 19, 20, 21, 22, 25,\n",
       "       26, 27, 28, 30, 31,  4,  7, 16, 17, 18, 23, 24,  5, 29],\n",
       "      dtype=int64)"
      ]
     },
     "execution_count": 14,
     "metadata": {},
     "output_type": "execute_result"
    }
   ],
   "source": [
    "df['iday'].replace({0:1}, inplace=True)\n",
    "df['iday'].unique()"
   ]
  },
  {
   "cell_type": "code",
   "execution_count": 15,
   "id": "8dffbf3e",
   "metadata": {},
   "outputs": [],
   "source": [
    "df['iyear']=df['iyear'].astype(str)\n",
    "df['imonth']=df['imonth'].astype(str)\n",
    "df['iday']=df['iday'].astype(str)"
   ]
  },
  {
   "cell_type": "code",
   "execution_count": 16,
   "id": "1340ee06",
   "metadata": {},
   "outputs": [
    {
     "data": {
      "text/plain": [
       "0        1970-07-02\n",
       "1        1970-01-01\n",
       "2        1970-01-01\n",
       "3        1970-01-01\n",
       "4        1970-01-01\n",
       "            ...    \n",
       "181686   2017-12-31\n",
       "181687   2017-12-31\n",
       "181688   2017-12-31\n",
       "181689   2017-12-31\n",
       "181690   2017-12-31\n",
       "Name: date, Length: 181691, dtype: datetime64[ns]"
      ]
     },
     "execution_count": 16,
     "metadata": {},
     "output_type": "execute_result"
    }
   ],
   "source": [
    "df['date']=df['iyear'] + \"-\" + df['imonth'] +\"-\"+ df['iday']\n",
    "df['date']=pd.to_datetime(df['date'])\n",
    "df['date']"
   ]
  },
  {
   "cell_type": "markdown",
   "id": "829edf81",
   "metadata": {},
   "source": [
    "### Drop incident date related column"
   ]
  },
  {
   "cell_type": "code",
   "execution_count": 17,
   "id": "2e6cf51d",
   "metadata": {},
   "outputs": [],
   "source": [
    "df.drop(['iyear','imonth','iday'], axis=1, inplace=True)"
   ]
  },
  {
   "cell_type": "markdown",
   "id": "de5f1ac8",
   "metadata": {},
   "source": [
    "### Analyze extended column\n",
    "- 1 = \"Yes\" The duration of an incident extended more than 24 hours. 0 = \"No\" The duration of an incident extended less"
   ]
  },
  {
   "cell_type": "markdown",
   "id": "e7cfb2b9",
   "metadata": {},
   "source": [
    "#### Rename this column as Duration of incident, and replace 1 with \">24hrs\", and 0 with \"<24hrs\""
   ]
  },
  {
   "cell_type": "code",
   "execution_count": 18,
   "id": "dad47877",
   "metadata": {},
   "outputs": [
    {
     "data": {
      "text/plain": [
       "array(['<24hrs', '>24hrs'], dtype=object)"
      ]
     },
     "execution_count": 18,
     "metadata": {},
     "output_type": "execute_result"
    }
   ],
   "source": [
    "df.rename({'extended':'incident_duration'}, axis=1, inplace=True)\n",
    "df['incident_duration'].replace({1:\">24hrs\",0:\"<24hrs\"}, inplace=True)\n",
    "df['incident_duration'].unique()"
   ]
  },
  {
   "cell_type": "markdown",
   "id": "1d1ae2c0",
   "metadata": {},
   "source": [
    "### Drop columns country and region becuase we already have country name and region name in another column"
   ]
  },
  {
   "cell_type": "code",
   "execution_count": 19,
   "id": "50435daa",
   "metadata": {},
   "outputs": [],
   "source": [
    "df.drop(['country','region'], axis=1, inplace=True)\n",
    "df.rename({'country_txt':'country','region_txt':'region'}, axis=1, inplace=True)"
   ]
  },
  {
   "cell_type": "markdown",
   "id": "2dc7167f",
   "metadata": {},
   "source": [
    "### Drop provstate column as it contains many Nan.. we have city column so no need of province state"
   ]
  },
  {
   "cell_type": "code",
   "execution_count": 20,
   "id": "6994b80c",
   "metadata": {},
   "outputs": [],
   "source": [
    "df.drop('provstate', axis=1, inplace=True)"
   ]
  },
  {
   "cell_type": "markdown",
   "id": "a1b07f7c",
   "metadata": {},
   "source": [
    "### Drop those rows which do not have latitude or longitude.. This step is ecessary because Tableau Map understand latitude and longitude."
   ]
  },
  {
   "cell_type": "markdown",
   "id": "6a354fc8",
   "metadata": {},
   "source": [
    "### Rename Columns"
   ]
  },
  {
   "cell_type": "code",
   "execution_count": 21,
   "id": "975f225c",
   "metadata": {},
   "outputs": [],
   "source": [
    "df.rename({'attacktype1_txt': 'attack_type', 'targtype1_txt': 'target_type', 'targsubtype1_txt': 'target_subtype','target1': 'target', 'natlty1_txt': 'nationality','weaptype1_txt': 'weapon_type'}, axis=1, inplace=True)"
   ]
  },
  {
   "cell_type": "markdown",
   "id": "a763650b",
   "metadata": {},
   "source": [
    "### Drop unwanted column"
   ]
  },
  {
   "cell_type": "code",
   "execution_count": 22,
   "id": "4bb1d49e",
   "metadata": {},
   "outputs": [],
   "source": [
    "df.drop(['attacktype1', 'targtype1', 'targsubtype1', 'summary', 'target_subtype','guncertain1','scite1','dbsource',\n",
    "         'natlty1', 'weaptype1', 'weapsubtype1', 'weapdetail','ishostkid','INT_LOG','INT_IDEO','INT_MISC','INT_ANY',\n",
    "         'weapsubtype1_txt','crit1', 'crit2', 'crit3','doubtterr'], axis=1, inplace=True)"
   ]
  },
  {
   "cell_type": "markdown",
   "id": "214e4765",
   "metadata": {},
   "source": [
    "### Analyze specificity column\n",
    "- We already the vicinity of attack so drop specificity column"
   ]
  },
  {
   "cell_type": "code",
   "execution_count": 23,
   "id": "d340cf71",
   "metadata": {},
   "outputs": [
    {
     "data": {
      "text/plain": [
       "array([ 1.,  4.,  5.,  2.,  3., nan])"
      ]
     },
     "execution_count": 23,
     "metadata": {},
     "output_type": "execute_result"
    }
   ],
   "source": [
    "df['specificity'].unique()"
   ]
  },
  {
   "cell_type": "code",
   "execution_count": 24,
   "id": "2148fd75",
   "metadata": {},
   "outputs": [],
   "source": [
    "df.drop('specificity', axis=1, inplace=True)"
   ]
  },
  {
   "cell_type": "markdown",
   "id": "45eff847",
   "metadata": {},
   "source": [
    "### Analyze vicinity\n",
    "- 1 = \"Yes\" The incident occurred in the immediate vicinity of the city in question. \n",
    "- 0 = \"No\" The incident in the city itself"
   ]
  },
  {
   "cell_type": "code",
   "execution_count": 25,
   "id": "c9642311",
   "metadata": {},
   "outputs": [
    {
     "data": {
      "text/plain": [
       "array([ 0,  1, -9], dtype=int64)"
      ]
     },
     "execution_count": 25,
     "metadata": {},
     "output_type": "execute_result"
    }
   ],
   "source": [
    "df['vicinity'].unique()"
   ]
  },
  {
   "cell_type": "markdown",
   "id": "a1e57dd6",
   "metadata": {},
   "source": [
    "#### Replace -9 with 0"
   ]
  },
  {
   "cell_type": "code",
   "execution_count": 26,
   "id": "a9cdee4c",
   "metadata": {},
   "outputs": [],
   "source": [
    "df['vicinity'].replace({-9:0}, inplace=True)"
   ]
  },
  {
   "cell_type": "code",
   "execution_count": 27,
   "id": "5b088738",
   "metadata": {},
   "outputs": [],
   "source": [
    "df['vicinity'].replace({0:'In City', 1:'Near City'}, inplace=True)"
   ]
  },
  {
   "cell_type": "markdown",
   "id": "21b8f3e3",
   "metadata": {},
   "source": [
    "### Rename corp1 "
   ]
  },
  {
   "cell_type": "code",
   "execution_count": 28,
   "id": "650c7af8",
   "metadata": {},
   "outputs": [],
   "source": [
    "df.rename({'corp1':'targeted_corporate'}, axis=1, inplace=True)"
   ]
  },
  {
   "cell_type": "markdown",
   "id": "73cbd589",
   "metadata": {},
   "source": [
    "### Rename gname to Perpetrator Group Name"
   ]
  },
  {
   "cell_type": "code",
   "execution_count": 29,
   "id": "f977a1de",
   "metadata": {},
   "outputs": [],
   "source": [
    "df.rename({'gname':'terrorist_group'}, axis=1, inplace=True)"
   ]
  },
  {
   "cell_type": "markdown",
   "id": "0f5eb047",
   "metadata": {},
   "source": [
    "### Rename individual columns"
   ]
  },
  {
   "cell_type": "code",
   "execution_count": 30,
   "id": "f3c4b371",
   "metadata": {},
   "outputs": [],
   "source": [
    "df.rename({'individual':'terrorist_group_size'}, axis=1, inplace=True)\n",
    "df['terrorist_group_size'].replace({0:'individual',1:'group'}, inplace=True)"
   ]
  },
  {
   "cell_type": "markdown",
   "id": "64e1d733",
   "metadata": {},
   "source": [
    "### Rename nperps"
   ]
  },
  {
   "cell_type": "code",
   "execution_count": 31,
   "id": "6ce69239",
   "metadata": {},
   "outputs": [],
   "source": [
    "df.rename({'nperps':'number_of_terrorist'}, axis=1, inplace=True)"
   ]
  },
  {
   "cell_type": "markdown",
   "id": "15a48e54",
   "metadata": {},
   "source": [
    "### Rename nperpcap"
   ]
  },
  {
   "cell_type": "code",
   "execution_count": 32,
   "id": "fb8ece28",
   "metadata": {},
   "outputs": [],
   "source": [
    "df.rename({'nperpcap':'number_of_terrorist_captured'}, axis=1, inplace=True)"
   ]
  },
  {
   "cell_type": "markdown",
   "id": "05213a44",
   "metadata": {},
   "source": [
    "### Rename claimed"
   ]
  },
  {
   "cell_type": "code",
   "execution_count": 33,
   "id": "1dd8ffcc",
   "metadata": {},
   "outputs": [],
   "source": [
    "df.rename({'claimed':'attack_claimed'}, axis=1, inplace=True)\n",
    "df['attack_claimed'].replace({0:'No',1:'Yes'}, inplace=True)"
   ]
  },
  {
   "cell_type": "markdown",
   "id": "8edef1b6",
   "metadata": {},
   "source": [
    "### Rename nkill, nkillsus, nkillter, nwound, nwoundus, nwoundte"
   ]
  },
  {
   "cell_type": "code",
   "execution_count": 34,
   "id": "fe15b16c",
   "metadata": {},
   "outputs": [],
   "source": [
    "df.rename({'nkill':'number_of_kills'}, axis=1, inplace=True)\n",
    "df.rename({'nkillus':'number_of_kills_in_US'}, axis=1, inplace=True)\n",
    "df.rename({'nkillter':'number_of_terrorist_died'}, axis=1, inplace=True)\n",
    "df.rename({'nwound':'number_of_injured'}, axis=1, inplace=True)\n",
    "df.rename({'nwoundus':'number_of_injured_in_US'}, axis=1, inplace=True)\n",
    "df.rename({'nwoundte':'number_of_injured_terrorist'}, axis=1, inplace=True)"
   ]
  },
  {
   "cell_type": "markdown",
   "id": "d5bdabab",
   "metadata": {},
   "source": [
    "### Rename property"
   ]
  },
  {
   "cell_type": "code",
   "execution_count": 35,
   "id": "c74cc1cb",
   "metadata": {},
   "outputs": [],
   "source": [
    "df.rename({'property':'property_damaged'}, axis=1, inplace=True)\n",
    "df['property_damaged'].replace({0:'No',1:'Yes'}, inplace=True)"
   ]
  },
  {
   "cell_type": "markdown",
   "id": "61277fc2",
   "metadata": {},
   "source": [
    "### Renale multiple"
   ]
  },
  {
   "cell_type": "code",
   "execution_count": 36,
   "id": "f20c08e8",
   "metadata": {},
   "outputs": [],
   "source": [
    "df.rename({'multiple':'multiple_attack'}, axis=1, inplace=True)\n",
    "df['multiple_attack'].replace({0:'No',1:'Yes'}, inplace=True)"
   ]
  },
  {
   "cell_type": "markdown",
   "id": "a6a651b4",
   "metadata": {},
   "source": [
    "### Rename success"
   ]
  },
  {
   "cell_type": "code",
   "execution_count": 37,
   "id": "bcf47d96",
   "metadata": {},
   "outputs": [],
   "source": [
    "df.rename({'success':'success_attack'}, axis=1, inplace=True)\n",
    "df['success_attack'].replace({0:'No',1:'Yes'}, inplace=True)"
   ]
  },
  {
   "cell_type": "markdown",
   "id": "e6bf3de3",
   "metadata": {},
   "source": [
    "### Rename suicide"
   ]
  },
  {
   "cell_type": "code",
   "execution_count": 38,
   "id": "868c7ca6",
   "metadata": {},
   "outputs": [],
   "source": [
    "#df.rename({'suicide':'suicide_attack'}, axis=1, inplace=True)\n",
    "#df['suicide_attack'].replace({0:'No',1:'Yes'}, inplace=True)"
   ]
  },
  {
   "cell_type": "code",
   "execution_count": null,
   "id": "c3fdde83",
   "metadata": {},
   "outputs": [],
   "source": []
  },
  {
   "cell_type": "markdown",
   "id": "2e9bac87",
   "metadata": {},
   "source": [
    "### Missing values"
   ]
  },
  {
   "cell_type": "code",
   "execution_count": 39,
   "id": "bb96371d",
   "metadata": {},
   "outputs": [
    {
     "data": {
      "text/plain": [
       "eventid                             0\n",
       "incident_duration                   0\n",
       "country                             0\n",
       "region                              0\n",
       "city                              434\n",
       "latitude                         4556\n",
       "longitude                        4557\n",
       "vicinity                            0\n",
       "multiple_attack                     1\n",
       "success_attack                      0\n",
       "suicide_attack                      0\n",
       "attack_type                         0\n",
       "target_type                         0\n",
       "targeted_corporate              42550\n",
       "target                            636\n",
       "nationality                      1559\n",
       "terrorist_group                     0\n",
       "terrorist_group_size                0\n",
       "number_of_terrorist             71115\n",
       "number_of_terrorist_captured    69489\n",
       "attack_claimed                  66120\n",
       "weapon_type                         0\n",
       "number_of_kills                 10313\n",
       "number_of_kills_in_US           64446\n",
       "number_of_terrorist_died        66958\n",
       "number_of_injured               16311\n",
       "number_of_injured_in_US         64702\n",
       "number_of_injured_terrorist     69143\n",
       "property_damaged                    0\n",
       "date                                0\n",
       "dtype: int64"
      ]
     },
     "execution_count": 39,
     "metadata": {},
     "output_type": "execute_result"
    }
   ],
   "source": [
    "df.isna().sum()"
   ]
  },
  {
   "cell_type": "code",
   "execution_count": 40,
   "id": "562862a7",
   "metadata": {},
   "outputs": [],
   "source": [
    "df.dropna(inplace=True)"
   ]
  },
  {
   "cell_type": "code",
   "execution_count": 41,
   "id": "06f4625a",
   "metadata": {},
   "outputs": [
    {
     "data": {
      "text/plain": [
       "(81668, 30)"
      ]
     },
     "execution_count": 41,
     "metadata": {},
     "output_type": "execute_result"
    }
   ],
   "source": [
    "df.shape"
   ]
  },
  {
   "cell_type": "code",
   "execution_count": 42,
   "id": "0fe1e416",
   "metadata": {},
   "outputs": [
    {
     "data": {
      "text/plain": [
       "eventid                         0\n",
       "incident_duration               0\n",
       "country                         0\n",
       "region                          0\n",
       "city                            0\n",
       "latitude                        0\n",
       "longitude                       0\n",
       "vicinity                        0\n",
       "multiple_attack                 0\n",
       "success_attack                  0\n",
       "suicide_attack                  0\n",
       "attack_type                     0\n",
       "target_type                     0\n",
       "targeted_corporate              0\n",
       "target                          0\n",
       "nationality                     0\n",
       "terrorist_group                 0\n",
       "terrorist_group_size            0\n",
       "number_of_terrorist             0\n",
       "number_of_terrorist_captured    0\n",
       "attack_claimed                  0\n",
       "weapon_type                     0\n",
       "number_of_kills                 0\n",
       "number_of_kills_in_US           0\n",
       "number_of_terrorist_died        0\n",
       "number_of_injured               0\n",
       "number_of_injured_in_US         0\n",
       "number_of_injured_terrorist     0\n",
       "property_damaged                0\n",
       "date                            0\n",
       "dtype: int64"
      ]
     },
     "execution_count": 42,
     "metadata": {},
     "output_type": "execute_result"
    }
   ],
   "source": [
    "df.isna().sum()"
   ]
  },
  {
   "cell_type": "code",
   "execution_count": 44,
   "id": "51064c70",
   "metadata": {},
   "outputs": [
    {
     "data": {
      "text/plain": [
       "eventid                                  int64\n",
       "incident_duration                       object\n",
       "country                                 object\n",
       "region                                  object\n",
       "city                                    object\n",
       "latitude                               float64\n",
       "longitude                              float64\n",
       "vicinity                                object\n",
       "multiple_attack                         object\n",
       "success_attack                          object\n",
       "suicide_attack                          object\n",
       "attack_type                             object\n",
       "target_type                             object\n",
       "targeted_corporate                      object\n",
       "target                                  object\n",
       "nationality                             object\n",
       "terrorist_group                         object\n",
       "terrorist_group_size                    object\n",
       "number_of_terrorist                    float64\n",
       "number_of_terrorist_captured           float64\n",
       "attack_claimed                          object\n",
       "weapon_type                             object\n",
       "number_of_kills                        float64\n",
       "number_of_kills_in_US                  float64\n",
       "number_of_terrorist_died               float64\n",
       "number_of_injured                      float64\n",
       "number_of_injured_in_US                float64\n",
       "number_of_injured_terrorist            float64\n",
       "property_damaged                        object\n",
       "date                            datetime64[ns]\n",
       "dtype: object"
      ]
     },
     "execution_count": 44,
     "metadata": {},
     "output_type": "execute_result"
    }
   ],
   "source": [
    "df.dtypes"
   ]
  },
  {
   "cell_type": "markdown",
   "id": "e0da7a6c",
   "metadata": {},
   "source": [
    "### Replacing SOme values in columns"
   ]
  },
  {
   "cell_type": "code",
   "execution_count": 55,
   "id": "ed04dcab",
   "metadata": {
    "scrolled": false
   },
   "outputs": [
    {
     "name": "stdout",
     "output_type": "stream",
     "text": [
      "incident_duration 2 ['<24hrs' '>24hrs']\n",
      "********************\n",
      "country 163 ['United States' 'Poland' 'United Kingdom' 'Italy' 'France' 'Switzerland'\n",
      " 'Israel' 'Austria' 'Belgium' 'Brunei' 'Zaire' 'Argentina'\n",
      " \"People's Republic of the Congo\" 'Jordan' 'Cambodia' 'Australia'\n",
      " 'Portugal' 'India' 'Sri Lanka' 'Netherlands' 'Nigeria' 'Guyana' 'Sweden'\n",
      " 'Bangladesh' 'New Zealand' 'Lebanon' 'Spain' 'Canada' 'Philippines'\n",
      " 'Azerbaijan' 'Algeria' 'South Africa' 'Turkey' 'Germany' 'Uganda'\n",
      " 'Ethiopia' 'Malta' 'Pakistan' 'West Bank and Gaza Strip' 'Peru'\n",
      " 'Thailand' 'Egypt' 'Rwanda' 'Colombia' 'Bulgaria' 'Yemen' 'Russia'\n",
      " 'Georgia' 'Iran' 'Yugoslavia' 'Sierra Leone' 'Indonesia' 'Iraq' 'Nepal'\n",
      " 'Paraguay' 'Sudan' 'Uzbekistan' 'Zambia' 'Greece' 'Mozambique' 'Kosovo'\n",
      " 'Angola' 'Ukraine' 'Venezuela' 'Kyrgyzstan' 'Haiti' 'Tajikistan'\n",
      " 'Guatemala' 'Albania' 'Bosnia-Herzegovina' 'Japan' 'Burundi' 'Macedonia'\n",
      " 'Mexico' 'Afghanistan' 'Ecuador' 'Belize' 'East Timor' 'Nicaragua'\n",
      " 'Malaysia' 'Croatia' 'Latvia' 'Zimbabwe' 'Somalia' 'Fiji' 'Cyprus'\n",
      " 'Saudi Arabia' 'Gambia' 'Namibia' 'Armenia' 'Central African Republic'\n",
      " 'Kenya' 'Democratic Republic of the Congo' 'Guinea' 'Brazil' 'Qatar'\n",
      " 'China' 'Tanzania' 'Laos' 'Panama' 'Liberia' 'Hong Kong' 'Senegal'\n",
      " 'St. Lucia' 'Norway' 'South Korea' 'Kazakhstan' 'Estonia' 'Montenegro'\n",
      " 'Ireland' 'Taiwan' 'Republic of the Congo' 'Hungary' 'Costa Rica'\n",
      " 'Kuwait' 'Chile' 'Myanmar' 'Tunisia' 'Chad' 'Madagascar' 'Honduras'\n",
      " 'Solomon Islands' 'Turkmenistan' 'Serbia-Montenegro' 'Syria' 'Belarus'\n",
      " 'Morocco' 'Libya' 'Cuba' 'Western Sahara' 'Finland' 'Maldives' 'Niger'\n",
      " 'Bahrain' 'Mali' 'Serbia' 'Cameroon' 'Mauritania' 'Bhutan' 'Eritrea'\n",
      " 'Trinidad and Tobago' 'Denmark' 'United Arab Emirates' 'Ivory Coast'\n",
      " 'Czech Republic' 'Iceland' 'South Sudan' 'Guinea-Bissau' 'Moldova'\n",
      " 'Bolivia' 'Burkina Faso' 'Dominican Republic' 'Bahamas' 'Jamaica'\n",
      " 'Djibouti' 'Ghana' 'Lesotho' 'Uruguay' 'Slovak Republic' 'Vietnam'\n",
      " 'Gabon' 'Papua New Guinea' 'Malawi']\n",
      "********************\n",
      "region 12 ['North America' 'Eastern Europe' 'Western Europe'\n",
      " 'Middle East & North Africa' 'Southeast Asia' 'Sub-Saharan Africa'\n",
      " 'South America' 'Australasia & Oceania' 'South Asia' 'Central Asia'\n",
      " 'Central America & Caribbean' 'East Asia']\n",
      "********************\n",
      "city 20939 ['Cairo' 'Oakland' 'Madison' ... 'Hungrum' 'Ceelka Geelow' 'Kubentog']\n",
      "********************\n",
      "vicinity 2 ['In City' 'Near City']\n",
      "********************\n",
      "multiple_attack 2 ['No' 'Yes']\n",
      "********************\n",
      "success_attack 2 ['Yes' 'No']\n",
      "********************\n",
      "suicide_attack 2 ['No' 'Yes']\n",
      "********************\n",
      "attack_type 9 ['Armed Assault' 'Bombing/Explosion' 'Facility/Infrastructure Attack'\n",
      " 'Assassination' 'Hijacking' 'Unarmed Assault'\n",
      " 'Hostage Taking (Kidnapping)' 'Hostage Taking (Barricade Incident)'\n",
      " 'Unknown']\n",
      "********************\n",
      "target_type 22 ['Police' 'Utilities' 'Military' 'Government (General)' 'Business'\n",
      " 'Educational Institution' 'Violent Political Party'\n",
      " 'Private Citizens & Property' 'Religious Figures/Institutions'\n",
      " 'Transportation' 'NGO' 'Telecommunication' 'Government (Diplomatic)'\n",
      " 'Journalists & Media' 'Food or Water Supply' 'Airports & Aircraft'\n",
      " 'Unknown' 'Abortion Related' 'Terrorists/Non-State Militia' 'Tourists'\n",
      " 'Maritime' 'Other']\n",
      "********************\n",
      "targeted_corporate 17284 ['Cairo Police Department' 'Pacific Gas & Electric Company' 'R.O.T.C.' ...\n",
      " 'NC Hills Autonomous Council' 'Russian Air Force'\n",
      " 'Forest Department Manipur']\n",
      "********************\n",
      "target 31250 ['Cairo Police Headquarters' 'Edes Substation'\n",
      " 'R.O.T.C. offices at University of Wisconsin, Madison' ...\n",
      " 'Personal Security Officer of Council Member Ihuing Pame: Prafulla Phukan'\n",
      " 'Jewelry Shop' 'Hmeymim Air Base']\n",
      "********************\n",
      "nationality 180 ['United States' 'Puerto Rico' 'China' 'Poland' 'Northern Ireland'\n",
      " 'Soviet Union' 'Italy' 'West Bank and Gaza Strip' 'Israel' 'Jordan'\n",
      " 'United Kingdom' 'India' 'Colombia' 'Sri Lanka' 'Netherlands' 'Nigeria'\n",
      " 'Iran' 'Libya' 'Sweden' 'Bangladesh' 'Vietnam' 'Liberia' 'Spain' 'France'\n",
      " 'Cuba' 'New Zealand' 'Great Britain' 'Yugoslavia' 'Mexico' 'Canada'\n",
      " 'Haiti' 'International' 'Algeria' 'South Africa' 'Russia' 'Germany'\n",
      " 'Uganda' 'Saudi Arabia' 'Malta' 'Pakistan' 'Peru' 'Turkey' 'Myanmar'\n",
      " 'Philippines' 'Egypt' 'Rwanda' 'Multinational' 'Bulgaria' 'Belgium'\n",
      " 'Georgia' 'Sierra Leone' 'East Timor' 'Australia' 'Serbia-Montenegro'\n",
      " 'Greece' 'Switzerland' 'Iraq' 'Nepal' 'Paraguay' 'Sudan' 'Uzbekistan'\n",
      " 'Zambia' 'Indonesia' 'Mozambique' 'Angola' 'Yemen' 'Venezuela' 'Japan'\n",
      " 'Tajikistan' 'Portugal' 'Kosovo' 'Cambodia' 'Ukraine' 'Lebanon'\n",
      " 'Guatemala' 'Albania' 'Ireland' 'Bosnia-Herzegovina' 'Burundi'\n",
      " 'Macedonia' 'Afghanistan' 'Ecuador' 'Nicaragua' 'Azerbaijan' 'Croatia'\n",
      " 'Thailand' 'Latvia' 'Zimbabwe' 'Malaysia' 'Fiji' 'Cyprus' 'Serbia'\n",
      " 'Gambia' 'Namibia' 'Armenia' 'Kenya' 'Democratic Republic of the Congo'\n",
      " 'Brazil' 'Qatar' 'Tanzania' 'Somalia' 'Laos' 'Guinea' 'Hong Kong'\n",
      " 'Senegal' 'St. Lucia' 'Corsica' 'Argentina' 'Norway' 'South Korea'\n",
      " 'Kazakhstan' 'Estonia' 'Montenegro' 'Taiwan' 'Guyana' 'Ethiopia'\n",
      " 'Romania' 'Hungary' 'Costa Rica' 'Bhutan' 'Chile' 'Tunisia' 'Chad'\n",
      " 'Madagascar' 'Honduras' 'Solomon Islands' 'Kyrgyzstan' 'Seychelles'\n",
      " 'Slovak Republic' 'Belarus' 'Mongolia' 'Morocco' 'Denmark' 'Finland'\n",
      " 'Maldives' 'Niger' 'Austria' 'Bahrain' 'Bermuda' 'Vatican City' 'Mali'\n",
      " 'Asian' 'Syria' 'Brunei' 'Cameroon' 'Mauritania'\n",
      " 'Central African Republic' 'St. Martin' 'United Arab Emirates' 'Iceland'\n",
      " 'Eritrea' 'Bahamas' 'Trinidad and Tobago' 'Luxembourg' 'Ivory Coast'\n",
      " 'Kuwait' 'Czech Republic' 'South Sudan' 'Guinea-Bissau' 'Singapore'\n",
      " 'Moldova' 'Bolivia' 'Belize' 'North Korea' 'Panama' 'Burkina Faso'\n",
      " 'Republic of the Congo' 'Dominican Republic' 'Turkmenistan' 'Jamaica'\n",
      " 'Lithuania' 'Ghana' 'Lesotho' 'Uruguay' 'Malawi' 'Tuvalu'\n",
      " 'Virgin Islands (U.S.)' 'Marshall Islands' 'Gabon' 'Papua New Guinea']\n",
      "********************\n",
      "terrorist_group 1276 ['Black Nationalists' 'Unknown' \"New Year's Gang\" ... 'Fatoni Warriors'\n",
      " 'Minorities of Metropolitan Attacks' 'Baloch Republican Party']\n",
      "********************\n",
      "terrorist_group_size 2 ['individual' 'group']\n",
      "********************\n",
      "attack_claimed 3 ['No' 'Yes' -9.0]\n",
      "********************\n",
      "weapon_type 12 ['Firearms' 'Explosives' 'Incendiary' 'Sabotage Equipment' 'Chemical'\n",
      " 'Melee' 'Unknown' 'Other' 'Fake Weapons'\n",
      " 'Vehicle (not to include vehicle-borne explosives, i.e., car or truck bombs)'\n",
      " 'Radiological' 'Biological']\n",
      "********************\n",
      "property_damaged 3 ['Yes' -9 'No']\n",
      "********************\n"
     ]
    }
   ],
   "source": [
    "for col in df.columns:\n",
    "    if df[col].dtype=='object':\n",
    "        print(col, df[col].nunique(), df[col].unique())\n",
    "        print(\"**\"*10)"
   ]
  },
  {
   "cell_type": "markdown",
   "id": "9c7c9e0f",
   "metadata": {},
   "source": [
    "#### In column attack_claimed and property_damaged, -9 is a value which indicated unknown.. replace it by unknown"
   ]
  },
  {
   "cell_type": "code",
   "execution_count": 58,
   "id": "fd948ce5",
   "metadata": {},
   "outputs": [
    {
     "name": "stdout",
     "output_type": "stream",
     "text": [
      "['Yes' 'Unknown' 'No']\n",
      "['No' 'Yes' 'Unknown']\n"
     ]
    }
   ],
   "source": [
    "df['attack_claimed'].replace({-9.0:'Unknown'}, inplace=True)\n",
    "df['property_damaged'].replace({-9:'Unknown'}, inplace=True)\n",
    "print(df['property_damaged'].unique())\n",
    "print(df['attack_claimed'].unique())"
   ]
  },
  {
   "cell_type": "code",
   "execution_count": 59,
   "id": "715a1ffd",
   "metadata": {},
   "outputs": [
    {
     "data": {
      "text/plain": [
       "Index(['eventid', 'incident_duration', 'country', 'region', 'city', 'latitude',\n",
       "       'longitude', 'vicinity', 'multiple_attack', 'success_attack',\n",
       "       'suicide_attack', 'attack_type', 'target_type', 'targeted_corporate',\n",
       "       'target', 'nationality', 'terrorist_group', 'terrorist_group_size',\n",
       "       'number_of_terrorist', 'number_of_terrorist_captured', 'attack_claimed',\n",
       "       'weapon_type', 'number_of_kills', 'number_of_kills_in_US',\n",
       "       'number_of_terrorist_died', 'number_of_injured',\n",
       "       'number_of_injured_in_US', 'number_of_injured_terrorist',\n",
       "       'property_damaged', 'date'],\n",
       "      dtype='object')"
      ]
     },
     "execution_count": 59,
     "metadata": {},
     "output_type": "execute_result"
    }
   ],
   "source": [
    "df.columns"
   ]
  },
  {
   "cell_type": "code",
   "execution_count": 61,
   "id": "1af9e8c1",
   "metadata": {},
   "outputs": [],
   "source": [
    "numerical=['number_of_kills', 'number_of_kills_in_US',\n",
    "       'number_of_terrorist_died', 'number_of_injured',\n",
    "       'number_of_injured_in_US', 'number_of_injured_terrorist',\n",
    "        'number_of_terrorist_captured']"
   ]
  },
  {
   "cell_type": "code",
   "execution_count": 64,
   "id": "fd0b43db",
   "metadata": {},
   "outputs": [
    {
     "name": "stdout",
     "output_type": "stream",
     "text": [
      "number_of_kills [  0.   2.   1.   3.   8.   4.   5.   6.   7.  12.  20.  11.  15.  23.\n",
      "  10.  19.  18.  14.  81.  21.  13.   9.  25.  17.  96.  64.  30.  28.\n",
      "  35.  29.  34.  50.  16.  22.  44.  31.  24.  60.  27.  26.  33.  57.\n",
      "  59.  53.  40. 100.  47.  71.  58.  41.  70.  46. 110.  54.  77.  37.\n",
      "  32.  36. 120.  92.  42.  74.  69.  79. 250. 141.  72.  38. 101.  39.\n",
      " 134.  68.  56.  43. 102.  76.  51.  82. 115. 106.  48.  61.  52.  45.\n",
      "  97. 103.  91.  62.  87. 287. 670.  49. 298.  67. 150.  75.  65. 122.\n",
      " 158. 152.  86.  85. 121. 108. 105. 224.  93.  73.  83.  66.  88. 300.\n",
      "  55.  63. 383. 154. 284. 190.  98. 130.  78. 230. 151. 127. 266. 163.\n",
      " 200. 128. 588. 311.]\n",
      "********************\n",
      "number_of_kills_in_US [ 0.  2.  1.  3.  8.  5.  7. 15. 17. 38.  4. 20.  6. 13.  9. 10. 44.]\n",
      "********************\n",
      "number_of_terrorist_died [  0.   1.   2.   6.  80.   3.  20.  13.   4.   5.  10.  14.  15.   7.\n",
      "  17.   9.  11.   8.  34.  30.  18.  19.  12.  26.  35.  32.  22.  16.\n",
      "  40.  28.  25.  31.  50.  70.  27.  41.  59.  23.  55.  54.  47.  33.\n",
      "  36. 101.  90.  24.  45.  21.  60.  29.  63.  73.  72.  67. 140.  56.\n",
      "  75.  93.  39.  49. 151.  57.  44.  42.  46.  92.]\n",
      "********************\n",
      "number_of_injured [0.00e+00 1.00e+00 2.00e+00 7.00e+00 1.70e+01 5.00e+00 3.00e+00 1.00e+01\n",
      " 1.20e+01 2.00e+01 2.70e+01 5.60e+01 4.00e+00 3.60e+01 8.00e+00 1.40e+01\n",
      " 5.00e+01 5.90e+01 3.00e+01 9.00e+00 4.70e+01 5.80e+01 5.30e+01 3.10e+01\n",
      " 1.50e+01 1.30e+01 3.90e+01 4.20e+01 6.00e+00 2.10e+01 2.40e+01 2.20e+01\n",
      " 2.50e+01 4.30e+01 1.04e+02 2.80e+01 1.60e+01 8.00e+01 3.70e+01 3.50e+01\n",
      " 9.90e+01 1.10e+02 4.00e+01 1.80e+01 7.50e+01 8.10e+01 3.20e+01 1.10e+01\n",
      " 4.50e+01 3.80e+01 1.90e+01 2.30e+01 2.60e+01 1.50e+02 1.37e+02 6.00e+01\n",
      " 1.00e+02 1.30e+02 1.71e+02 4.60e+01 2.90e+01 1.40e+02 7.00e+01 3.40e+01\n",
      " 6.50e+01 9.00e+01 5.20e+01 1.21e+02 1.03e+02 5.50e+01 1.97e+02 7.80e+01\n",
      " 7.60e+01 1.49e+02 2.00e+02 1.70e+02 1.01e+02 1.67e+02 5.70e+01 5.10e+01\n",
      " 6.60e+01 3.30e+01 1.08e+02 1.28e+02 3.40e+02 1.63e+02 8.20e+01 4.80e+01\n",
      " 7.20e+01 1.25e+02 5.40e+01 2.46e+02 1.78e+02 1.68e+02 6.40e+01 6.30e+01\n",
      " 1.17e+02 7.50e+02 7.40e+01 2.50e+02 9.30e+01 4.10e+01 6.80e+01 9.50e+01\n",
      " 6.20e+01 1.41e+02 1.20e+02 2.76e+02 5.52e+02 8.30e+01 3.60e+02 4.40e+01\n",
      " 1.13e+02 6.10e+01 1.75e+02 1.36e+02 1.15e+02 3.01e+02 1.23e+02 8.70e+01\n",
      " 7.30e+01 1.02e+02 9.40e+01 1.34e+02 1.31e+02 4.00e+02 4.90e+01 3.70e+02\n",
      " 3.00e+02 1.60e+02 6.70e+01 8.50e+01 8.40e+01 1.69e+02 2.01e+02 1.51e+02\n",
      " 1.11e+02 2.15e+02 7.10e+01 1.43e+02 1.53e+02 1.24e+02 8.60e+01 7.90e+01\n",
      " 9.10e+01 9.20e+01 6.90e+01 1.16e+02 1.19e+02 9.80e+01 2.70e+02 8.80e+01\n",
      " 8.90e+01 1.27e+02 2.27e+02 1.52e+02 2.45e+02 9.60e+01 2.17e+02 1.12e+02\n",
      " 1.50e+03 1.35e+02 3.51e+02 3.47e+02 6.00e+02 2.35e+02 4.33e+02 2.30e+02\n",
      " 7.70e+01 1.61e+02 1.77e+02 4.91e+02 4.05e+02 3.16e+02 2.36e+02]\n",
      "********************\n",
      "number_of_injured_in_US [  0.   1.   2.   7.  17.   5.   3.  10.  12.  20.  27.   4.  36.   9.\n",
      "   8.  24.   6.  38.  15.  57.  22.  31.  77. 151.  16.  13.  48.  29.\n",
      "  11.  19.]\n",
      "********************\n",
      "number_of_injured_terrorist [  0.   1.   4.   3.   2.  50.  16.   5.   9.  25.   6.   7.   8.  13.\n",
      "  12.  10.  30.  38.  11.  15.  20.  14.  21.  24.  18.  62.  17. 150.\n",
      "  22.  23.  31.  33.  19.  40.  51. 101.  60.  35.  53.  26. 100.  49.\n",
      "  27.]\n",
      "********************\n",
      "number_of_terrorist_captured [-99.    1.    2.    0.    4.    3.    5.    9.    7.    6.   26.    8.\n",
      "  10.   14.   45.   12.    2.5  25.   32.   27.   -9.   43.   11.   21.\n",
      "  15.   50.   13.   28.   16.   19.   24.   18.   20.  126.   17.   55.\n",
      "  60.   23.   22.   40.   63.   30. ]\n",
      "********************\n"
     ]
    }
   ],
   "source": [
    "for col in numerical:\n",
    "    print(col, df[col].unique())\n",
    "    print(\"**\"*10)"
   ]
  },
  {
   "cell_type": "code",
   "execution_count": 65,
   "id": "17adad6e",
   "metadata": {},
   "outputs": [
    {
     "data": {
      "text/plain": [
       "array([  0. ,   1. ,   2. ,   4. ,   3. ,   5. ,   9. ,   7. ,   6. ,\n",
       "        26. ,   8. ,  10. ,  14. ,  45. ,  12. ,   2.5,  25. ,  32. ,\n",
       "        27. ,  -9. ,  43. ,  11. ,  21. ,  15. ,  50. ,  13. ,  28. ,\n",
       "        16. ,  19. ,  24. ,  18. ,  20. , 126. ,  17. ,  55. ,  60. ,\n",
       "        23. ,  22. ,  40. ,  63. ,  30. ])"
      ]
     },
     "execution_count": 65,
     "metadata": {},
     "output_type": "execute_result"
    }
   ],
   "source": [
    "df['number_of_terrorist_captured'].replace({-99.:0}, inplace=True)\n",
    "df['number_of_terrorist_captured'].unique()"
   ]
  },
  {
   "cell_type": "markdown",
   "id": "06a6b150",
   "metadata": {},
   "source": [
    "### Save this Cleaned data to create tableau dashboard."
   ]
  },
  {
   "cell_type": "code",
   "execution_count": 66,
   "id": "fdeb0976",
   "metadata": {},
   "outputs": [],
   "source": [
    "df.to_csv('D:\\\\DATA SCIENCE Internship with LGMVIP\\\\data\\\\globalterrorism_clean.csv', index=False)"
   ]
  },
  {
   "cell_type": "code",
   "execution_count": null,
   "id": "864bf9a9",
   "metadata": {},
   "outputs": [],
   "source": []
  },
  {
   "cell_type": "markdown",
   "id": "42a59cb1",
   "metadata": {},
   "source": [
    "### To see complete data analysis on Terrorist Hotspot detection go to Tableau link."
   ]
  },
  {
   "cell_type": "markdown",
   "id": "f5548a6f",
   "metadata": {},
   "source": [
    "### Tableau Dashboard Link: https://public.tableau.com/app/profile/suraj.honkamble/viz/TerroristHostspotDetectionDashboard/Dashboard"
   ]
  },
  {
   "cell_type": "code",
   "execution_count": null,
   "id": "afe34a6c",
   "metadata": {},
   "outputs": [],
   "source": []
  }
 ],
 "metadata": {
  "kernelspec": {
   "display_name": "Python 3 (ipykernel)",
   "language": "python",
   "name": "python3"
  },
  "language_info": {
   "codemirror_mode": {
    "name": "ipython",
    "version": 3
   },
   "file_extension": ".py",
   "mimetype": "text/x-python",
   "name": "python",
   "nbconvert_exporter": "python",
   "pygments_lexer": "ipython3",
   "version": "3.9.7"
  }
 },
 "nbformat": 4,
 "nbformat_minor": 5
}
